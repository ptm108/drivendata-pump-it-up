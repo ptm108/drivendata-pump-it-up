{
 "cells": [
  {
   "cell_type": "markdown",
   "metadata": {
    "id": "6Esdf3kR0oQb"
   },
   "source": [
    "# Team Info"
   ]
  },
  {
   "cell_type": "markdown",
   "metadata": {
    "id": "fsJmJqqE6Abo"
   },
   "source": [
    "**IS4242 Project**\n",
    "\n",
    "Driven Data Team Name: **Zup cai peng**\n",
    "\n",
    "Team Members:\n",
    "\n",
    "*   Chen Ri Sheng (A0182448X)\n",
    "*   Phang Tze Ming (A0184247Y)\n",
    "\n",
    "\n"
   ]
  },
  {
   "cell_type": "markdown",
   "metadata": {
    "id": "jCx0MPTYAOsU"
   },
   "source": [
    "# Part 2: Prescriptive Analytics"
   ]
  },
  {
   "cell_type": "code",
   "execution_count": 1,
   "metadata": {
    "colab": {
     "base_uri": "https://localhost:8080/"
    },
    "id": "ZpgtygxjAYSu",
    "outputId": "9339f32b-a055-4434-fbb2-b1d667ebaa9e"
   },
   "outputs": [
    {
     "name": "stdout",
     "output_type": "stream",
     "text": [
      "Requirement already satisfied: pyomo in /Users/p.tm/opt/anaconda3/lib/python3.8/site-packages (5.7)\n",
      "Requirement already satisfied: ply in /Users/p.tm/opt/anaconda3/lib/python3.8/site-packages (from pyomo) (3.11)\n",
      "Requirement already satisfied: appdirs in /Users/p.tm/opt/anaconda3/lib/python3.8/site-packages (from pyomo) (1.4.4)\n",
      "Requirement already satisfied: six>=1.4 in /Users/p.tm/opt/anaconda3/lib/python3.8/site-packages (from pyomo) (1.15.0)\n",
      "Requirement already satisfied: PyUtilib>=6.0.0 in /Users/p.tm/opt/anaconda3/lib/python3.8/site-packages (from pyomo) (6.0.0)\n",
      "Requirement already satisfied: nose in /Users/p.tm/opt/anaconda3/lib/python3.8/site-packages (from PyUtilib>=6.0.0->pyomo) (1.3.7)\n",
      "\u001b[33mWARNING: You are using pip version 20.2.2; however, version 20.2.4 is available.\n",
      "You should consider upgrading via the '/Users/p.tm/opt/anaconda3/bin/python -m pip install --upgrade pip' command.\u001b[0m\n",
      "Note: you may need to restart the kernel to use updated packages.\n"
     ]
    }
   ],
   "source": [
    "pip install pyomo"
   ]
  },
  {
   "cell_type": "code",
   "execution_count": 2,
   "metadata": {
    "id": "Dp7C5w1dAufl"
   },
   "outputs": [],
   "source": [
    "import pyomo.environ as pe\n",
    "import pandas as pd\n",
    "import numpy as np\n",
    "import matplotlib.pyplot as plt\n",
    "from math import sin, cos, sqrt, atan2, radians"
   ]
  },
  {
   "cell_type": "markdown",
   "metadata": {},
   "source": [
    "## Preprocessing"
   ]
  },
  {
   "cell_type": "markdown",
   "metadata": {},
   "source": [
    "We are combining our training and test data with our predicted y labels using our best model from Part 1."
   ]
  },
  {
   "cell_type": "code",
   "execution_count": 3,
   "metadata": {
    "id": "4VioubDSAwZt"
   },
   "outputs": [],
   "source": [
    "x_train = pd.read_csv('x_train.csv')\n",
    "x_test = pd.read_csv('x_test.csv')\n",
    "y_train = pd.read_csv('y_train.csv')\n",
    "\n",
    "# for y_pred_best, we are using the results from part 1 of the project, where we have obtained the score of 0.7830\n",
    "y_pred_best = pd.read_csv('y_pred_best.csv')"
   ]
  },
  {
   "cell_type": "code",
   "execution_count": 4,
   "metadata": {},
   "outputs": [],
   "source": [
    "# left join the dataframes for train set\n",
    "trainset = pd.merge(x_train, y_train, left_on='id', right_on='id', how='left')\n",
    "# trainset"
   ]
  },
  {
   "cell_type": "code",
   "execution_count": 5,
   "metadata": {},
   "outputs": [],
   "source": [
    "# left join the dataframes for test set\n",
    "testset = pd.merge(x_test, y_pred_best, left_on='id', right_on='id', how='left')\n",
    "# testset"
   ]
  },
  {
   "cell_type": "code",
   "execution_count": 6,
   "metadata": {},
   "outputs": [
    {
     "data": {
      "text/plain": [
       "(74250, 41)"
      ]
     },
     "execution_count": 6,
     "metadata": {},
     "output_type": "execute_result"
    }
   ],
   "source": [
    "# combining test set and train set into 1 dataframe\n",
    "totalset = pd.concat([trainset, testset], ignore_index=True)\n",
    "totalset.shape"
   ]
  },
  {
   "cell_type": "markdown",
   "metadata": {},
   "source": [
    "Here we extract the necessary features for our optimization model."
   ]
  },
  {
   "cell_type": "code",
   "execution_count": 7,
   "metadata": {},
   "outputs": [
    {
     "data": {
      "text/plain": [
       "(74250, 7)"
      ]
     },
     "execution_count": 7,
     "metadata": {},
     "output_type": "execute_result"
    }
   ],
   "source": [
    "# Remove unecessary features that we are not considering for this analytics\n",
    "dataset = totalset[['status_group', 'amount_tsh', 'lga', 'population', 'longitude', 'latitude', 'wpt_name']]\n",
    "dataset.shape"
   ]
  },
  {
   "cell_type": "code",
   "execution_count": 8,
   "metadata": {},
   "outputs": [
    {
     "name": "stdout",
     "output_type": "stream",
     "text": [
      "<class 'pandas.core.frame.DataFrame'>\n",
      "RangeIndex: 74250 entries, 0 to 74249\n",
      "Data columns (total 7 columns):\n",
      " #   Column        Non-Null Count  Dtype  \n",
      "---  ------        --------------  -----  \n",
      " 0   status_group  74250 non-null  object \n",
      " 1   amount_tsh    74250 non-null  float64\n",
      " 2   lga           74250 non-null  object \n",
      " 3   population    74250 non-null  int64  \n",
      " 4   longitude     74250 non-null  float64\n",
      " 5   latitude      74250 non-null  float64\n",
      " 6   wpt_name      74250 non-null  object \n",
      "dtypes: float64(3), int64(1), object(3)\n",
      "memory usage: 4.0+ MB\n"
     ]
    }
   ],
   "source": [
    "dataset.info()"
   ]
  },
  {
   "cell_type": "markdown",
   "metadata": {},
   "source": [
    "Here we drop the rows that have no location information, no name, no surrounding populations or pumps that need repair. "
   ]
  },
  {
   "cell_type": "code",
   "execution_count": 9,
   "metadata": {},
   "outputs": [
    {
     "data": {
      "text/html": [
       "<div>\n",
       "<style scoped>\n",
       "    .dataframe tbody tr th:only-of-type {\n",
       "        vertical-align: middle;\n",
       "    }\n",
       "\n",
       "    .dataframe tbody tr th {\n",
       "        vertical-align: top;\n",
       "    }\n",
       "\n",
       "    .dataframe thead th {\n",
       "        text-align: right;\n",
       "    }\n",
       "</style>\n",
       "<table border=\"1\" class=\"dataframe\">\n",
       "  <thead>\n",
       "    <tr style=\"text-align: right;\">\n",
       "      <th></th>\n",
       "      <th>status_group</th>\n",
       "      <th>amount_tsh</th>\n",
       "      <th>lga</th>\n",
       "      <th>population</th>\n",
       "      <th>longitude</th>\n",
       "      <th>latitude</th>\n",
       "      <th>wpt_name</th>\n",
       "    </tr>\n",
       "  </thead>\n",
       "  <tbody>\n",
       "    <tr>\n",
       "      <th>1</th>\n",
       "      <td>functional</td>\n",
       "      <td>0.0</td>\n",
       "      <td>Serengeti</td>\n",
       "      <td>280</td>\n",
       "      <td>34.698766</td>\n",
       "      <td>-2.147466</td>\n",
       "      <td>Zahanati</td>\n",
       "    </tr>\n",
       "    <tr>\n",
       "      <th>2</th>\n",
       "      <td>functional</td>\n",
       "      <td>25.0</td>\n",
       "      <td>Simanjiro</td>\n",
       "      <td>250</td>\n",
       "      <td>37.460664</td>\n",
       "      <td>-3.821329</td>\n",
       "      <td>Kwa Mahundi</td>\n",
       "    </tr>\n",
       "    <tr>\n",
       "      <th>3</th>\n",
       "      <td>non functional</td>\n",
       "      <td>0.0</td>\n",
       "      <td>Nanyumbu</td>\n",
       "      <td>58</td>\n",
       "      <td>38.486161</td>\n",
       "      <td>-11.155298</td>\n",
       "      <td>Zahanati Ya Nanyumbu</td>\n",
       "    </tr>\n",
       "    <tr>\n",
       "      <th>5</th>\n",
       "      <td>functional</td>\n",
       "      <td>20.0</td>\n",
       "      <td>Mkinga</td>\n",
       "      <td>1</td>\n",
       "      <td>39.172796</td>\n",
       "      <td>-4.765587</td>\n",
       "      <td>Tajiri</td>\n",
       "    </tr>\n",
       "    <tr>\n",
       "      <th>10</th>\n",
       "      <td>functional</td>\n",
       "      <td>0.0</td>\n",
       "      <td>Mkuranga</td>\n",
       "      <td>345</td>\n",
       "      <td>39.209518</td>\n",
       "      <td>-7.034139</td>\n",
       "      <td>Mzee Hokororo</td>\n",
       "    </tr>\n",
       "    <tr>\n",
       "      <th>...</th>\n",
       "      <td>...</td>\n",
       "      <td>...</td>\n",
       "      <td>...</td>\n",
       "      <td>...</td>\n",
       "      <td>...</td>\n",
       "      <td>...</td>\n",
       "      <td>...</td>\n",
       "    </tr>\n",
       "    <tr>\n",
       "      <th>74243</th>\n",
       "      <td>non functional</td>\n",
       "      <td>0.0</td>\n",
       "      <td>Kigoma Rural</td>\n",
       "      <td>1400</td>\n",
       "      <td>29.768139</td>\n",
       "      <td>-4.480618</td>\n",
       "      <td>Mwandami</td>\n",
       "    </tr>\n",
       "    <tr>\n",
       "      <th>74245</th>\n",
       "      <td>functional</td>\n",
       "      <td>0.0</td>\n",
       "      <td>Bagamoyo</td>\n",
       "      <td>20</td>\n",
       "      <td>38.852669</td>\n",
       "      <td>-6.582841</td>\n",
       "      <td>Kwambwezi</td>\n",
       "    </tr>\n",
       "    <tr>\n",
       "      <th>74246</th>\n",
       "      <td>functional</td>\n",
       "      <td>1000.0</td>\n",
       "      <td>Kilindi</td>\n",
       "      <td>2960</td>\n",
       "      <td>37.451633</td>\n",
       "      <td>-5.350428</td>\n",
       "      <td>Bonde La Mkondoa</td>\n",
       "    </tr>\n",
       "    <tr>\n",
       "      <th>74248</th>\n",
       "      <td>functional</td>\n",
       "      <td>0.0</td>\n",
       "      <td>Songea Rural</td>\n",
       "      <td>150</td>\n",
       "      <td>35.432732</td>\n",
       "      <td>-10.584159</td>\n",
       "      <td>Kwa John</td>\n",
       "    </tr>\n",
       "    <tr>\n",
       "      <th>74249</th>\n",
       "      <td>non functional</td>\n",
       "      <td>0.0</td>\n",
       "      <td>Mbinga</td>\n",
       "      <td>40</td>\n",
       "      <td>34.765054</td>\n",
       "      <td>-11.226012</td>\n",
       "      <td>Kwa Mzee Chagala</td>\n",
       "    </tr>\n",
       "  </tbody>\n",
       "</table>\n",
       "<p>41899 rows × 7 columns</p>\n",
       "</div>"
      ],
      "text/plain": [
       "         status_group  amount_tsh           lga  population  longitude  \\\n",
       "1          functional         0.0     Serengeti         280  34.698766   \n",
       "2          functional        25.0     Simanjiro         250  37.460664   \n",
       "3      non functional         0.0      Nanyumbu          58  38.486161   \n",
       "5          functional        20.0        Mkinga           1  39.172796   \n",
       "10         functional         0.0      Mkuranga         345  39.209518   \n",
       "...               ...         ...           ...         ...        ...   \n",
       "74243  non functional         0.0  Kigoma Rural        1400  29.768139   \n",
       "74245      functional         0.0      Bagamoyo          20  38.852669   \n",
       "74246      functional      1000.0       Kilindi        2960  37.451633   \n",
       "74248      functional         0.0  Songea Rural         150  35.432732   \n",
       "74249  non functional         0.0        Mbinga          40  34.765054   \n",
       "\n",
       "        latitude              wpt_name  \n",
       "1      -2.147466              Zahanati  \n",
       "2      -3.821329           Kwa Mahundi  \n",
       "3     -11.155298  Zahanati Ya Nanyumbu  \n",
       "5      -4.765587                Tajiri  \n",
       "10     -7.034139         Mzee Hokororo  \n",
       "...          ...                   ...  \n",
       "74243  -4.480618              Mwandami  \n",
       "74245  -6.582841             Kwambwezi  \n",
       "74246  -5.350428      Bonde La Mkondoa  \n",
       "74248 -10.584159              Kwa John  \n",
       "74249 -11.226012      Kwa Mzee Chagala  \n",
       "\n",
       "[41899 rows x 7 columns]"
      ]
     },
     "execution_count": 9,
     "metadata": {},
     "output_type": "execute_result"
    }
   ],
   "source": [
    "# based on the assumptions and the preprocessing steps in the project slides, we are getting the needed rows with the relevant column values\n",
    "dataset = dataset[dataset.status_group != 'functional needs repair']\n",
    "dataset = dataset[dataset.population > 0]\n",
    "dataset = dataset[dataset.wpt_name != 'none']\n",
    "dataset = dataset[dataset.lga != 'none']\n",
    "dataset"
   ]
  },
  {
   "cell_type": "markdown",
   "metadata": {},
   "source": [
    "## Constructing the Model"
   ]
  },
  {
   "cell_type": "markdown",
   "metadata": {},
   "source": [
    "Here we seperate the functional pumps from the non functional."
   ]
  },
  {
   "cell_type": "code",
   "execution_count": 10,
   "metadata": {},
   "outputs": [
    {
     "name": "stdout",
     "output_type": "stream",
     "text": [
      "Functional shape:  (24987, 7)\n",
      "Non-functional shape:  (16912, 7)\n"
     ]
    },
    {
     "data": {
      "text/plain": [
       "(155, 7)"
      ]
     },
     "execution_count": 10,
     "metadata": {},
     "output_type": "execute_result"
    }
   ],
   "source": [
    "# separate functional and non-functional pumps\n",
    "functional = dataset[dataset.status_group != 'non functional']\n",
    "non_functional = dataset[dataset.status_group != 'functional']\n",
    "\n",
    "print('Functional shape: ', functional.shape)\n",
    "print('Non-functional shape: ', non_functional.shape)\n",
    "\n",
    "non_functional = non_functional[non_functional.lga == 'Nanyumbu']\n",
    "non_functional.shape"
   ]
  },
  {
   "cell_type": "markdown",
   "metadata": {},
   "source": [
    "Our objective here is to minimize the total cost to serve water to everyone. To do that, we identified 2 variables that directly affect the cost:\n",
    "+ A **binary variable** that determines the pump should be replaced: $x_i$, where `i` refers to non-functioning pump `i`\n",
    "+ A **binary variable** that determines the pump should have water transported from the nearest functioning pump: $y_i$, where `i` refers to non-functioning pump `i`\n",
    "\n",
    "To minimize the total cost:\n",
    "$$\\sum_{i=1}^n x_i (100 + 0.05 * P_i.TSH) + y_i(100 + 2000 * d)$$\n",
    "Where \n",
    "+ `n` : total number of non-functioning pumps\n",
    "+ $P_i.TSH$ : `amount_tsh` of non-functioning pump i\n",
    "+ `d` : Euclidean distance between $P_i$ and its nearest functioning pump"
   ]
  },
  {
   "cell_type": "markdown",
   "metadata": {},
   "source": [
    "Next we define a method that will construct a ConcreteModel based on the LGA specified by the client. For the model, we have identified the following constraints:\n",
    "\n",
    "+ *Pump Constraint* : Non-functioning pumps must either be replaced or draw water from its nearest function pump\n",
    "+ *Population Constraint* : The sum of the population of non-functioning pumps that is drawing water from a functioning pump must be less that it's population (assuming functioning pumps can serve twice as many as its surrounding population) \n",
    "\n",
    "We translated these constraints into the following:\n",
    "+ Pump Constraint: $\\quad x_i + y_i == 1 \\quad$ for each non-functioning pump i = 1 to n \n",
    "+ Population Constraint: $\\quad \\sum_{i=1}^m P_i.population < z_j \\quad$ for each functioning pump $z$ and `m` non-functioning pumps drawing water from $z$"
   ]
  },
  {
   "cell_type": "markdown",
   "metadata": {},
   "source": [
    "In this method, we also defined the following helper methods:\n",
    "+ `get_euclidean_dist` : takes in 2 pumps as parameters and returns the euclidean distance\n",
    "+ `get_nearest_pump` : takes in a non-functioning pump and returns the nearest functioning pump that has a higher population"
   ]
  },
  {
   "cell_type": "code",
   "execution_count": 11,
   "metadata": {},
   "outputs": [],
   "source": [
    "def create_model(LGA): \n",
    "    # instantiate our model\n",
    "    pump = pe.ConcreteModel(name=f'Replace or not: {LGA}')\n",
    "\n",
    "    # get the functional and non-functional pumps within the LGA\n",
    "    lga_functional = functional[functional.lga == LGA]\n",
    "    lga_non_functional = non_functional[non_functional.lga == LGA]\n",
    "    \n",
    "    # converting the pump lists to indices\n",
    "    func_id = lga_functional.index.tolist()\n",
    "    non_func_id = lga_non_functional.index.tolist()\n",
    "    \n",
    "    # declaring the variables\n",
    "    pump.replace = pe.Var(non_func_id, domain=pe.Binary, initialize=0)\n",
    "    pump.transport = pe.Var(non_func_id, domain=pe.Binary, initialize=0)\n",
    "    \n",
    "    # helper method\n",
    "    def get_euc_dist(non_func_pump, func_pump):\n",
    "      lat_diff = non_func_pump.latitude - func_pump.latitude\n",
    "      lng_diff = non_func_pump.longitude - func_pump.longitude\n",
    "\n",
    "      return sqrt(pow(lat_diff, 2) + pow(lng_diff, 2))\n",
    "\n",
    "    # helper method\n",
    "    def get_nearest_pump(pump):\n",
    "      nearest = functional.iloc[0]\n",
    "      nearest_dist = get_euc_dist(pump, lga_functional.iloc[0])\n",
    "\n",
    "      for id in lga_functional.index.tolist():\n",
    "        func_pump = lga_functional.loc[id]\n",
    "        dist = get_euc_dist(pump, func_pump)\n",
    "        if dist < nearest_dist and pump.population <= func_pump.population:\n",
    "          nearest_dist = dist\n",
    "          nearest = lga_functional.loc[id]  \n",
    "      return nearest\n",
    "    \n",
    "    # Pump constraint\n",
    "    def pumpcon_rule(model, i):\n",
    "      return model.replace[i] + model.transport[i] == 1\n",
    "    pump.pumpcon = pe.Constraint(non_func_id, rule=pumpcon_rule)\n",
    "    \n",
    "    # Population constraint\n",
    "    def popcon_rule(model, i):\n",
    "        population = []\n",
    "        for id in non_func_id:\n",
    "            curr_pump = non_functional.loc[id]\n",
    "            if model.transport[id] != 0 and nearest_pump_mapping[id] == i:\n",
    "                population.append(curr_pump.population)\n",
    "        # end for\n",
    "        return (0, sum(population), functional.loc[i].population)\n",
    "    pump.popcon = pe.Constraint(func_id, rule=popcon_rule)\n",
    "    \n",
    "    # Objective to minimize\n",
    "    def obj_rule(model):\n",
    "      costs = 0\n",
    "      for id in non_func_id:\n",
    "        pump = lga_non_functional.loc[id]\n",
    "        costs += model.replace[id] * (100 + 0.05 * pump.amount_tsh)\n",
    "        costs += model.transport[id] * (100 + 2000 * get_euc_dist(pump, get_nearest_pump(pump)))\n",
    "      return costs\n",
    "\n",
    "    pump.obj = pe.Objective(rule=obj_rule, sense=pe.minimize)\n",
    "    \n",
    "    return pump"
   ]
  },
  {
   "cell_type": "markdown",
   "metadata": {},
   "source": [
    "Next, we define a method that takes in the LGA and returns the list of pumps that needs to be replaced as well as the total cost of replacing these pumps or transporting water from the nearest available functioning pump. \n",
    "\n",
    "For this, we assumed that the non-functioning pumps within a specified LGA can only transport water from functioning pumps within the same LGA. **We did not consider functioning pumps outside of the specified LGA.**"
   ]
  },
  {
   "cell_type": "code",
   "execution_count": 12,
   "metadata": {},
   "outputs": [],
   "source": [
    "def get_pumps_and_cost(LGA):\n",
    "    instance = create_model(LGA)\n",
    "    pe.SolverFactory('glpk').solve(instance)\n",
    "    \n",
    "    pumps = []\n",
    "    for id in instance.replace:\n",
    "        if instance.replace[id].value == 1:\n",
    "            pump = non_functional.loc[id]\n",
    "            pumps.append(pump.wpt_name)\n",
    "    \n",
    "    return pumps, instance.obj.expr()\n",
    "    "
   ]
  },
  {
   "cell_type": "markdown",
   "metadata": {},
   "source": [
    "The following is the sample usage and output of our model."
   ]
  },
  {
   "cell_type": "code",
   "execution_count": 13,
   "metadata": {},
   "outputs": [
    {
     "name": "stdout",
     "output_type": "stream",
     "text": [
      "         Pumps to replace\n",
      "0    Zahanati Ya Nanyumbu\n",
      "1       Kwa Zena Rajabu 2\n",
      "2                Namajani\n",
      "3               Kwa Peter\n",
      "4                 Mission\n",
      "..                    ...\n",
      "147              Mianzini\n",
      "148  Kwa Juma Idi Kambutu\n",
      "149        Kwa Amiri Abed\n",
      "150     Kwa Mwenye Nipoto\n",
      "151              Mkwajuni\n",
      "\n",
      "[152 rows x 1 columns]\n",
      "Total cost: $15527.59\n"
     ]
    }
   ],
   "source": [
    "pumps, total_cost = get_pumps_and_cost('Nanyumbu')\n",
    "print(pd.DataFrame(pumps, columns=['Pumps to replace']))\n",
    "print('Total cost: ${:0.2f}'.format(total_cost))"
   ]
  },
  {
   "cell_type": "code",
   "execution_count": null,
   "metadata": {},
   "outputs": [],
   "source": []
  }
 ],
 "metadata": {
  "colab": {
   "collapsed_sections": [
    "6Esdf3kR0oQb",
    "X2AeL43oE031",
    "4pnHPbpB3V_O",
    "9hw8BPPn0b5Q",
    "6o-YId1O1HYg",
    "hhcf7D750XBf"
   ],
   "name": "IS4242 Project.ipynb",
   "provenance": [],
   "toc_visible": true
  },
  "kernelspec": {
   "display_name": "Python 3",
   "language": "python",
   "name": "python3"
  },
  "language_info": {
   "codemirror_mode": {
    "name": "ipython",
    "version": 3
   },
   "file_extension": ".py",
   "mimetype": "text/x-python",
   "name": "python",
   "nbconvert_exporter": "python",
   "pygments_lexer": "ipython3",
   "version": "3.8.3"
  }
 },
 "nbformat": 4,
 "nbformat_minor": 1
}
