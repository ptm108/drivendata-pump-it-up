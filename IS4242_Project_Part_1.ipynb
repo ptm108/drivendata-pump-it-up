{
 "cells": [
  {
   "cell_type": "markdown",
   "metadata": {
    "id": "6Esdf3kR0oQb"
   },
   "source": [
    "# Team Info"
   ]
  },
  {
   "cell_type": "markdown",
   "metadata": {
    "id": "fsJmJqqE6Abo"
   },
   "source": [
    "**IS4242 Project**\n",
    "\n",
    "Driven Data Team Name: **Zup cai peng**\n",
    "\n",
    "Team Members:\n",
    "\n",
    "*   Chen Ri Sheng (A0182448X)\n",
    "*   Phang Tze Ming (A0184247Y)\n",
    "\n",
    "\n"
   ]
  },
  {
   "cell_type": "markdown",
   "metadata": {
    "id": "-uC5jYk903LT"
   },
   "source": [
    "# Part 1: First Submission"
   ]
  },
  {
   "cell_type": "markdown",
   "metadata": {
    "id": "X2AeL43oE031"
   },
   "source": [
    "## 1. Data Exploration"
   ]
  },
  {
   "cell_type": "markdown",
   "metadata": {
    "id": "Ok_uFNgL185q"
   },
   "source": [
    "In this section, we are importing the training data to explore the various features in the provided csv files. "
   ]
  },
  {
   "cell_type": "code",
   "execution_count": null,
   "metadata": {
    "colab": {
     "base_uri": "https://localhost:8080/"
    },
    "id": "vHxksQaA5-xd",
    "outputId": "fad5fca9-9e6d-49e0-b21d-183493007190"
   },
   "outputs": [
    {
     "name": "stdout",
     "output_type": "stream",
     "text": [
      "<class 'pandas.core.frame.DataFrame'>\n",
      "RangeIndex: 21703 entries, 0 to 21702\n",
      "Data columns (total 40 columns):\n",
      " #   Column                 Non-Null Count  Dtype  \n",
      "---  ------                 --------------  -----  \n",
      " 0   id                     21703 non-null  int64  \n",
      " 1   amount_tsh             21703 non-null  float64\n",
      " 2   date_recorded          21703 non-null  object \n",
      " 3   funder                 20378 non-null  object \n",
      " 4   gps_height             21703 non-null  int64  \n",
      " 5   installer              20370 non-null  object \n",
      " 6   longitude              21703 non-null  float64\n",
      " 7   latitude               21703 non-null  float64\n",
      " 8   wpt_name               21703 non-null  object \n",
      " 9   num_private            21703 non-null  int64  \n",
      " 10  basin                  21702 non-null  object \n",
      " 11  subvillage             21569 non-null  object \n",
      " 12  region                 21702 non-null  object \n",
      " 13  region_code            21702 non-null  float64\n",
      " 14  district_code          21702 non-null  float64\n",
      " 15  lga                    21702 non-null  object \n",
      " 16  ward                   21702 non-null  object \n",
      " 17  population             21702 non-null  float64\n",
      " 18  public_meeting         20450 non-null  object \n",
      " 19  recorded_by            21702 non-null  object \n",
      " 20  scheme_management      20252 non-null  object \n",
      " 21  scheme_name            11336 non-null  object \n",
      " 22  permit                 20583 non-null  object \n",
      " 23  construction_year      21702 non-null  float64\n",
      " 24  extraction_type        21702 non-null  object \n",
      " 25  extraction_type_group  21702 non-null  object \n",
      " 26  extraction_type_class  21702 non-null  object \n",
      " 27  management             21702 non-null  object \n",
      " 28  management_group       21702 non-null  object \n",
      " 29  payment                21702 non-null  object \n",
      " 30  payment_type           21702 non-null  object \n",
      " 31  water_quality          21702 non-null  object \n",
      " 32  quality_group          21702 non-null  object \n",
      " 33  quantity               21702 non-null  object \n",
      " 34  quantity_group         21702 non-null  object \n",
      " 35  source                 21702 non-null  object \n",
      " 36  source_type            21702 non-null  object \n",
      " 37  source_class           21702 non-null  object \n",
      " 38  waterpoint_type        21702 non-null  object \n",
      " 39  waterpoint_type_group  21702 non-null  object \n",
      "dtypes: float64(7), int64(3), object(30)\n",
      "memory usage: 6.6+ MB\n"
     ]
    },
    {
     "data": {
      "text/html": [
       "<div>\n",
       "<style scoped>\n",
       "    .dataframe tbody tr th:only-of-type {\n",
       "        vertical-align: middle;\n",
       "    }\n",
       "\n",
       "    .dataframe tbody tr th {\n",
       "        vertical-align: top;\n",
       "    }\n",
       "\n",
       "    .dataframe thead th {\n",
       "        text-align: right;\n",
       "    }\n",
       "</style>\n",
       "<table border=\"1\" class=\"dataframe\">\n",
       "  <thead>\n",
       "    <tr style=\"text-align: right;\">\n",
       "      <th></th>\n",
       "      <th>id</th>\n",
       "      <th>amount_tsh</th>\n",
       "      <th>date_recorded</th>\n",
       "      <th>funder</th>\n",
       "      <th>gps_height</th>\n",
       "      <th>installer</th>\n",
       "      <th>longitude</th>\n",
       "      <th>latitude</th>\n",
       "      <th>wpt_name</th>\n",
       "      <th>num_private</th>\n",
       "      <th>basin</th>\n",
       "      <th>subvillage</th>\n",
       "      <th>region</th>\n",
       "      <th>region_code</th>\n",
       "      <th>district_code</th>\n",
       "      <th>lga</th>\n",
       "      <th>ward</th>\n",
       "      <th>population</th>\n",
       "      <th>public_meeting</th>\n",
       "      <th>recorded_by</th>\n",
       "      <th>scheme_management</th>\n",
       "      <th>scheme_name</th>\n",
       "      <th>permit</th>\n",
       "      <th>construction_year</th>\n",
       "      <th>extraction_type</th>\n",
       "      <th>extraction_type_group</th>\n",
       "      <th>extraction_type_class</th>\n",
       "      <th>management</th>\n",
       "      <th>management_group</th>\n",
       "      <th>payment</th>\n",
       "      <th>payment_type</th>\n",
       "      <th>water_quality</th>\n",
       "      <th>quality_group</th>\n",
       "      <th>quantity</th>\n",
       "      <th>quantity_group</th>\n",
       "      <th>source</th>\n",
       "      <th>source_type</th>\n",
       "      <th>source_class</th>\n",
       "      <th>waterpoint_type</th>\n",
       "      <th>waterpoint_type_group</th>\n",
       "    </tr>\n",
       "  </thead>\n",
       "  <tbody>\n",
       "    <tr>\n",
       "      <th>0</th>\n",
       "      <td>69572</td>\n",
       "      <td>6000.0</td>\n",
       "      <td>2011-03-14</td>\n",
       "      <td>Roman</td>\n",
       "      <td>1390</td>\n",
       "      <td>Roman</td>\n",
       "      <td>34.938093</td>\n",
       "      <td>-9.856322</td>\n",
       "      <td>none</td>\n",
       "      <td>0</td>\n",
       "      <td>Lake Nyasa</td>\n",
       "      <td>Mnyusi B</td>\n",
       "      <td>Iringa</td>\n",
       "      <td>11.0</td>\n",
       "      <td>5.0</td>\n",
       "      <td>Ludewa</td>\n",
       "      <td>Mundindi</td>\n",
       "      <td>109.0</td>\n",
       "      <td>True</td>\n",
       "      <td>GeoData Consultants Ltd</td>\n",
       "      <td>VWC</td>\n",
       "      <td>Roman</td>\n",
       "      <td>False</td>\n",
       "      <td>1999.0</td>\n",
       "      <td>gravity</td>\n",
       "      <td>gravity</td>\n",
       "      <td>gravity</td>\n",
       "      <td>vwc</td>\n",
       "      <td>user-group</td>\n",
       "      <td>pay annually</td>\n",
       "      <td>annually</td>\n",
       "      <td>soft</td>\n",
       "      <td>good</td>\n",
       "      <td>enough</td>\n",
       "      <td>enough</td>\n",
       "      <td>spring</td>\n",
       "      <td>spring</td>\n",
       "      <td>groundwater</td>\n",
       "      <td>communal standpipe</td>\n",
       "      <td>communal standpipe</td>\n",
       "    </tr>\n",
       "    <tr>\n",
       "      <th>1</th>\n",
       "      <td>8776</td>\n",
       "      <td>0.0</td>\n",
       "      <td>2013-03-06</td>\n",
       "      <td>Grumeti</td>\n",
       "      <td>1399</td>\n",
       "      <td>GRUMETI</td>\n",
       "      <td>34.698766</td>\n",
       "      <td>-2.147466</td>\n",
       "      <td>Zahanati</td>\n",
       "      <td>0</td>\n",
       "      <td>Lake Victoria</td>\n",
       "      <td>Nyamara</td>\n",
       "      <td>Mara</td>\n",
       "      <td>20.0</td>\n",
       "      <td>2.0</td>\n",
       "      <td>Serengeti</td>\n",
       "      <td>Natta</td>\n",
       "      <td>280.0</td>\n",
       "      <td>NaN</td>\n",
       "      <td>GeoData Consultants Ltd</td>\n",
       "      <td>Other</td>\n",
       "      <td>NaN</td>\n",
       "      <td>True</td>\n",
       "      <td>2010.0</td>\n",
       "      <td>gravity</td>\n",
       "      <td>gravity</td>\n",
       "      <td>gravity</td>\n",
       "      <td>wug</td>\n",
       "      <td>user-group</td>\n",
       "      <td>never pay</td>\n",
       "      <td>never pay</td>\n",
       "      <td>soft</td>\n",
       "      <td>good</td>\n",
       "      <td>insufficient</td>\n",
       "      <td>insufficient</td>\n",
       "      <td>rainwater harvesting</td>\n",
       "      <td>rainwater harvesting</td>\n",
       "      <td>surface</td>\n",
       "      <td>communal standpipe</td>\n",
       "      <td>communal standpipe</td>\n",
       "    </tr>\n",
       "    <tr>\n",
       "      <th>2</th>\n",
       "      <td>34310</td>\n",
       "      <td>25.0</td>\n",
       "      <td>2013-02-25</td>\n",
       "      <td>Lottery Club</td>\n",
       "      <td>686</td>\n",
       "      <td>World vision</td>\n",
       "      <td>37.460664</td>\n",
       "      <td>-3.821329</td>\n",
       "      <td>Kwa Mahundi</td>\n",
       "      <td>0</td>\n",
       "      <td>Pangani</td>\n",
       "      <td>Majengo</td>\n",
       "      <td>Manyara</td>\n",
       "      <td>21.0</td>\n",
       "      <td>4.0</td>\n",
       "      <td>Simanjiro</td>\n",
       "      <td>Ngorika</td>\n",
       "      <td>250.0</td>\n",
       "      <td>True</td>\n",
       "      <td>GeoData Consultants Ltd</td>\n",
       "      <td>VWC</td>\n",
       "      <td>Nyumba ya mungu pipe scheme</td>\n",
       "      <td>True</td>\n",
       "      <td>2009.0</td>\n",
       "      <td>gravity</td>\n",
       "      <td>gravity</td>\n",
       "      <td>gravity</td>\n",
       "      <td>vwc</td>\n",
       "      <td>user-group</td>\n",
       "      <td>pay per bucket</td>\n",
       "      <td>per bucket</td>\n",
       "      <td>soft</td>\n",
       "      <td>good</td>\n",
       "      <td>enough</td>\n",
       "      <td>enough</td>\n",
       "      <td>dam</td>\n",
       "      <td>dam</td>\n",
       "      <td>surface</td>\n",
       "      <td>communal standpipe multiple</td>\n",
       "      <td>communal standpipe</td>\n",
       "    </tr>\n",
       "    <tr>\n",
       "      <th>3</th>\n",
       "      <td>67743</td>\n",
       "      <td>0.0</td>\n",
       "      <td>2013-01-28</td>\n",
       "      <td>Unicef</td>\n",
       "      <td>263</td>\n",
       "      <td>UNICEF</td>\n",
       "      <td>38.486161</td>\n",
       "      <td>-11.155298</td>\n",
       "      <td>Zahanati Ya Nanyumbu</td>\n",
       "      <td>0</td>\n",
       "      <td>Ruvuma / Southern Coast</td>\n",
       "      <td>Mahakamani</td>\n",
       "      <td>Mtwara</td>\n",
       "      <td>90.0</td>\n",
       "      <td>63.0</td>\n",
       "      <td>Nanyumbu</td>\n",
       "      <td>Nanyumbu</td>\n",
       "      <td>58.0</td>\n",
       "      <td>True</td>\n",
       "      <td>GeoData Consultants Ltd</td>\n",
       "      <td>VWC</td>\n",
       "      <td>NaN</td>\n",
       "      <td>True</td>\n",
       "      <td>1986.0</td>\n",
       "      <td>submersible</td>\n",
       "      <td>submersible</td>\n",
       "      <td>submersible</td>\n",
       "      <td>vwc</td>\n",
       "      <td>user-group</td>\n",
       "      <td>never pay</td>\n",
       "      <td>never pay</td>\n",
       "      <td>soft</td>\n",
       "      <td>good</td>\n",
       "      <td>dry</td>\n",
       "      <td>dry</td>\n",
       "      <td>machine dbh</td>\n",
       "      <td>borehole</td>\n",
       "      <td>groundwater</td>\n",
       "      <td>communal standpipe multiple</td>\n",
       "      <td>communal standpipe</td>\n",
       "    </tr>\n",
       "    <tr>\n",
       "      <th>4</th>\n",
       "      <td>19728</td>\n",
       "      <td>0.0</td>\n",
       "      <td>2011-07-13</td>\n",
       "      <td>Action In A</td>\n",
       "      <td>0</td>\n",
       "      <td>Artisan</td>\n",
       "      <td>31.130847</td>\n",
       "      <td>-1.825359</td>\n",
       "      <td>Shuleni</td>\n",
       "      <td>0</td>\n",
       "      <td>Lake Victoria</td>\n",
       "      <td>Kyanyamisa</td>\n",
       "      <td>Kagera</td>\n",
       "      <td>18.0</td>\n",
       "      <td>1.0</td>\n",
       "      <td>Karagwe</td>\n",
       "      <td>Nyakasimbi</td>\n",
       "      <td>0.0</td>\n",
       "      <td>True</td>\n",
       "      <td>GeoData Consultants Ltd</td>\n",
       "      <td>NaN</td>\n",
       "      <td>NaN</td>\n",
       "      <td>True</td>\n",
       "      <td>0.0</td>\n",
       "      <td>gravity</td>\n",
       "      <td>gravity</td>\n",
       "      <td>gravity</td>\n",
       "      <td>other</td>\n",
       "      <td>other</td>\n",
       "      <td>never pay</td>\n",
       "      <td>never pay</td>\n",
       "      <td>soft</td>\n",
       "      <td>good</td>\n",
       "      <td>seasonal</td>\n",
       "      <td>seasonal</td>\n",
       "      <td>rainwater harvesting</td>\n",
       "      <td>rainwater harvesting</td>\n",
       "      <td>surface</td>\n",
       "      <td>communal standpipe</td>\n",
       "      <td>communal standpipe</td>\n",
       "    </tr>\n",
       "    <tr>\n",
       "      <th>...</th>\n",
       "      <td>...</td>\n",
       "      <td>...</td>\n",
       "      <td>...</td>\n",
       "      <td>...</td>\n",
       "      <td>...</td>\n",
       "      <td>...</td>\n",
       "      <td>...</td>\n",
       "      <td>...</td>\n",
       "      <td>...</td>\n",
       "      <td>...</td>\n",
       "      <td>...</td>\n",
       "      <td>...</td>\n",
       "      <td>...</td>\n",
       "      <td>...</td>\n",
       "      <td>...</td>\n",
       "      <td>...</td>\n",
       "      <td>...</td>\n",
       "      <td>...</td>\n",
       "      <td>...</td>\n",
       "      <td>...</td>\n",
       "      <td>...</td>\n",
       "      <td>...</td>\n",
       "      <td>...</td>\n",
       "      <td>...</td>\n",
       "      <td>...</td>\n",
       "      <td>...</td>\n",
       "      <td>...</td>\n",
       "      <td>...</td>\n",
       "      <td>...</td>\n",
       "      <td>...</td>\n",
       "      <td>...</td>\n",
       "      <td>...</td>\n",
       "      <td>...</td>\n",
       "      <td>...</td>\n",
       "      <td>...</td>\n",
       "      <td>...</td>\n",
       "      <td>...</td>\n",
       "      <td>...</td>\n",
       "      <td>...</td>\n",
       "      <td>...</td>\n",
       "    </tr>\n",
       "    <tr>\n",
       "      <th>21698</th>\n",
       "      <td>60841</td>\n",
       "      <td>0.0</td>\n",
       "      <td>2012-10-18</td>\n",
       "      <td>World Vision</td>\n",
       "      <td>0</td>\n",
       "      <td>Consuting Engineer</td>\n",
       "      <td>33.013543</td>\n",
       "      <td>-4.196720</td>\n",
       "      <td>Igedeja</td>\n",
       "      <td>0</td>\n",
       "      <td>Internal</td>\n",
       "      <td>Igedeja</td>\n",
       "      <td>Tabora</td>\n",
       "      <td>14.0</td>\n",
       "      <td>1.0</td>\n",
       "      <td>Nzega</td>\n",
       "      <td>Itobo</td>\n",
       "      <td>0.0</td>\n",
       "      <td>True</td>\n",
       "      <td>GeoData Consultants Ltd</td>\n",
       "      <td>VWC</td>\n",
       "      <td>NaN</td>\n",
       "      <td>False</td>\n",
       "      <td>0.0</td>\n",
       "      <td>nira/tanira</td>\n",
       "      <td>nira/tanira</td>\n",
       "      <td>handpump</td>\n",
       "      <td>vwc</td>\n",
       "      <td>user-group</td>\n",
       "      <td>pay when scheme fails</td>\n",
       "      <td>on failure</td>\n",
       "      <td>soft</td>\n",
       "      <td>good</td>\n",
       "      <td>enough</td>\n",
       "      <td>enough</td>\n",
       "      <td>shallow well</td>\n",
       "      <td>shallow well</td>\n",
       "      <td>groundwater</td>\n",
       "      <td>hand pump</td>\n",
       "      <td>hand pump</td>\n",
       "    </tr>\n",
       "    <tr>\n",
       "      <th>21699</th>\n",
       "      <td>13021</td>\n",
       "      <td>6000.0</td>\n",
       "      <td>2011-02-23</td>\n",
       "      <td>Twe</td>\n",
       "      <td>1907</td>\n",
       "      <td>TWE</td>\n",
       "      <td>34.727100</td>\n",
       "      <td>-9.650347</td>\n",
       "      <td>none</td>\n",
       "      <td>0</td>\n",
       "      <td>Lake Nyasa</td>\n",
       "      <td>Igomelo</td>\n",
       "      <td>Iringa</td>\n",
       "      <td>11.0</td>\n",
       "      <td>4.0</td>\n",
       "      <td>Njombe</td>\n",
       "      <td>Matola</td>\n",
       "      <td>30.0</td>\n",
       "      <td>True</td>\n",
       "      <td>GeoData Consultants Ltd</td>\n",
       "      <td>VWC</td>\n",
       "      <td>Mangil</td>\n",
       "      <td>True</td>\n",
       "      <td>2007.0</td>\n",
       "      <td>gravity</td>\n",
       "      <td>gravity</td>\n",
       "      <td>gravity</td>\n",
       "      <td>vwc</td>\n",
       "      <td>user-group</td>\n",
       "      <td>pay annually</td>\n",
       "      <td>annually</td>\n",
       "      <td>soft</td>\n",
       "      <td>good</td>\n",
       "      <td>enough</td>\n",
       "      <td>enough</td>\n",
       "      <td>spring</td>\n",
       "      <td>spring</td>\n",
       "      <td>groundwater</td>\n",
       "      <td>communal standpipe</td>\n",
       "      <td>communal standpipe</td>\n",
       "    </tr>\n",
       "    <tr>\n",
       "      <th>21700</th>\n",
       "      <td>5705</td>\n",
       "      <td>0.0</td>\n",
       "      <td>2011-07-21</td>\n",
       "      <td>Concern World Wide</td>\n",
       "      <td>0</td>\n",
       "      <td>DWE</td>\n",
       "      <td>31.509489</td>\n",
       "      <td>-2.762117</td>\n",
       "      <td>Msasani</td>\n",
       "      <td>0</td>\n",
       "      <td>Lake Tanganyika</td>\n",
       "      <td>Rwembuzi</td>\n",
       "      <td>Kagera</td>\n",
       "      <td>18.0</td>\n",
       "      <td>4.0</td>\n",
       "      <td>Biharamulo</td>\n",
       "      <td>Runazi</td>\n",
       "      <td>0.0</td>\n",
       "      <td>True</td>\n",
       "      <td>GeoData Consultants Ltd</td>\n",
       "      <td>VWC</td>\n",
       "      <td>NaN</td>\n",
       "      <td>True</td>\n",
       "      <td>0.0</td>\n",
       "      <td>other</td>\n",
       "      <td>other</td>\n",
       "      <td>other</td>\n",
       "      <td>vwc</td>\n",
       "      <td>user-group</td>\n",
       "      <td>never pay</td>\n",
       "      <td>never pay</td>\n",
       "      <td>soft</td>\n",
       "      <td>good</td>\n",
       "      <td>insufficient</td>\n",
       "      <td>insufficient</td>\n",
       "      <td>shallow well</td>\n",
       "      <td>shallow well</td>\n",
       "      <td>groundwater</td>\n",
       "      <td>other</td>\n",
       "      <td>other</td>\n",
       "    </tr>\n",
       "    <tr>\n",
       "      <th>21701</th>\n",
       "      <td>10628</td>\n",
       "      <td>0.0</td>\n",
       "      <td>2013-02-19</td>\n",
       "      <td>Government Of Tanzania</td>\n",
       "      <td>1295</td>\n",
       "      <td>DWE</td>\n",
       "      <td>35.847184</td>\n",
       "      <td>-4.287547</td>\n",
       "      <td>Kwa Juma Nziga</td>\n",
       "      <td>0</td>\n",
       "      <td>Internal</td>\n",
       "      <td>Chalo A</td>\n",
       "      <td>Manyara</td>\n",
       "      <td>21.0</td>\n",
       "      <td>1.0</td>\n",
       "      <td>Simanjiro</td>\n",
       "      <td>Loibor Siret</td>\n",
       "      <td>120.0</td>\n",
       "      <td>True</td>\n",
       "      <td>GeoData Consultants Ltd</td>\n",
       "      <td>Water Board</td>\n",
       "      <td>Gallapo water supply</td>\n",
       "      <td>True</td>\n",
       "      <td>2010.0</td>\n",
       "      <td>gravity</td>\n",
       "      <td>gravity</td>\n",
       "      <td>gravity</td>\n",
       "      <td>vwc</td>\n",
       "      <td>user-group</td>\n",
       "      <td>never pay</td>\n",
       "      <td>never pay</td>\n",
       "      <td>soft</td>\n",
       "      <td>good</td>\n",
       "      <td>insufficient</td>\n",
       "      <td>insufficient</td>\n",
       "      <td>river</td>\n",
       "      <td>river/lake</td>\n",
       "      <td>surface</td>\n",
       "      <td>communal standpipe</td>\n",
       "      <td>communal standpipe</td>\n",
       "    </tr>\n",
       "    <tr>\n",
       "      <th>21702</th>\n",
       "      <td>16697</td>\n",
       "      <td>0.0</td>\n",
       "      <td>2011-07-20</td>\n",
       "      <td>Hesawa</td>\n",
       "      <td>0</td>\n",
       "      <td>DWE</td>\n",
       "      <td>33.271400</td>\n",
       "      <td>-2.518532</td>\n",
       "      <td>Mperani</td>\n",
       "      <td>0</td>\n",
       "      <td>NaN</td>\n",
       "      <td>NaN</td>\n",
       "      <td>NaN</td>\n",
       "      <td>NaN</td>\n",
       "      <td>NaN</td>\n",
       "      <td>NaN</td>\n",
       "      <td>NaN</td>\n",
       "      <td>NaN</td>\n",
       "      <td>NaN</td>\n",
       "      <td>NaN</td>\n",
       "      <td>NaN</td>\n",
       "      <td>NaN</td>\n",
       "      <td>NaN</td>\n",
       "      <td>NaN</td>\n",
       "      <td>NaN</td>\n",
       "      <td>NaN</td>\n",
       "      <td>NaN</td>\n",
       "      <td>NaN</td>\n",
       "      <td>NaN</td>\n",
       "      <td>NaN</td>\n",
       "      <td>NaN</td>\n",
       "      <td>NaN</td>\n",
       "      <td>NaN</td>\n",
       "      <td>NaN</td>\n",
       "      <td>NaN</td>\n",
       "      <td>NaN</td>\n",
       "      <td>NaN</td>\n",
       "      <td>NaN</td>\n",
       "      <td>NaN</td>\n",
       "      <td>NaN</td>\n",
       "    </tr>\n",
       "  </tbody>\n",
       "</table>\n",
       "<p>21703 rows × 40 columns</p>\n",
       "</div>"
      ],
      "text/plain": [
       "          id  amount_tsh  ...              waterpoint_type waterpoint_type_group\n",
       "0      69572      6000.0  ...           communal standpipe    communal standpipe\n",
       "1       8776         0.0  ...           communal standpipe    communal standpipe\n",
       "2      34310        25.0  ...  communal standpipe multiple    communal standpipe\n",
       "3      67743         0.0  ...  communal standpipe multiple    communal standpipe\n",
       "4      19728         0.0  ...           communal standpipe    communal standpipe\n",
       "...      ...         ...  ...                          ...                   ...\n",
       "21698  60841         0.0  ...                    hand pump             hand pump\n",
       "21699  13021      6000.0  ...           communal standpipe    communal standpipe\n",
       "21700   5705         0.0  ...                        other                 other\n",
       "21701  10628         0.0  ...           communal standpipe    communal standpipe\n",
       "21702  16697         0.0  ...                          NaN                   NaN\n",
       "\n",
       "[21703 rows x 40 columns]"
      ]
     },
     "execution_count": 1,
     "metadata": {
      "tags": []
     },
     "output_type": "execute_result"
    }
   ],
   "source": [
    "import pandas as pd\n",
    "import numpy as np\n",
    "\n",
    "import warnings\n",
    "warnings.filterwarnings(\"ignore\")\n",
    "\n",
    "x_train = pd.read_csv('x_train.csv')\n",
    "# x_train\n",
    "x_train.info()\n",
    "x_train"
   ]
  },
  {
   "cell_type": "code",
   "execution_count": null,
   "metadata": {
    "colab": {
     "base_uri": "https://localhost:8080/"
    },
    "id": "m2dSWkBg11M3",
    "outputId": "e32b2a93-3af5-454e-807a-2e27fda49e70"
   },
   "outputs": [
    {
     "data": {
      "text/html": [
       "<div>\n",
       "<style scoped>\n",
       "    .dataframe tbody tr th:only-of-type {\n",
       "        vertical-align: middle;\n",
       "    }\n",
       "\n",
       "    .dataframe tbody tr th {\n",
       "        vertical-align: top;\n",
       "    }\n",
       "\n",
       "    .dataframe thead th {\n",
       "        text-align: right;\n",
       "    }\n",
       "</style>\n",
       "<table border=\"1\" class=\"dataframe\">\n",
       "  <thead>\n",
       "    <tr style=\"text-align: right;\">\n",
       "      <th></th>\n",
       "      <th>id</th>\n",
       "      <th>status_group</th>\n",
       "    </tr>\n",
       "  </thead>\n",
       "  <tbody>\n",
       "    <tr>\n",
       "      <th>0</th>\n",
       "      <td>69572</td>\n",
       "      <td>functional</td>\n",
       "    </tr>\n",
       "    <tr>\n",
       "      <th>1</th>\n",
       "      <td>8776</td>\n",
       "      <td>functional</td>\n",
       "    </tr>\n",
       "    <tr>\n",
       "      <th>2</th>\n",
       "      <td>34310</td>\n",
       "      <td>functional</td>\n",
       "    </tr>\n",
       "    <tr>\n",
       "      <th>3</th>\n",
       "      <td>67743</td>\n",
       "      <td>non functional</td>\n",
       "    </tr>\n",
       "    <tr>\n",
       "      <th>4</th>\n",
       "      <td>19728</td>\n",
       "      <td>functional</td>\n",
       "    </tr>\n",
       "    <tr>\n",
       "      <th>...</th>\n",
       "      <td>...</td>\n",
       "      <td>...</td>\n",
       "    </tr>\n",
       "    <tr>\n",
       "      <th>59395</th>\n",
       "      <td>60739</td>\n",
       "      <td>functional</td>\n",
       "    </tr>\n",
       "    <tr>\n",
       "      <th>59396</th>\n",
       "      <td>27263</td>\n",
       "      <td>functional</td>\n",
       "    </tr>\n",
       "    <tr>\n",
       "      <th>59397</th>\n",
       "      <td>37057</td>\n",
       "      <td>functional</td>\n",
       "    </tr>\n",
       "    <tr>\n",
       "      <th>59398</th>\n",
       "      <td>31282</td>\n",
       "      <td>functional</td>\n",
       "    </tr>\n",
       "    <tr>\n",
       "      <th>59399</th>\n",
       "      <td>26348</td>\n",
       "      <td>functional</td>\n",
       "    </tr>\n",
       "  </tbody>\n",
       "</table>\n",
       "<p>59400 rows × 2 columns</p>\n",
       "</div>"
      ],
      "text/plain": [
       "          id    status_group\n",
       "0      69572      functional\n",
       "1       8776      functional\n",
       "2      34310      functional\n",
       "3      67743  non functional\n",
       "4      19728      functional\n",
       "...      ...             ...\n",
       "59395  60739      functional\n",
       "59396  27263      functional\n",
       "59397  37057      functional\n",
       "59398  31282      functional\n",
       "59399  26348      functional\n",
       "\n",
       "[59400 rows x 2 columns]"
      ]
     },
     "execution_count": 2,
     "metadata": {
      "tags": []
     },
     "output_type": "execute_result"
    }
   ],
   "source": [
    "y_train = pd.read_csv('y_train.csv')\n",
    "y_train"
   ]
  },
  {
   "cell_type": "markdown",
   "metadata": {
    "id": "_fBNqKQWA1rd"
   },
   "source": [
    "In the next step, we are checking for the number of missing values in each feature.\n",
    "We identified that ```scheme_name``` has too many null values. "
   ]
  },
  {
   "cell_type": "code",
   "execution_count": null,
   "metadata": {
    "colab": {
     "base_uri": "https://localhost:8080/"
    },
    "id": "BShixRBtSc3_",
    "outputId": "6217c14f-826a-47aa-f95a-73b5240d7b57"
   },
   "outputs": [
    {
     "name": "stdout",
     "output_type": "stream",
     "text": [
      "name: id | null values: 0\n",
      "name: amount_tsh | null values: 0\n",
      "name: date_recorded | null values: 0\n",
      "name: funder | null values: 1325\n",
      "name: gps_height | null values: 0\n",
      "name: installer | null values: 1333\n",
      "name: longitude | null values: 0\n",
      "name: latitude | null values: 0\n",
      "name: wpt_name | null values: 0\n",
      "name: num_private | null values: 0\n",
      "name: basin | null values: 1\n",
      "name: subvillage | null values: 134\n",
      "name: region | null values: 1\n",
      "name: region_code | null values: 1\n",
      "name: district_code | null values: 1\n",
      "name: lga | null values: 1\n",
      "name: ward | null values: 1\n",
      "name: population | null values: 1\n",
      "name: public_meeting | null values: 1253\n",
      "name: recorded_by | null values: 1\n",
      "name: scheme_management | null values: 1451\n",
      "name: scheme_name | null values: 10367\n",
      "name: permit | null values: 1120\n",
      "name: construction_year | null values: 1\n",
      "name: extraction_type | null values: 1\n",
      "name: extraction_type_group | null values: 1\n",
      "name: extraction_type_class | null values: 1\n",
      "name: management | null values: 1\n",
      "name: management_group | null values: 1\n",
      "name: payment | null values: 1\n",
      "name: payment_type | null values: 1\n",
      "name: water_quality | null values: 1\n",
      "name: quality_group | null values: 1\n",
      "name: quantity | null values: 1\n",
      "name: quantity_group | null values: 1\n",
      "name: source | null values: 1\n",
      "name: source_type | null values: 1\n",
      "name: source_class | null values: 1\n",
      "name: waterpoint_type | null values: 1\n",
      "name: waterpoint_type_group | null values: 1\n"
     ]
    }
   ],
   "source": [
    "for column in x_train.columns:\n",
    "  print(f'name: {column} | null values: {x_train[column].isnull().sum()}')"
   ]
  },
  {
   "cell_type": "markdown",
   "metadata": {
    "id": "NG6jzyibvff4"
   },
   "source": [
    "In the next step, we are exploring the unique values for each feature to identify binary features.  \n",
    "Here we noticed ```public_meeting``` and ```permit``` have only True/False values, while missing values are NaN. "
   ]
  },
  {
   "cell_type": "code",
   "execution_count": null,
   "metadata": {
    "colab": {
     "base_uri": "https://localhost:8080/"
    },
    "id": "BeuEBvSnvNgL",
    "outputId": "317dc40c-098d-4f70-c44f-b986d8a92eb7"
   },
   "outputs": [
    {
     "name": "stdout",
     "output_type": "stream",
     "text": [
      "id's unique values:\n",
      " [69572  8776 34310 ...  5705 10628 16697] \n",
      "\n",
      "amount_tsh's unique values:\n",
      " [6.00e+03 0.00e+00 2.50e+01 2.00e+01 2.00e+02 5.00e+02 5.00e+01 4.00e+03\n",
      " 1.50e+03 6.00e+00 2.50e+02 1.00e+01 1.00e+03 1.00e+02 3.00e+01 2.00e+03\n",
      " 4.00e+02 1.20e+03 4.00e+01 3.00e+02 2.50e+04 7.50e+02 5.00e+03 6.00e+02\n",
      " 7.20e+03 2.40e+03 5.00e+00 3.60e+03 4.50e+02 4.00e+04 1.20e+04 3.00e+03\n",
      " 7.00e+00 2.00e+04 2.80e+03 2.20e+03 7.00e+01 5.50e+03 1.00e+04 2.50e+03\n",
      " 6.50e+03 5.50e+02 3.30e+01 8.00e+03 4.70e+03 7.00e+03 1.40e+04 1.30e+03\n",
      " 1.00e+05 7.00e+02 1.00e+00 6.00e+01 3.50e+02 2.00e-01 3.50e+01 3.06e+02\n",
      " 8.50e+03 1.17e+05 3.50e+03 5.20e+02 1.50e+01 6.30e+03 9.00e+03 1.50e+02\n",
      " 1.20e+05 1.38e+05 3.50e+05 4.50e+03 1.30e+04 4.50e+04 2.00e+00 1.50e+04\n",
      " 1.10e+04 5.00e+04 7.50e+03 1.63e+04 8.00e+02 1.60e+04 3.00e+04 5.30e+01\n",
      " 5.40e+03 7.00e+04] \n",
      "\n",
      "date_recorded's unique values:\n",
      " ['2011-03-14' '2013-03-06' '2013-02-25' '2013-01-28' '2011-07-13'\n",
      " '2011-03-13' '2012-10-01' '2012-10-09' '2012-11-03' '2011-08-03'\n",
      " '2011-02-20' '2013-02-18' '2012-10-14' '2013-03-15' '2012-10-20'\n",
      " '2011-08-04' '2011-07-04' '2011-09-04' '2011-07-22' '2011-02-22'\n",
      " '2011-02-27' '2013-02-10' '2011-10-04' '2013-11-03' '2013-01-21'\n",
      " '2013-01-16' '2011-07-11' '2013-03-05' '2013-03-16' '2011-03-23'\n",
      " '2011-03-16' '2013-03-19' '2011-03-11' '2011-02-23' '2013-03-28'\n",
      " '2011-07-16' '2011-03-27' '2013-02-11' '2013-10-03' '2011-03-12'\n",
      " '2011-07-07' '2013-01-15' '2013-03-18' '2012-10-22' '2013-02-05'\n",
      " '2011-07-27' '2011-04-04' '2013-02-21' '2011-08-18' '2011-07-31'\n",
      " '2011-08-01' '2011-07-14' '2013-02-22' '2013-07-03' '2013-08-03'\n",
      " '2013-01-22' '2011-03-22' '2013-05-03' '2013-01-19' '2013-02-09'\n",
      " '2011-01-04' '2013-02-04' '2011-03-05' '2011-03-31' '2013-02-27'\n",
      " '2011-08-07' '2011-03-30' '2012-10-23' '2011-03-02' '2011-03-04'\n",
      " '2013-03-14' '2012-10-18' '2011-08-08' '2011-09-05' '2011-04-11'\n",
      " '2013-01-17' '2013-01-20' '2013-01-27' '2013-02-19' '2012-10-06'\n",
      " '2013-02-13' '2013-02-26' '2013-02-16' '2013-02-17' '2011-07-21'\n",
      " '2011-03-07' '2011-07-12' '2011-07-17' '2011-04-07' '2011-04-10'\n",
      " '2012-10-29' '2011-02-25' '2012-10-11' '2013-02-14' '2012-10-05'\n",
      " '2011-07-19' '2011-04-15' '2011-03-17' '2013-01-25' '2011-10-07'\n",
      " '2011-02-24' '2013-03-21' '2011-08-02' '2011-02-03' '2013-01-24'\n",
      " '2012-10-21' '2011-04-16' '2013-02-03' '2013-02-24' '2011-04-02'\n",
      " '2012-10-19' '2013-01-30' '2011-03-03' '2011-08-17' '2011-03-28'\n",
      " '2011-07-23' '2013-02-06' '2011-08-11' '2011-03-09' '2011-03-18'\n",
      " '2013-03-07' '2011-08-14' '2013-09-03' '2011-02-16' '2011-04-03'\n",
      " '2011-07-09' '2011-04-12' '2011-04-14' '2011-03-10' '2013-03-25'\n",
      " '2013-02-28' '2013-01-18' '2012-10-10' '2011-07-03' '2011-08-05'\n",
      " '2011-07-20' '2013-03-13' '2011-03-15' '2011-07-18' '2013-03-03'\n",
      " '2011-11-07' '2013-04-04' '2012-10-16' '2013-03-23' '2013-04-03'\n",
      " '2013-02-08' '2011-03-21' '2011-04-05' '2012-10-15' '2011-03-19'\n",
      " '2013-06-03' '2013-03-29' '2012-10-28' '2011-07-15' '2012-10-12'\n",
      " '2011-07-29' '2011-08-06' '2012-10-13' '2013-03-02' '2013-02-12'\n",
      " '2013-01-29' '2013-01-04' '2012-10-25' '2012-11-13' '2013-02-01'\n",
      " '2011-08-10' '2013-03-17' '2011-07-30' '2011-02-21' '2011-02-17'\n",
      " '2011-08-19' '2013-02-15' '2013-02-02' '2013-01-26' '2011-04-06'\n",
      " '2011-08-21' '2013-03-24' '2013-10-02' '2011-04-01' '2013-02-23'\n",
      " '2013-02-20' '2011-04-08' '2011-03-29' '2011-03-25' '2013-03-01'\n",
      " '2013-05-04' '2012-11-05' '2011-03-24' '2011-03-20' '2013-03-04'\n",
      " '2012-10-26' '2013-06-04' '2011-08-20' '2013-02-07' '2011-07-24'\n",
      " '2011-07-25' '2013-03-22' '2013-08-02' '2011-07-28' '2013-03-12'\n",
      " '2013-03-30' '2013-12-03' '2011-03-26' '2011-03-08' '2013-01-23'\n",
      " '2012-11-04' '2012-10-02' '2012-10-07' '2011-04-18' '2012-11-15'\n",
      " '2011-08-12' '2011-08-23' '2012-10-08' '2011-02-26' '2013-03-26'\n",
      " '2011-03-01' '2012-12-14' '2011-02-14' '2013-01-14' '2012-10-04'\n",
      " '2011-07-26' '2012-10-27' '2012-10-17' '2013-09-02' '2012-10-03'\n",
      " '2013-03-20' '2012-11-08' '2011-02-15' '2012-10-24' '2013-03-10'\n",
      " '2011-07-06' '2011-07-08' '2012-12-13' '2011-08-25' '2004-08-01'\n",
      " '2011-04-09' '2012-10-31' '2011-03-06' '2013-07-02' '2012-11-12'\n",
      " '2011-02-28' '2011-02-02' '2013-01-31' '2011-07-10' '2011-04-17'\n",
      " '2011-07-05' '2011-06-04' '2011-08-22' '2011-01-03' '2013-01-13'\n",
      " '2012-11-09' '2013-01-11' '2011-01-08' '2013-07-04' '2011-02-18'\n",
      " '2011-08-13' '2012-11-06' '2011-06-03' '2013-01-12' '2013-03-08'\n",
      " '2004-12-01' '2012-12-16' '2011-04-13' '2012-11-01' '2013-03-27'\n",
      " '2011-12-03' '2013-01-08' '2011-04-19' '2012-12-15' '2012-10-30'\n",
      " '2011-08-16' '2013-01-07' '2013-01-03' '2013-05-02' '2011-08-15'\n",
      " '2011-02-19' '2011-11-03' '2011-04-21' '2013-01-10' '2012-11-10'\n",
      " '2011-12-07' '2012-11-11' '2011-10-03' '2011-08-26' '2011-04-22'\n",
      " '2011-08-09' '2011-06-07' '2002-10-14' '2013-03-09' '2011-02-04'\n",
      " '2013-01-09' '2012-12-12' '2012-11-14' '2012-12-11' '2011-04-20'\n",
      " '2012-12-18' '2011-08-27' '2013-12-02' '2013-11-02' '2011-09-27'\n",
      " '2011-08-24' '2011-09-03' '2012-11-29' '2011-09-19' '2012-12-21'\n",
      " '2012-11-02' '2013-03-11' '2012-11-19' '2011-05-03' '2012-12-10'\n",
      " '2011-11-04' '2004-05-01' '2004-04-05' '2012-12-17' '2012-11-07'\n",
      " '2012-11-30' '2004-06-01' '2011-05-07' '2012-12-23' '2011-09-09'\n",
      " '2012-12-24' '2011-05-04' '2011-04-23' '2013-04-02' '2011-02-01'\n",
      " '2011-09-18' '2011-09-06'] \n",
      "\n",
      "funder's unique values:\n",
      " ['Roman' 'Grumeti' 'Lottery Club' ... 'Kadip' 'Tcrs/care' 'Kagera Mine'] \n",
      "\n",
      "gps_height's unique values:\n",
      " [1390 1399  686 ... 2105 1870  430] \n",
      "\n",
      "installer's unique values:\n",
      " ['Roman' 'GRUMETI' 'World vision' ... 'Overland High School' 'KAGERA MINE'\n",
      " 'DWE/TASSAF'] \n",
      "\n",
      "longitude's unique values:\n",
      " [34.93809275 34.6987661  37.46066446 ... 31.50948887 35.84718369\n",
      " 33.27140028] \n",
      "\n",
      "latitude's unique values:\n",
      " [-9.85632177 -2.14746569 -3.82132853 ... -2.76211672 -4.28754691\n",
      " -2.51853216] \n",
      "\n",
      "wpt_name's unique values:\n",
      " ['none' 'Zahanati' 'Kwa Mahundi' ... 'Igedeja' 'Kwa Juma Nziga' 'Mperani'] \n",
      "\n",
      "num_private's unique values:\n",
      " [  0  39   5  45   6   3 698  32  15   7  25 102   1  93  14  34 120  17\n",
      " 213  47   8  41  80 141  20  35 131   4  22  11  87  61  65 136   2 180\n",
      "  38  62   9  16  23  42  24  12 668 672  58 150] \n",
      "\n",
      "basin's unique values:\n",
      " ['Lake Nyasa' 'Lake Victoria' 'Pangani' 'Ruvuma / Southern Coast'\n",
      " 'Internal' 'Lake Tanganyika' 'Wami / Ruvu' 'Rufiji' 'Lake Rukwa' nan] \n",
      "\n",
      "subvillage's unique values:\n",
      " ['Mnyusi B' 'Nyamara' 'Majengo' ... 'Makolo' 'Lyobahika' 'Igedeja'] \n",
      "\n",
      "region's unique values:\n",
      " ['Iringa' 'Mara' 'Manyara' 'Mtwara' 'Kagera' 'Tanga' 'Shinyanga' 'Tabora'\n",
      " 'Pwani' 'Ruvuma' 'Kilimanjaro' 'Rukwa' 'Mwanza' 'Kigoma' 'Lindi' 'Dodoma'\n",
      " 'Arusha' 'Mbeya' 'Singida' 'Morogoro' 'Dar es Salaam' nan] \n",
      "\n",
      "region_code's unique values:\n",
      " [11. 20. 21. 90. 18.  4. 17. 14. 60. 10.  3. 15. 19. 16. 80.  1.  6.  2.\n",
      " 12. 13.  5.  7. 99. 24.  9.  8. nan] \n",
      "\n",
      "district_code's unique values:\n",
      " [ 5.  2.  4. 63.  1.  8.  3.  6. 43.  7. 23. 33. 53. 62. 60. 30. 13.  0.\n",
      " 80. nan] \n",
      "\n",
      "lga's unique values:\n",
      " ['Ludewa' 'Serengeti' 'Simanjiro' 'Nanyumbu' 'Karagwe' 'Mkinga'\n",
      " 'Shinyanga Rural' 'Kahama' 'Tabora Urban' 'Mkuranga' 'Namtumbo' 'Maswa'\n",
      " 'Siha' 'Meatu' 'Sumbawanga Rural' 'Njombe' 'Ukerewe' 'Bariadi' 'Same'\n",
      " 'Kigoma Rural' 'Moshi Rural' 'Lindi Rural' 'Rombo' 'Chamwino' 'Bagamoyo'\n",
      " 'Mafia' 'Arusha Rural' 'Kyela' 'Kondoa' 'Kilolo' 'Kibondo' 'Makete'\n",
      " 'Singida Rural' 'Masasi' 'Rungwe' 'Moshi Urban' 'Geita' 'Mbulu'\n",
      " 'Bukoba Rural' 'Muheza' 'Lushoto' 'Meru' 'Iramba' 'Kilombero' 'Mbarali'\n",
      " 'Kasulu' 'Bukoba Urban' 'Korogwe' 'Bukombe' 'Morogoro Rural' 'Kishapu'\n",
      " 'Musoma Rural' 'Sengerema' 'Iringa Rural' 'Muleba' 'Dodoma Urban'\n",
      " 'Ruangwa' 'Hanang' 'Misenyi' 'Missungwi' 'Songea Rural' 'Tanga' 'Tunduru'\n",
      " 'Hai' 'Mwanga' 'Chato' 'Biharamulo' 'Ileje' 'Mpwapwa' 'Mvomero' 'Bunda'\n",
      " 'Kiteto' 'Longido' 'Urambo' 'Mbozi' 'Sikonge' 'Ilala' 'Tarime' 'Temeke'\n",
      " 'Mbeya Rural' 'Magu' 'Manyoni' 'Igunga' 'Kilosa' 'Babati' 'Chunya'\n",
      " 'Mufindi' 'Mtwara Rural' 'Ngara' 'Karatu' 'Mpanda' 'Kibaha'\n",
      " 'Singida Urban' 'Newala' 'Nzega' 'Nkasi' 'Bahi' 'Mbinga' 'Ulanga'\n",
      " 'Sumbawanga Urban' 'Morogoro Urban' 'Tandahimba' 'Kisarawe'\n",
      " 'Mtwara Urban' 'Kilwa' 'Liwale' 'Kongwa' 'Uyui' 'Rufiji' 'Kwimba'\n",
      " 'Monduli' 'Shinyanga Urban' 'Ngorongoro' 'Handeni' 'Rorya' 'Pangani'\n",
      " 'Lindi Urban' 'Nachingwea' 'Kinondoni' 'Kigoma Urban' 'Ilemela' 'Kilindi'\n",
      " 'Arusha Urban' 'Songea Urban' 'Nyamagana' nan] \n",
      "\n",
      "ward's unique values:\n",
      " ['Mundindi' 'Natta' 'Ngorika' ... 'Kakesio' 'Lutende' nan] \n",
      "\n",
      "population's unique values:\n",
      " [1.090e+02 2.800e+02 2.500e+02 5.800e+01 0.000e+00 1.000e+00 3.450e+02\n",
      " 2.000e+02 3.500e+01 5.000e+01 1.000e+03 4.000e+00 3.500e+02 2.100e+02\n",
      " 1.560e+02 1.400e+02 2.600e+02 1.500e+02 1.800e+02 7.000e+01 1.000e+02\n",
      " 2.300e+02 3.000e+01 2.000e+01 1.000e+01 4.500e+01 4.560e+02 5.670e+02\n",
      " 1.300e+02 2.250e+02 5.400e+01 7.500e+01 9.000e+02 3.600e+02 5.440e+02\n",
      " 4.410e+02 1.200e+02 4.000e+01 2.210e+02 9.500e+02 1.430e+03 1.100e+02\n",
      " 2.560e+02 3.200e+02 9.000e+01 8.040e+02 6.000e+02 3.700e+02 3.050e+02\n",
      " 1.600e+03 4.000e+02 5.900e+02 4.500e+02 8.000e+01 5.600e+02 2.500e+03\n",
      " 1.050e+03 3.600e+01 5.400e+02 3.000e+02 1.200e+01 6.320e+02 2.450e+02\n",
      " 3.200e+01 5.900e+01 2.500e+01 5.000e+02 5.700e+02 7.000e+02 1.110e+02\n",
      " 6.300e+02 2.700e+02 5.500e+01 1.700e+03 8.000e+02 8.700e+01 2.530e+03\n",
      " 8.600e+01 9.600e+01 2.400e+02 2.030e+02 2.150e+02 9.800e+01 1.600e+02\n",
      " 1.200e+03 3.090e+02 9.500e+01 6.000e+01 8.500e+01 1.590e+02 6.500e+01\n",
      " 4.800e+01 2.150e+03 1.013e+03 2.200e+02 1.680e+03 3.750e+02 2.000e+03\n",
      " 1.250e+02 3.226e+03 2.530e+02 8.800e+01 8.200e+02 1.330e+02 6.500e+02\n",
      " 1.630e+02 4.300e+02 2.900e+02 2.100e+03 2.850e+02 4.250e+02 1.550e+02\n",
      " 1.500e+03 1.850e+02 3.680e+02 1.150e+02 5.200e+02 4.060e+02 9.700e+02\n",
      " 5.200e+01 7.500e+02 3.800e+02 1.230e+02 7.300e+02 1.050e+02 4.520e+02\n",
      " 1.320e+03 1.400e+01 2.610e+02 8.200e+01 5.500e+02 3.930e+02 3.480e+02\n",
      " 8.900e+01 4.120e+02 5.300e+02 3.860e+02 2.780e+02 2.120e+02 3.400e+02\n",
      " 5.680e+02 4.180e+02 5.600e+01 5.160e+02 6.922e+03 1.830e+02 6.000e+00\n",
      " 9.800e+02 2.630e+02 4.800e+02 1.250e+03 8.000e+00 3.210e+02 4.200e+02\n",
      " 6.200e+02 5.153e+03 2.353e+03 4.400e+02 1.015e+03 2.690e+02 4.400e+01\n",
      " 1.740e+02 3.230e+02 2.330e+02 2.580e+02 1.520e+02 4.200e+01 3.580e+02\n",
      " 2.110e+02 8.550e+02 1.020e+03 1.500e+01 6.900e+01 1.450e+02 2.200e+01\n",
      " 2.460e+02 9.900e+01 1.370e+02 1.240e+02 6.800e+02 7.400e+02 3.330e+02\n",
      " 1.180e+03 5.300e+01 3.550e+02 1.041e+03 3.900e+02 2.650e+02 4.650e+02\n",
      " 1.632e+03 1.360e+03 1.820e+02 2.395e+03 3.560e+02 5.800e+02 4.530e+02\n",
      " 4.600e+01 4.710e+02 2.840e+02 9.000e+00 8.190e+02 1.506e+03 6.800e+01\n",
      " 1.320e+02 3.690e+02 2.350e+02 1.440e+02 5.910e+02 1.030e+02 3.350e+02\n",
      " 8.750e+02 8.120e+02 1.950e+02 5.000e+00 3.150e+02 6.850e+02 5.480e+02\n",
      " 5.540e+02 8.600e+02 8.300e+01 2.200e+03 3.200e+03 1.070e+03 4.150e+02\n",
      " 4.550e+02 8.500e+02 1.650e+03 2.220e+02 2.800e+03 3.300e+02 6.700e+02\n",
      " 7.800e+02 6.080e+02 1.620e+02 3.570e+02 1.570e+03 2.310e+02 1.350e+02\n",
      " 1.140e+02 5.310e+02 5.700e+01 2.340e+02 1.010e+02 1.700e+02 1.530e+03\n",
      " 1.340e+02 6.700e+01 1.760e+02 6.100e+02 1.540e+02 2.600e+01 2.013e+03\n",
      " 2.040e+02 2.130e+02 4.050e+02 2.360e+02 2.390e+02 5.320e+02 6.400e+01\n",
      " 4.580e+02 1.140e+03 1.530e+02 4.100e+03 1.260e+02 2.050e+02 1.740e+03\n",
      " 2.300e+03 7.490e+02 1.900e+02 1.850e+03 8.020e+02 1.400e+03 5.950e+02\n",
      " 2.170e+02 2.300e+01 3.650e+02 1.680e+02 1.009e+03 1.390e+02 9.700e+01\n",
      " 2.698e+03 1.430e+02 1.980e+02 8.400e+01 8.100e+02 6.400e+02 4.450e+02\n",
      " 6.340e+02 9.540e+02 1.700e+01 1.220e+03 7.200e+01 5.030e+03 7.200e+02\n",
      " 5.790e+02 2.950e+02 3.410e+02 5.630e+02 3.100e+02 7.600e+01 1.040e+03\n",
      " 1.070e+02 3.380e+02 1.100e+03 8.400e+02 1.890e+02 4.130e+02 3.520e+02\n",
      " 4.230e+02 3.250e+02 4.005e+03 6.790e+02 1.750e+03 8.960e+02 1.800e+03\n",
      " 3.500e+03 7.100e+02 6.100e+01 3.850e+02 3.620e+02 3.020e+03 6.900e+02\n",
      " 4.500e+03 4.600e+02 4.590e+02 3.970e+02 4.000e+03 1.570e+02 2.060e+02\n",
      " 4.750e+02 3.460e+02 2.680e+02 1.860e+02 1.640e+02 1.161e+03 7.790e+02\n",
      " 3.127e+03 3.000e+03 3.540e+02 3.800e+01 5.420e+02 6.560e+02 8.970e+02\n",
      " 1.810e+02 2.590e+02 8.900e+02 7.690e+02 6.300e+01 7.590e+02 9.400e+01\n",
      " 7.500e+03 3.670e+02 1.190e+02 8.630e+02 5.120e+02 5.000e+03 2.550e+02\n",
      " 2.430e+02 4.900e+01 3.960e+02 6.540e+02 6.000e+03 1.020e+02 2.540e+02\n",
      " 3.740e+02 1.450e+03 2.640e+02 6.500e+03 1.520e+03 1.486e+03 5.740e+02\n",
      " 2.660e+02 3.130e+02 4.320e+02 5.690e+02 2.410e+02 6.020e+02 1.160e+03\n",
      " 2.090e+02 6.530e+02 1.650e+02 4.900e+03 2.000e+00 1.177e+03 6.280e+02\n",
      " 8.100e+01 1.060e+02 1.080e+02 4.870e+02 1.750e+02 1.580e+02 4.830e+02\n",
      " 2.670e+02 7.000e+03 5.430e+02 3.110e+03 2.190e+02 6.030e+02 1.900e+03\n",
      " 4.210e+03 1.490e+02 1.600e+01 2.445e+03 2.710e+02 1.420e+02 2.510e+02\n",
      " 1.540e+03 4.100e+02 7.360e+02 1.930e+03 1.170e+02 8.570e+02 3.900e+01\n",
      " 2.860e+02 4.900e+02 1.470e+02 2.990e+02 3.981e+03 6.600e+01 3.020e+02\n",
      " 9.600e+02 5.020e+02 1.280e+02 9.560e+02 2.980e+02 1.880e+02 5.100e+02\n",
      " 2.900e+01 1.460e+02 8.300e+02 3.240e+02 1.903e+03 7.900e+01 8.420e+02\n",
      " 1.920e+02 1.440e+03 3.120e+02 4.950e+02 2.740e+02 1.226e+03 6.160e+02\n",
      " 8.250e+02 5.130e+02 1.230e+03 2.930e+02 4.880e+02 2.210e+03 1.670e+02\n",
      " 1.300e+03 6.600e+02 5.500e+03 5.190e+02 1.940e+02 1.614e+03 5.780e+02\n",
      " 7.340e+02 1.280e+03 4.990e+02 2.380e+02 4.780e+02 2.130e+03 5.360e+02\n",
      " 6.680e+02 2.140e+02 3.180e+02 5.330e+02 3.270e+02 7.600e+02 2.910e+02\n",
      " 4.570e+02 5.250e+02 7.430e+02 2.230e+02 2.940e+02 3.800e+03 5.560e+02\n",
      " 1.237e+03 2.240e+02 1.030e+03 7.150e+02 9.630e+02 2.870e+02 4.523e+03\n",
      " 2.700e+03 3.170e+02 1.034e+03 1.780e+02 1.900e+01 3.600e+03 7.900e+02\n",
      " 7.420e+02 1.800e+01 4.620e+02 2.730e+02 1.990e+02 2.320e+02 4.700e+02\n",
      " 1.720e+02 2.890e+02 5.860e+02 1.550e+03 7.700e+02 2.490e+02 4.420e+02\n",
      " 1.205e+03 1.930e+02 6.550e+02 2.400e+03 7.800e+01 6.580e+02 2.160e+02\n",
      " 2.960e+02 6.620e+02 2.260e+02 4.540e+02 1.300e+01 2.440e+02 5.890e+02\n",
      " 4.550e+03 4.350e+02 5.280e+02 5.600e+03 1.185e+03 8.000e+03 3.060e+02\n",
      " 5.610e+02 5.960e+02 7.030e+02 2.016e+03 5.920e+02 1.270e+02 1.807e+03\n",
      " 8.930e+02 2.880e+02 2.129e+03 5.580e+02 4.530e+03 6.750e+02 9.350e+02\n",
      " 3.920e+02 8.340e+02 7.250e+02 5.870e+02 1.960e+03 1.100e+01 5.940e+02\n",
      " 2.570e+02 7.300e+01 6.980e+02 4.670e+02 5.880e+02 3.820e+02 1.120e+02\n",
      " 7.220e+02 9.200e+01 7.260e+02 6.630e+02 7.320e+02 1.360e+02 2.400e+01\n",
      " 3.072e+03 1.724e+03 4.600e+03 2.970e+02 8.860e+02 3.400e+01 5.200e+03\n",
      " 7.400e+01 4.380e+02 1.510e+02 8.560e+02 8.530e+02 2.750e+02 8.600e+03\n",
      " 2.350e+03 2.385e+03 1.065e+03 3.360e+02 6.350e+02 1.056e+03 5.290e+02\n",
      " 7.980e+02 4.110e+02 5.980e+02 8.650e+02 3.510e+02 1.860e+03 3.450e+03\n",
      " 8.160e+02 5.850e+02 9.610e+02 2.560e+03 5.240e+02 1.610e+02 6.420e+02\n",
      " 3.610e+02 3.470e+02 1.234e+03 3.140e+02 6.650e+02 1.150e+03 1.120e+03\n",
      " 5.450e+02 9.865e+03 4.610e+02 1.770e+02 7.480e+02 1.036e+03 2.470e+02\n",
      " 1.130e+02 3.010e+02 4.270e+02 5.650e+02 5.016e+03 8.140e+02 3.290e+02\n",
      " 5.100e+01 1.502e+03 2.520e+02 1.720e+03 5.010e+02 9.270e+02 7.210e+02\n",
      " 3.030e+02 9.500e+03 4.980e+02 2.620e+03 1.830e+03 5.380e+02 4.760e+02\n",
      " 1.160e+02 3.832e+03 3.220e+02 5.400e+03 2.760e+02 6.300e+03 1.530e+04\n",
      " 7.120e+02 3.440e+02 6.210e+02 2.813e+03 2.070e+02 4.470e+02 2.020e+03\n",
      " 4.680e+02 2.700e+01 4.230e+03 3.890e+02 3.280e+02 6.740e+02 1.950e+03\n",
      " 8.740e+02 1.960e+02 2.080e+02 4.200e+03 1.483e+03 3.840e+02 4.300e+01\n",
      " 6.450e+02 5.210e+02 2.800e+01 9.300e+01 3.530e+02 3.950e+02 8.800e+02\n",
      " 1.193e+03 6.780e+02 1.831e+03 3.040e+02 1.305e+03 1.220e+02 1.436e+03\n",
      " 2.830e+02 1.510e+03 1.251e+03 2.180e+02 6.250e+02 5.230e+02 7.550e+02\n",
      " 1.968e+03 2.270e+02 4.330e+02 7.140e+02 7.100e+01 5.370e+02 5.720e+02\n",
      " 1.210e+02 1.306e+03 6.800e+03 8.070e+02 4.630e+02 2.370e+02 4.070e+02\n",
      " 1.685e+03 2.954e+03 3.300e+01 5.750e+02 9.660e+02 2.780e+03 6.290e+02\n",
      " 6.430e+02 1.890e+03 8.848e+03 4.820e+02 3.340e+02 5.710e+02 3.700e+01\n",
      " 2.684e+03 2.630e+03 6.720e+02 9.640e+02 9.300e+02 1.942e+03 3.540e+03\n",
      " 5.830e+02 3.310e+02 6.460e+02 2.314e+03 1.885e+03 2.420e+02 5.110e+02\n",
      " 2.020e+02 5.180e+02 4.080e+02 3.590e+02 5.810e+02 5.050e+03 6.520e+02\n",
      " 7.860e+02 5.840e+02 7.230e+02 9.480e+02 5.170e+02 3.000e+00 8.700e+02\n",
      " 7.350e+02 1.840e+02 6.060e+02 7.700e+01 6.330e+03 5.660e+02 3.260e+02\n",
      "       nan] \n",
      "\n",
      "public_meeting's unique values:\n",
      " [True nan False] \n",
      "\n",
      "recorded_by's unique values:\n",
      " ['GeoData Consultants Ltd' nan] \n",
      "\n",
      "scheme_management's unique values:\n",
      " ['VWC' 'Other' nan 'Private operator' 'WUG' 'Water Board' 'WUA'\n",
      " 'Water authority' 'Company' 'Parastatal' 'Trust' 'SWC'] \n",
      "\n",
      "scheme_name's unique values:\n",
      " ['Roman' nan 'Nyumba ya mungu pipe scheme' ... 'Irrigation Scheme'\n",
      " 'Kiromba water supply' 'Ul'] \n",
      "\n",
      "permit's unique values:\n",
      " [False True nan] \n",
      "\n",
      "construction_year's unique values:\n",
      " [1999. 2010. 2009. 1986.    0. 2011. 1987. 1991. 1978. 1992. 2008. 1974.\n",
      " 2000. 2002. 2004. 1972. 2003. 1980. 2007. 1973. 1985. 1970. 1995. 2006.\n",
      " 1962. 2005. 1997. 2012. 1996. 1977. 1983. 1984. 1990. 1982. 1976. 1988.\n",
      " 1989. 1975. 1960. 1961. 1998. 1963. 1971. 1994. 1968. 1993. 2001. 1979.\n",
      " 1967. 2013. 1969. 1981. 1964. 1966. 1965.   nan] \n",
      "\n",
      "extraction_type's unique values:\n",
      " ['gravity' 'submersible' 'swn 80' 'nira/tanira' 'india mark ii' 'other'\n",
      " 'ksb' 'mono' 'windmill' 'afridev' 'other - rope pump' 'india mark iii'\n",
      " 'other - swn 81' 'other - play pump' 'cemo' 'climax' 'walimi' nan] \n",
      "\n",
      "extraction_type_group's unique values:\n",
      " ['gravity' 'submersible' 'swn 80' 'nira/tanira' 'india mark ii' 'other'\n",
      " 'mono' 'wind-powered' 'afridev' 'rope pump' 'india mark iii'\n",
      " 'other handpump' 'other motorpump' nan] \n",
      "\n",
      "extraction_type_class's unique values:\n",
      " ['gravity' 'submersible' 'handpump' 'other' 'motorpump' 'wind-powered'\n",
      " 'rope pump' nan] \n",
      "\n",
      "management's unique values:\n",
      " ['vwc' 'wug' 'other' 'private operator' 'water board' 'wua' 'company'\n",
      " 'water authority' 'parastatal' 'unknown' 'other - school' 'trust' nan] \n",
      "\n",
      "management_group's unique values:\n",
      " ['user-group' 'other' 'commercial' 'parastatal' 'unknown' nan] \n",
      "\n",
      "payment's unique values:\n",
      " ['pay annually' 'never pay' 'pay per bucket' 'unknown'\n",
      " 'pay when scheme fails' 'other' 'pay monthly' nan] \n",
      "\n",
      "payment_type's unique values:\n",
      " ['annually' 'never pay' 'per bucket' 'unknown' 'on failure' 'other'\n",
      " 'monthly' nan] \n",
      "\n",
      "water_quality's unique values:\n",
      " ['soft' 'salty' 'milky' 'unknown' 'fluoride' 'coloured' 'salty abandoned'\n",
      " 'fluoride abandoned' nan] \n",
      "\n",
      "quality_group's unique values:\n",
      " ['good' 'salty' 'milky' 'unknown' 'fluoride' 'colored' nan] \n",
      "\n",
      "quantity's unique values:\n",
      " ['enough' 'insufficient' 'dry' 'seasonal' 'unknown' nan] \n",
      "\n",
      "quantity_group's unique values:\n",
      " ['enough' 'insufficient' 'dry' 'seasonal' 'unknown' nan] \n",
      "\n",
      "source's unique values:\n",
      " ['spring' 'rainwater harvesting' 'dam' 'machine dbh' 'other'\n",
      " 'shallow well' 'river' 'hand dtw' 'lake' 'unknown' nan] \n",
      "\n",
      "source_type's unique values:\n",
      " ['spring' 'rainwater harvesting' 'dam' 'borehole' 'other' 'shallow well'\n",
      " 'river/lake' nan] \n",
      "\n",
      "source_class's unique values:\n",
      " ['groundwater' 'surface' 'unknown' nan] \n",
      "\n",
      "waterpoint_type's unique values:\n",
      " ['communal standpipe' 'communal standpipe multiple' 'hand pump' 'other'\n",
      " 'improved spring' 'cattle trough' 'dam' nan] \n",
      "\n",
      "waterpoint_type_group's unique values:\n",
      " ['communal standpipe' 'hand pump' 'other' 'improved spring'\n",
      " 'cattle trough' 'dam' nan] \n",
      "\n"
     ]
    }
   ],
   "source": [
    "for column in x_train.columns:\n",
    "  print(f'{column}\\'s unique values:\\n {x_train[column].unique()} \\n')"
   ]
  },
  {
   "cell_type": "markdown",
   "metadata": {
    "id": "FNZL1b57BGuL"
   },
   "source": [
    "In this step, we are checking each feature for duplicates to remove the features that have high numbers of duplicates. \n",
    "\n",
    "We noticed that ```recorded_by``` only contains a single value, therefore we will drop this feature as well."
   ]
  },
  {
   "cell_type": "code",
   "execution_count": null,
   "metadata": {
    "colab": {
     "base_uri": "https://localhost:8080/"
    },
    "id": "29hhkK_n_e2W",
    "outputId": "fbbbb592-66e6-43d8-c587-150e76cebed5"
   },
   "outputs": [
    {
     "name": "stdout",
     "output_type": "stream",
     "text": [
      "id\n",
      "0        1\n",
      "1        1\n",
      "2        1\n",
      "3        1\n",
      "4        1\n",
      "        ..\n",
      "74230    1\n",
      "74236    1\n",
      "74240    1\n",
      "74242    1\n",
      "74246    1\n",
      "Length: 21703, dtype: int64\n",
      "\n",
      "\n",
      "amount_tsh\n",
      "0.0         15199\n",
      "0.2             3\n",
      "1.0             2\n",
      "2.0             4\n",
      "5.0           126\n",
      "            ...  \n",
      "100000.0        2\n",
      "117000.0        2\n",
      "120000.0        1\n",
      "138000.0        1\n",
      "350000.0        1\n",
      "Length: 82, dtype: int64\n",
      "\n",
      "\n",
      "date_recorded\n",
      "2002-10-14     1\n",
      "2004-04-05     1\n",
      "2004-05-01     1\n",
      "2004-06-01     1\n",
      "2004-08-01     2\n",
      "              ..\n",
      "2013-10-03    54\n",
      "2013-11-02    11\n",
      "2013-11-03    75\n",
      "2013-12-02    15\n",
      "2013-12-03    86\n",
      "Length: 327, dtype: int64\n",
      "\n",
      "\n",
      "funder\n",
      "0                     305\n",
      "A/co Germany           10\n",
      "Aar                    10\n",
      "Abasia                 15\n",
      "Abd                     4\n",
      "                     ... \n",
      "Wwf                     8\n",
      "Yasini Selemani         1\n",
      "Zaben                   2\n",
      "Zaburi And Neig         1\n",
      "Zao Water Spring X      1\n",
      "Length: 1177, dtype: int64\n",
      "\n",
      "\n",
      "gps_height\n",
      "-63      1\n",
      "-59      1\n",
      "-54      1\n",
      "-51      1\n",
      "-49      1\n",
      "        ..\n",
      " 2569    1\n",
      " 2623    1\n",
      " 2626    1\n",
      " 2627    1\n",
      " 2770    1\n",
      "Length: 2252, dtype: int64\n",
      "\n",
      "\n",
      "installer\n",
      "-                   2\n",
      "0                 305\n",
      "AAR                 2\n",
      "ABASIA             10\n",
      "ABDUL               1\n",
      "                 ... \n",
      "wasab               1\n",
      "water board         1\n",
      "wizara ya maji      1\n",
      "world               1\n",
      "world banks         1\n",
      "Length: 1302, dtype: int64\n",
      "\n",
      "\n",
      "longitude\n",
      "0.000000     650\n",
      "29.612507      1\n",
      "29.613443      1\n",
      "29.616872      1\n",
      "29.618479      1\n",
      "            ... \n",
      "40.301987      1\n",
      "40.320693      1\n",
      "40.320693      1\n",
      "40.321966      1\n",
      "40.345193      1\n",
      "Length: 21039, dtype: int64\n",
      "\n",
      "\n",
      "latitude\n",
      "-1.158630e+01      1\n",
      "-1.156451e+01      1\n",
      "-1.156432e+01      1\n",
      "-1.156232e+01      1\n",
      "-1.156105e+01      1\n",
      "                ... \n",
      "-1.004616e+00      1\n",
      "-1.003345e+00      1\n",
      "-1.001521e+00      1\n",
      "-1.000585e+00      1\n",
      "-2.000000e-08    650\n",
      "Length: 21039, dtype: int64\n",
      "\n",
      "\n",
      "wpt_name\n",
      "A Saidi                 1\n",
      "Abbas                   1\n",
      "Abdalaa                 1\n",
      "Abdalah                 2\n",
      "Abdalah Mashaka         1\n",
      "                     ... \n",
      "Zongomela               1\n",
      "Zugimlole               1\n",
      "Zunguni                 1\n",
      "Zunzuli A Shuleni       1\n",
      "none                 1270\n",
      "Length: 15293, dtype: int64\n",
      "\n",
      "\n",
      "num_private\n",
      "0      21427\n",
      "1         23\n",
      "2          8\n",
      "3          8\n",
      "4         10\n",
      "5         24\n",
      "6         35\n",
      "7          8\n",
      "8         17\n",
      "9          1\n",
      "11         4\n",
      "12         1\n",
      "14         1\n",
      "15        10\n",
      "16         1\n",
      "17         8\n",
      "20         6\n",
      "22         4\n",
      "23         1\n",
      "24         1\n",
      "25         3\n",
      "32        16\n",
      "34         3\n",
      "35         1\n",
      "38         1\n",
      "39        13\n",
      "41         3\n",
      "42         1\n",
      "45        11\n",
      "47         7\n",
      "58         2\n",
      "61         1\n",
      "62         1\n",
      "65         6\n",
      "80         2\n",
      "87         1\n",
      "93        11\n",
      "102       10\n",
      "120        3\n",
      "131        1\n",
      "136        1\n",
      "141        1\n",
      "150        1\n",
      "180        1\n",
      "213        1\n",
      "668        1\n",
      "672        1\n",
      "698        1\n",
      "dtype: int64\n",
      "\n",
      "\n",
      "basin\n",
      "Internal                   2865\n",
      "Lake Nyasa                 1793\n",
      "Lake Rukwa                  886\n",
      "Lake Tanganyika            2340\n",
      "Lake Victoria              3739\n",
      "Pangani                    3285\n",
      "Rufiji                     2874\n",
      "Ruvuma / Southern Coast    1715\n",
      "Wami / Ruvu                2205\n",
      "dtype: int64\n",
      "\n",
      "\n",
      "subvillage\n",
      "'A' Kati        1\n",
      "1              46\n",
      "14Kambalage     1\n",
      "18              1\n",
      "19              3\n",
      "               ..\n",
      "Zongomela       1\n",
      "Zonwe           1\n",
      "Zuiani          3\n",
      "Zunguni         1\n",
      "Zunzuli         2\n",
      "Length: 10916, dtype: int64\n",
      "\n",
      "\n",
      "region\n",
      "Arusha           1221\n",
      "Dar es Salaam     322\n",
      "Dodoma            761\n",
      "Iringa           1927\n",
      "Kagera           1214\n",
      "Kigoma            974\n",
      "Kilimanjaro      1584\n",
      "Lindi             605\n",
      "Manyara           581\n",
      "Mara              719\n",
      "Mbeya            1662\n",
      "Morogoro         1471\n",
      "Mtwara            663\n",
      "Mwanza           1155\n",
      "Pwani             949\n",
      "Rukwa             662\n",
      "Ruvuma            940\n",
      "Shinyanga        1818\n",
      "Singida           799\n",
      "Tabora            732\n",
      "Tanga             943\n",
      "dtype: int64\n",
      "\n",
      "\n",
      "region_code\n",
      "1.0      761\n",
      "2.0     1103\n",
      "3.0     1584\n",
      "4.0      933\n",
      "5.0     1481\n",
      "6.0      580\n",
      "7.0      322\n",
      "8.0      117\n",
      "9.0      154\n",
      "10.0     940\n",
      "11.0    1930\n",
      "12.0    1662\n",
      "13.0     799\n",
      "14.0     738\n",
      "15.0     662\n",
      "16.0     974\n",
      "17.0    1830\n",
      "18.0    1217\n",
      "19.0    1134\n",
      "20.0     719\n",
      "21.0     581\n",
      "24.0     118\n",
      "60.0     369\n",
      "80.0     485\n",
      "90.0     353\n",
      "99.0     156\n",
      "dtype: int64\n",
      "\n",
      "\n",
      "district_code\n",
      "0.0        8\n",
      "1.0     4430\n",
      "2.0     4093\n",
      "3.0     3620\n",
      "4.0     3305\n",
      "5.0     1561\n",
      "6.0     1479\n",
      "7.0     1275\n",
      "8.0      369\n",
      "13.0     152\n",
      "23.0     119\n",
      "30.0     349\n",
      "33.0     343\n",
      "43.0     189\n",
      "53.0     268\n",
      "60.0      26\n",
      "62.0      41\n",
      "63.0      69\n",
      "80.0       6\n",
      "dtype: int64\n",
      "\n",
      "\n",
      "lga\n",
      "Arusha Rural    441\n",
      "Arusha Urban     22\n",
      "Babati          185\n",
      "Bagamoyo        373\n",
      "Bahi             79\n",
      "               ... \n",
      "Tunduru         162\n",
      "Ukerewe         130\n",
      "Ulanga          241\n",
      "Urambo          143\n",
      "Uyui            130\n",
      "Length: 125, dtype: int64\n",
      "\n",
      "\n",
      "ward\n",
      "Aghondi          5\n",
      "Akheri          17\n",
      "Arash            1\n",
      "Arri             9\n",
      "Arusha Chini    21\n",
      "                ..\n",
      "Ziwani           8\n",
      "Zoissa           2\n",
      "Zombo           13\n",
      "Zongomera       15\n",
      "Zuzu             6\n",
      "Length: 2017, dtype: int64\n",
      "\n",
      "\n",
      "population\n",
      "0.0        7770\n",
      "1.0        2611\n",
      "2.0           2\n",
      "3.0           1\n",
      "4.0           4\n",
      "           ... \n",
      "8600.0        1\n",
      "8848.0        1\n",
      "9500.0        1\n",
      "9865.0        1\n",
      "15300.0       1\n",
      "Length: 742, dtype: int64\n",
      "\n",
      "\n",
      "public_meeting\n",
      "False     1871\n",
      "True     18579\n",
      "dtype: int64\n",
      "\n",
      "\n",
      "recorded_by\n",
      "GeoData Consultants Ltd    21702\n",
      "dtype: int64\n",
      "\n",
      "\n",
      "scheme_management\n",
      "Company               375\n",
      "Other                 275\n",
      "Parastatal            605\n",
      "Private operator      403\n",
      "SWC                    29\n",
      "Trust                  28\n",
      "VWC                 13452\n",
      "WUA                  1070\n",
      "WUG                  1882\n",
      "Water Board          1008\n",
      "Water authority      1125\n",
      "dtype: int64\n",
      "\n",
      "\n",
      "scheme_name\n",
      "14 Kambarage                    3\n",
      "A                              12\n",
      "ADP                             1\n",
      "ADP Simbo                      10\n",
      "ADRA                            3\n",
      "                               ..\n",
      "wanginyi water supplied sch     3\n",
      "water supply Katungulu          1\n",
      "water supply at Kalebejo        1\n",
      "water supply at Nyakasungwa     3\n",
      "water supply in katungulu       1\n",
      "Length: 2006, dtype: int64\n",
      "\n",
      "\n",
      "permit\n",
      "False     6393\n",
      "True     14190\n",
      "dtype: int64\n",
      "\n",
      "\n",
      "construction_year\n",
      "0.0       7542\n",
      "1960.0      41\n",
      "1961.0       5\n",
      "1962.0      15\n",
      "1963.0      26\n",
      "1964.0      17\n",
      "1965.0       3\n",
      "1966.0       2\n",
      "1967.0      31\n",
      "1968.0      35\n",
      "1969.0      24\n",
      "1970.0     161\n",
      "1971.0      52\n",
      "1972.0     268\n",
      "1973.0      68\n",
      "1974.0     254\n",
      "1975.0     182\n",
      "1976.0     146\n",
      "1977.0      78\n",
      "1978.0     381\n",
      "1979.0      58\n",
      "1980.0     309\n",
      "1981.0      91\n",
      "1982.0     282\n",
      "1983.0     185\n",
      "1984.0     288\n",
      "1985.0     328\n",
      "1986.0     157\n",
      "1987.0     104\n",
      "1988.0     173\n",
      "1989.0     116\n",
      "1990.0     346\n",
      "1991.0     121\n",
      "1992.0     213\n",
      "1993.0     208\n",
      "1994.0     262\n",
      "1995.0     339\n",
      "1996.0     288\n",
      "1997.0     246\n",
      "1998.0     343\n",
      "1999.0     349\n",
      "2000.0     769\n",
      "2001.0     220\n",
      "2002.0     395\n",
      "2003.0     491\n",
      "2004.0     405\n",
      "2005.0     352\n",
      "2006.0     546\n",
      "2007.0     580\n",
      "2008.0     967\n",
      "2009.0     916\n",
      "2010.0    1000\n",
      "2011.0     438\n",
      "2012.0     422\n",
      "2013.0      64\n",
      "dtype: int64\n",
      "\n",
      "\n",
      "extraction_type\n",
      "afridev               655\n",
      "cemo                   34\n",
      "climax                  8\n",
      "gravity              9700\n",
      "india mark ii         864\n",
      "india mark iii         37\n",
      "ksb                   520\n",
      "mono                 1046\n",
      "nira/tanira          3014\n",
      "other                2353\n",
      "other - play pump      31\n",
      "other - rope pump     177\n",
      "other - swn 81         84\n",
      "submersible          1790\n",
      "swn 80               1324\n",
      "walimi                 15\n",
      "windmill               50\n",
      "dtype: int64\n",
      "\n",
      "\n",
      "extraction_type_group\n",
      "afridev             655\n",
      "gravity            9700\n",
      "india mark ii       864\n",
      "india mark iii       37\n",
      "mono               1046\n",
      "nira/tanira        3014\n",
      "other              2353\n",
      "other handpump      130\n",
      "other motorpump      42\n",
      "rope pump           177\n",
      "submersible        2310\n",
      "swn 80             1324\n",
      "wind-powered         50\n",
      "dtype: int64\n",
      "\n",
      "\n",
      "extraction_type_class\n",
      "gravity         9700\n",
      "handpump        6024\n",
      "motorpump       1088\n",
      "other           2353\n",
      "rope pump        177\n",
      "submersible     2310\n",
      "wind-powered      50\n",
      "dtype: int64\n",
      "\n",
      "\n",
      "management\n",
      "company               238\n",
      "other                 309\n",
      "other - school         31\n",
      "parastatal            629\n",
      "private operator      755\n",
      "trust                  33\n",
      "unknown               220\n",
      "vwc                 14736\n",
      "water authority       324\n",
      "water board          1053\n",
      "wua                   945\n",
      "wug                  2429\n",
      "dtype: int64\n",
      "\n",
      "\n",
      "management_group\n",
      "commercial     1350\n",
      "other           340\n",
      "parastatal      629\n",
      "unknown         220\n",
      "user-group    19163\n",
      "dtype: int64\n",
      "\n",
      "\n",
      "payment\n",
      "never pay                9235\n",
      "other                     366\n",
      "pay annually             1316\n",
      "pay monthly              3042\n",
      "pay per bucket           3283\n",
      "pay when scheme fails    1441\n",
      "unknown                  3019\n",
      "dtype: int64\n",
      "\n",
      "\n",
      "payment_type\n",
      "annually      1316\n",
      "monthly       3042\n",
      "never pay     9235\n",
      "on failure    1441\n",
      "other          366\n",
      "per bucket    3283\n",
      "unknown       3019\n",
      "dtype: int64\n",
      "\n",
      "\n",
      "water_quality\n",
      "coloured                188\n",
      "fluoride                 76\n",
      "fluoride abandoned        8\n",
      "milky                   302\n",
      "salty                  1767\n",
      "salty abandoned         149\n",
      "soft                  18497\n",
      "unknown                 715\n",
      "dtype: int64\n",
      "\n",
      "\n",
      "quality_group\n",
      "colored       188\n",
      "fluoride       84\n",
      "good        18497\n",
      "milky         302\n",
      "salty        1916\n",
      "unknown       715\n",
      "dtype: int64\n",
      "\n",
      "\n",
      "quantity\n",
      "dry              2241\n",
      "enough          12015\n",
      "insufficient     5668\n",
      "seasonal         1474\n",
      "unknown           304\n",
      "dtype: int64\n",
      "\n",
      "\n",
      "quantity_group\n",
      "dry              2241\n",
      "enough          12015\n",
      "insufficient     5668\n",
      "seasonal         1474\n",
      "unknown           304\n",
      "dtype: int64\n",
      "\n",
      "\n",
      "source\n",
      "dam                      237\n",
      "hand dtw                 349\n",
      "lake                     300\n",
      "machine dbh             4108\n",
      "other                     66\n",
      "rainwater harvesting     854\n",
      "river                   3506\n",
      "shallow well            6131\n",
      "spring                  6129\n",
      "unknown                   22\n",
      "dtype: int64\n",
      "\n",
      "\n",
      "source_type\n",
      "borehole                4457\n",
      "dam                      237\n",
      "other                     88\n",
      "rainwater harvesting     854\n",
      "river/lake              3806\n",
      "shallow well            6131\n",
      "spring                  6129\n",
      "dtype: int64\n",
      "\n",
      "\n",
      "source_class\n",
      "groundwater    16717\n",
      "surface         4897\n",
      "unknown           88\n",
      "dtype: int64\n",
      "\n",
      "\n",
      "waterpoint_type\n",
      "cattle trough                     41\n",
      "communal standpipe             10382\n",
      "communal standpipe multiple     2242\n",
      "dam                                4\n",
      "hand pump                       6394\n",
      "improved spring                  273\n",
      "other                           2366\n",
      "dtype: int64\n",
      "\n",
      "\n",
      "waterpoint_type_group\n",
      "cattle trough            41\n",
      "communal standpipe    12624\n",
      "dam                       4\n",
      "hand pump              6394\n",
      "improved spring         273\n",
      "other                  2366\n",
      "dtype: int64\n",
      "\n",
      "\n"
     ]
    }
   ],
   "source": [
    "# checking for duplicates\n",
    "for column in x_train.columns:\n",
    "  duplicates = x_train.pivot_table(index=[column], aggfunc='size')\n",
    "  print(duplicates)\n",
    "  print('\\n')"
   ]
  },
  {
   "cell_type": "markdown",
   "metadata": {
    "id": "a0QbVDNX2kbG"
   },
   "source": [
    "In the next step, we are joining the x_train and y_train data on their IDs into one table to ensure that the order of training data is correct. \n",
    "\n",
    "From the previous cell, we notice that ```scheme_name``` has a very high number of null values which may render imputation useless. Hence, we will drop this feature. \n",
    "\n",
    "Here we also convert the ordinal feature ```date_recorded``` from String to Timestamps for imputation later."
   ]
  },
  {
   "cell_type": "code",
   "execution_count": null,
   "metadata": {
    "colab": {
     "base_uri": "https://localhost:8080/"
    },
    "id": "7QvfYiPdYvtS",
    "outputId": "83360211-31d8-40cb-cd15-703cbd6914ae"
   },
   "outputs": [
    {
     "data": {
      "text/html": [
       "<div>\n",
       "<style scoped>\n",
       "    .dataframe tbody tr th:only-of-type {\n",
       "        vertical-align: middle;\n",
       "    }\n",
       "\n",
       "    .dataframe tbody tr th {\n",
       "        vertical-align: top;\n",
       "    }\n",
       "\n",
       "    .dataframe thead th {\n",
       "        text-align: right;\n",
       "    }\n",
       "</style>\n",
       "<table border=\"1\" class=\"dataframe\">\n",
       "  <thead>\n",
       "    <tr style=\"text-align: right;\">\n",
       "      <th></th>\n",
       "      <th>amount_tsh</th>\n",
       "      <th>date_recorded</th>\n",
       "      <th>funder</th>\n",
       "      <th>gps_height</th>\n",
       "      <th>installer</th>\n",
       "      <th>longitude</th>\n",
       "      <th>latitude</th>\n",
       "      <th>wpt_name</th>\n",
       "      <th>num_private</th>\n",
       "      <th>basin</th>\n",
       "      <th>subvillage</th>\n",
       "      <th>region</th>\n",
       "      <th>region_code</th>\n",
       "      <th>district_code</th>\n",
       "      <th>lga</th>\n",
       "      <th>ward</th>\n",
       "      <th>population</th>\n",
       "      <th>public_meeting</th>\n",
       "      <th>scheme_management</th>\n",
       "      <th>permit</th>\n",
       "      <th>construction_year</th>\n",
       "      <th>extraction_type</th>\n",
       "      <th>extraction_type_group</th>\n",
       "      <th>extraction_type_class</th>\n",
       "      <th>management</th>\n",
       "      <th>management_group</th>\n",
       "      <th>payment</th>\n",
       "      <th>payment_type</th>\n",
       "      <th>water_quality</th>\n",
       "      <th>quality_group</th>\n",
       "      <th>quantity</th>\n",
       "      <th>quantity_group</th>\n",
       "      <th>source</th>\n",
       "      <th>source_type</th>\n",
       "      <th>source_class</th>\n",
       "      <th>waterpoint_type</th>\n",
       "      <th>waterpoint_type_group</th>\n",
       "    </tr>\n",
       "  </thead>\n",
       "  <tbody>\n",
       "    <tr>\n",
       "      <th>0</th>\n",
       "      <td>6000.0</td>\n",
       "      <td>1.300061e+09</td>\n",
       "      <td>Roman</td>\n",
       "      <td>1390</td>\n",
       "      <td>Roman</td>\n",
       "      <td>34.938093</td>\n",
       "      <td>-9.856322</td>\n",
       "      <td>none</td>\n",
       "      <td>0</td>\n",
       "      <td>Lake Nyasa</td>\n",
       "      <td>Mnyusi B</td>\n",
       "      <td>Iringa</td>\n",
       "      <td>11.0</td>\n",
       "      <td>5.0</td>\n",
       "      <td>Ludewa</td>\n",
       "      <td>Mundindi</td>\n",
       "      <td>109.0</td>\n",
       "      <td>True</td>\n",
       "      <td>VWC</td>\n",
       "      <td>False</td>\n",
       "      <td>1999.0</td>\n",
       "      <td>gravity</td>\n",
       "      <td>gravity</td>\n",
       "      <td>gravity</td>\n",
       "      <td>vwc</td>\n",
       "      <td>user-group</td>\n",
       "      <td>pay annually</td>\n",
       "      <td>annually</td>\n",
       "      <td>soft</td>\n",
       "      <td>good</td>\n",
       "      <td>enough</td>\n",
       "      <td>enough</td>\n",
       "      <td>spring</td>\n",
       "      <td>spring</td>\n",
       "      <td>groundwater</td>\n",
       "      <td>communal standpipe</td>\n",
       "      <td>communal standpipe</td>\n",
       "    </tr>\n",
       "    <tr>\n",
       "      <th>1</th>\n",
       "      <td>0.0</td>\n",
       "      <td>1.362528e+09</td>\n",
       "      <td>Grumeti</td>\n",
       "      <td>1399</td>\n",
       "      <td>GRUMETI</td>\n",
       "      <td>34.698766</td>\n",
       "      <td>-2.147466</td>\n",
       "      <td>Zahanati</td>\n",
       "      <td>0</td>\n",
       "      <td>Lake Victoria</td>\n",
       "      <td>Nyamara</td>\n",
       "      <td>Mara</td>\n",
       "      <td>20.0</td>\n",
       "      <td>2.0</td>\n",
       "      <td>Serengeti</td>\n",
       "      <td>Natta</td>\n",
       "      <td>280.0</td>\n",
       "      <td>NaN</td>\n",
       "      <td>Other</td>\n",
       "      <td>True</td>\n",
       "      <td>2010.0</td>\n",
       "      <td>gravity</td>\n",
       "      <td>gravity</td>\n",
       "      <td>gravity</td>\n",
       "      <td>wug</td>\n",
       "      <td>user-group</td>\n",
       "      <td>never pay</td>\n",
       "      <td>never pay</td>\n",
       "      <td>soft</td>\n",
       "      <td>good</td>\n",
       "      <td>insufficient</td>\n",
       "      <td>insufficient</td>\n",
       "      <td>rainwater harvesting</td>\n",
       "      <td>rainwater harvesting</td>\n",
       "      <td>surface</td>\n",
       "      <td>communal standpipe</td>\n",
       "      <td>communal standpipe</td>\n",
       "    </tr>\n",
       "    <tr>\n",
       "      <th>2</th>\n",
       "      <td>25.0</td>\n",
       "      <td>1.361750e+09</td>\n",
       "      <td>Lottery Club</td>\n",
       "      <td>686</td>\n",
       "      <td>World vision</td>\n",
       "      <td>37.460664</td>\n",
       "      <td>-3.821329</td>\n",
       "      <td>Kwa Mahundi</td>\n",
       "      <td>0</td>\n",
       "      <td>Pangani</td>\n",
       "      <td>Majengo</td>\n",
       "      <td>Manyara</td>\n",
       "      <td>21.0</td>\n",
       "      <td>4.0</td>\n",
       "      <td>Simanjiro</td>\n",
       "      <td>Ngorika</td>\n",
       "      <td>250.0</td>\n",
       "      <td>True</td>\n",
       "      <td>VWC</td>\n",
       "      <td>True</td>\n",
       "      <td>2009.0</td>\n",
       "      <td>gravity</td>\n",
       "      <td>gravity</td>\n",
       "      <td>gravity</td>\n",
       "      <td>vwc</td>\n",
       "      <td>user-group</td>\n",
       "      <td>pay per bucket</td>\n",
       "      <td>per bucket</td>\n",
       "      <td>soft</td>\n",
       "      <td>good</td>\n",
       "      <td>enough</td>\n",
       "      <td>enough</td>\n",
       "      <td>dam</td>\n",
       "      <td>dam</td>\n",
       "      <td>surface</td>\n",
       "      <td>communal standpipe multiple</td>\n",
       "      <td>communal standpipe</td>\n",
       "    </tr>\n",
       "    <tr>\n",
       "      <th>3</th>\n",
       "      <td>0.0</td>\n",
       "      <td>1.359331e+09</td>\n",
       "      <td>Unicef</td>\n",
       "      <td>263</td>\n",
       "      <td>UNICEF</td>\n",
       "      <td>38.486161</td>\n",
       "      <td>-11.155298</td>\n",
       "      <td>Zahanati Ya Nanyumbu</td>\n",
       "      <td>0</td>\n",
       "      <td>Ruvuma / Southern Coast</td>\n",
       "      <td>Mahakamani</td>\n",
       "      <td>Mtwara</td>\n",
       "      <td>90.0</td>\n",
       "      <td>63.0</td>\n",
       "      <td>Nanyumbu</td>\n",
       "      <td>Nanyumbu</td>\n",
       "      <td>58.0</td>\n",
       "      <td>True</td>\n",
       "      <td>VWC</td>\n",
       "      <td>True</td>\n",
       "      <td>1986.0</td>\n",
       "      <td>submersible</td>\n",
       "      <td>submersible</td>\n",
       "      <td>submersible</td>\n",
       "      <td>vwc</td>\n",
       "      <td>user-group</td>\n",
       "      <td>never pay</td>\n",
       "      <td>never pay</td>\n",
       "      <td>soft</td>\n",
       "      <td>good</td>\n",
       "      <td>dry</td>\n",
       "      <td>dry</td>\n",
       "      <td>machine dbh</td>\n",
       "      <td>borehole</td>\n",
       "      <td>groundwater</td>\n",
       "      <td>communal standpipe multiple</td>\n",
       "      <td>communal standpipe</td>\n",
       "    </tr>\n",
       "    <tr>\n",
       "      <th>4</th>\n",
       "      <td>0.0</td>\n",
       "      <td>1.310515e+09</td>\n",
       "      <td>Action In A</td>\n",
       "      <td>0</td>\n",
       "      <td>Artisan</td>\n",
       "      <td>31.130847</td>\n",
       "      <td>-1.825359</td>\n",
       "      <td>Shuleni</td>\n",
       "      <td>0</td>\n",
       "      <td>Lake Victoria</td>\n",
       "      <td>Kyanyamisa</td>\n",
       "      <td>Kagera</td>\n",
       "      <td>18.0</td>\n",
       "      <td>1.0</td>\n",
       "      <td>Karagwe</td>\n",
       "      <td>Nyakasimbi</td>\n",
       "      <td>0.0</td>\n",
       "      <td>True</td>\n",
       "      <td>NaN</td>\n",
       "      <td>True</td>\n",
       "      <td>0.0</td>\n",
       "      <td>gravity</td>\n",
       "      <td>gravity</td>\n",
       "      <td>gravity</td>\n",
       "      <td>other</td>\n",
       "      <td>other</td>\n",
       "      <td>never pay</td>\n",
       "      <td>never pay</td>\n",
       "      <td>soft</td>\n",
       "      <td>good</td>\n",
       "      <td>seasonal</td>\n",
       "      <td>seasonal</td>\n",
       "      <td>rainwater harvesting</td>\n",
       "      <td>rainwater harvesting</td>\n",
       "      <td>surface</td>\n",
       "      <td>communal standpipe</td>\n",
       "      <td>communal standpipe</td>\n",
       "    </tr>\n",
       "    <tr>\n",
       "      <th>...</th>\n",
       "      <td>...</td>\n",
       "      <td>...</td>\n",
       "      <td>...</td>\n",
       "      <td>...</td>\n",
       "      <td>...</td>\n",
       "      <td>...</td>\n",
       "      <td>...</td>\n",
       "      <td>...</td>\n",
       "      <td>...</td>\n",
       "      <td>...</td>\n",
       "      <td>...</td>\n",
       "      <td>...</td>\n",
       "      <td>...</td>\n",
       "      <td>...</td>\n",
       "      <td>...</td>\n",
       "      <td>...</td>\n",
       "      <td>...</td>\n",
       "      <td>...</td>\n",
       "      <td>...</td>\n",
       "      <td>...</td>\n",
       "      <td>...</td>\n",
       "      <td>...</td>\n",
       "      <td>...</td>\n",
       "      <td>...</td>\n",
       "      <td>...</td>\n",
       "      <td>...</td>\n",
       "      <td>...</td>\n",
       "      <td>...</td>\n",
       "      <td>...</td>\n",
       "      <td>...</td>\n",
       "      <td>...</td>\n",
       "      <td>...</td>\n",
       "      <td>...</td>\n",
       "      <td>...</td>\n",
       "      <td>...</td>\n",
       "      <td>...</td>\n",
       "      <td>...</td>\n",
       "    </tr>\n",
       "    <tr>\n",
       "      <th>21698</th>\n",
       "      <td>0.0</td>\n",
       "      <td>1.350518e+09</td>\n",
       "      <td>World Vision</td>\n",
       "      <td>0</td>\n",
       "      <td>Consuting Engineer</td>\n",
       "      <td>33.013543</td>\n",
       "      <td>-4.196720</td>\n",
       "      <td>Igedeja</td>\n",
       "      <td>0</td>\n",
       "      <td>Internal</td>\n",
       "      <td>Igedeja</td>\n",
       "      <td>Tabora</td>\n",
       "      <td>14.0</td>\n",
       "      <td>1.0</td>\n",
       "      <td>Nzega</td>\n",
       "      <td>Itobo</td>\n",
       "      <td>0.0</td>\n",
       "      <td>True</td>\n",
       "      <td>VWC</td>\n",
       "      <td>False</td>\n",
       "      <td>0.0</td>\n",
       "      <td>nira/tanira</td>\n",
       "      <td>nira/tanira</td>\n",
       "      <td>handpump</td>\n",
       "      <td>vwc</td>\n",
       "      <td>user-group</td>\n",
       "      <td>pay when scheme fails</td>\n",
       "      <td>on failure</td>\n",
       "      <td>soft</td>\n",
       "      <td>good</td>\n",
       "      <td>enough</td>\n",
       "      <td>enough</td>\n",
       "      <td>shallow well</td>\n",
       "      <td>shallow well</td>\n",
       "      <td>groundwater</td>\n",
       "      <td>hand pump</td>\n",
       "      <td>hand pump</td>\n",
       "    </tr>\n",
       "    <tr>\n",
       "      <th>21699</th>\n",
       "      <td>6000.0</td>\n",
       "      <td>1.298419e+09</td>\n",
       "      <td>Twe</td>\n",
       "      <td>1907</td>\n",
       "      <td>TWE</td>\n",
       "      <td>34.727100</td>\n",
       "      <td>-9.650347</td>\n",
       "      <td>none</td>\n",
       "      <td>0</td>\n",
       "      <td>Lake Nyasa</td>\n",
       "      <td>Igomelo</td>\n",
       "      <td>Iringa</td>\n",
       "      <td>11.0</td>\n",
       "      <td>4.0</td>\n",
       "      <td>Njombe</td>\n",
       "      <td>Matola</td>\n",
       "      <td>30.0</td>\n",
       "      <td>True</td>\n",
       "      <td>VWC</td>\n",
       "      <td>True</td>\n",
       "      <td>2007.0</td>\n",
       "      <td>gravity</td>\n",
       "      <td>gravity</td>\n",
       "      <td>gravity</td>\n",
       "      <td>vwc</td>\n",
       "      <td>user-group</td>\n",
       "      <td>pay annually</td>\n",
       "      <td>annually</td>\n",
       "      <td>soft</td>\n",
       "      <td>good</td>\n",
       "      <td>enough</td>\n",
       "      <td>enough</td>\n",
       "      <td>spring</td>\n",
       "      <td>spring</td>\n",
       "      <td>groundwater</td>\n",
       "      <td>communal standpipe</td>\n",
       "      <td>communal standpipe</td>\n",
       "    </tr>\n",
       "    <tr>\n",
       "      <th>21700</th>\n",
       "      <td>0.0</td>\n",
       "      <td>1.311206e+09</td>\n",
       "      <td>Concern World Wide</td>\n",
       "      <td>0</td>\n",
       "      <td>DWE</td>\n",
       "      <td>31.509489</td>\n",
       "      <td>-2.762117</td>\n",
       "      <td>Msasani</td>\n",
       "      <td>0</td>\n",
       "      <td>Lake Tanganyika</td>\n",
       "      <td>Rwembuzi</td>\n",
       "      <td>Kagera</td>\n",
       "      <td>18.0</td>\n",
       "      <td>4.0</td>\n",
       "      <td>Biharamulo</td>\n",
       "      <td>Runazi</td>\n",
       "      <td>0.0</td>\n",
       "      <td>True</td>\n",
       "      <td>VWC</td>\n",
       "      <td>True</td>\n",
       "      <td>0.0</td>\n",
       "      <td>other</td>\n",
       "      <td>other</td>\n",
       "      <td>other</td>\n",
       "      <td>vwc</td>\n",
       "      <td>user-group</td>\n",
       "      <td>never pay</td>\n",
       "      <td>never pay</td>\n",
       "      <td>soft</td>\n",
       "      <td>good</td>\n",
       "      <td>insufficient</td>\n",
       "      <td>insufficient</td>\n",
       "      <td>shallow well</td>\n",
       "      <td>shallow well</td>\n",
       "      <td>groundwater</td>\n",
       "      <td>other</td>\n",
       "      <td>other</td>\n",
       "    </tr>\n",
       "    <tr>\n",
       "      <th>21701</th>\n",
       "      <td>0.0</td>\n",
       "      <td>1.361232e+09</td>\n",
       "      <td>Government Of Tanzania</td>\n",
       "      <td>1295</td>\n",
       "      <td>DWE</td>\n",
       "      <td>35.847184</td>\n",
       "      <td>-4.287547</td>\n",
       "      <td>Kwa Juma Nziga</td>\n",
       "      <td>0</td>\n",
       "      <td>Internal</td>\n",
       "      <td>Chalo A</td>\n",
       "      <td>Manyara</td>\n",
       "      <td>21.0</td>\n",
       "      <td>1.0</td>\n",
       "      <td>Simanjiro</td>\n",
       "      <td>Loibor Siret</td>\n",
       "      <td>120.0</td>\n",
       "      <td>True</td>\n",
       "      <td>Water Board</td>\n",
       "      <td>True</td>\n",
       "      <td>2010.0</td>\n",
       "      <td>gravity</td>\n",
       "      <td>gravity</td>\n",
       "      <td>gravity</td>\n",
       "      <td>vwc</td>\n",
       "      <td>user-group</td>\n",
       "      <td>never pay</td>\n",
       "      <td>never pay</td>\n",
       "      <td>soft</td>\n",
       "      <td>good</td>\n",
       "      <td>insufficient</td>\n",
       "      <td>insufficient</td>\n",
       "      <td>river</td>\n",
       "      <td>river/lake</td>\n",
       "      <td>surface</td>\n",
       "      <td>communal standpipe</td>\n",
       "      <td>communal standpipe</td>\n",
       "    </tr>\n",
       "    <tr>\n",
       "      <th>21702</th>\n",
       "      <td>0.0</td>\n",
       "      <td>1.311120e+09</td>\n",
       "      <td>Hesawa</td>\n",
       "      <td>0</td>\n",
       "      <td>DWE</td>\n",
       "      <td>33.271400</td>\n",
       "      <td>-2.518532</td>\n",
       "      <td>Mperani</td>\n",
       "      <td>0</td>\n",
       "      <td>NaN</td>\n",
       "      <td>NaN</td>\n",
       "      <td>NaN</td>\n",
       "      <td>NaN</td>\n",
       "      <td>NaN</td>\n",
       "      <td>NaN</td>\n",
       "      <td>NaN</td>\n",
       "      <td>NaN</td>\n",
       "      <td>NaN</td>\n",
       "      <td>NaN</td>\n",
       "      <td>NaN</td>\n",
       "      <td>NaN</td>\n",
       "      <td>NaN</td>\n",
       "      <td>NaN</td>\n",
       "      <td>NaN</td>\n",
       "      <td>NaN</td>\n",
       "      <td>NaN</td>\n",
       "      <td>NaN</td>\n",
       "      <td>NaN</td>\n",
       "      <td>NaN</td>\n",
       "      <td>NaN</td>\n",
       "      <td>NaN</td>\n",
       "      <td>NaN</td>\n",
       "      <td>NaN</td>\n",
       "      <td>NaN</td>\n",
       "      <td>NaN</td>\n",
       "      <td>NaN</td>\n",
       "      <td>NaN</td>\n",
       "    </tr>\n",
       "  </tbody>\n",
       "</table>\n",
       "<p>21703 rows × 37 columns</p>\n",
       "</div>"
      ],
      "text/plain": [
       "       amount_tsh  ...  waterpoint_type_group\n",
       "0          6000.0  ...     communal standpipe\n",
       "1             0.0  ...     communal standpipe\n",
       "2            25.0  ...     communal standpipe\n",
       "3             0.0  ...     communal standpipe\n",
       "4             0.0  ...     communal standpipe\n",
       "...           ...  ...                    ...\n",
       "21698         0.0  ...              hand pump\n",
       "21699      6000.0  ...     communal standpipe\n",
       "21700         0.0  ...                  other\n",
       "21701         0.0  ...     communal standpipe\n",
       "21702         0.0  ...                    NaN\n",
       "\n",
       "[21703 rows x 37 columns]"
      ]
     },
     "execution_count": 6,
     "metadata": {
      "tags": []
     },
     "output_type": "execute_result"
    }
   ],
   "source": [
    "# left join the dataframes\n",
    "train = pd.merge(x_train, y_train, left_on='id', right_on='id', how='left')\n",
    "\n",
    "# split into y_train and x_train\n",
    "y_train = train[['status_group']]\n",
    "x_train = train.drop(['status_group', 'id', 'scheme_name', 'recorded_by'], axis=1) # drop scheme_name and recorded_by\n",
    "\n",
    "# since date is a String, we want to represent date as a timestamp \n",
    "x_train.date_recorded = x_train.date_recorded.apply(lambda x: pd.to_datetime(x, errors='coerce').timestamp())\n",
    "x_train"
   ]
  },
  {
   "cell_type": "markdown",
   "metadata": {
    "id": "4pnHPbpB3V_O"
   },
   "source": [
    "## 2. Preprocessing & Features Engineering"
   ]
  },
  {
   "cell_type": "markdown",
   "metadata": {
    "id": "ZCu9AFjn2-2C"
   },
   "source": [
    "In this step, we are trying to find out which of the features are numerical / categorical / binary / ordinal. \n",
    "\n",
    "From the dataframe above, we know that ```public_meeting``` and ```permit``` are binary  features, and ```date_recorded```, ```gps_height``` and ```construction year``` are ordinal features.\n",
    "\n",
    "After which, we seperate the remaining features further into numerical and categorial features.  "
   ]
  },
  {
   "cell_type": "code",
   "execution_count": null,
   "metadata": {
    "id": "Tk0UYJsb7obs"
   },
   "outputs": [],
   "source": [
    "# seperate the features into numerical, binary, ordinal and categorical\n",
    "bin_features = ['public_meeting', 'permit']\n",
    "ord_features = ['date_recorded', 'gps_height', 'construction_year']\n",
    "num_features = x_train.drop(bin_features, axis=1).drop(ord_features, axis=1)._get_numeric_data().columns.values.tolist()\n",
    "cat_features = x_train.drop(num_features, axis=1).drop(bin_features, axis=1).drop(ord_features, axis=1).columns.values.tolist()\n",
    "# cat_features\n",
    "# num_features"
   ]
  },
  {
   "cell_type": "markdown",
   "metadata": {
    "id": "ztQy3f09716y"
   },
   "source": [
    "In our previous attempts, when we tried to perform imputation and one hot encoding on all the features, the resulting matrix (59400, 66178) was too large to perform PCA to reduce the dimensionality. \n",
    "\n",
    "Therefore, in the next step, we will use **SelectKBest** to reduce number of categorical features to be used to train our model. \n",
    "\n",
    "Here we create a categorical feature transformer that imputes missing values with the most_frequent strategy, followed by onehot encoding and finally SelectKBest with `score_func=chi2` and `k=100`.\n",
    "\n",
    "Next, we build a ColumnTransformer to combine the instances of transformers and imputers."
   ]
  },
  {
   "cell_type": "code",
   "execution_count": null,
   "metadata": {
    "id": "_yZ1P-8d1N4m"
   },
   "outputs": [],
   "source": [
    "from sklearn.impute import SimpleImputer\n",
    "from sklearn.preprocessing import OneHotEncoder\n",
    "\n",
    "from sklearn.compose import ColumnTransformer\n",
    "from sklearn.pipeline import Pipeline\n",
    "from sklearn.feature_selection import SelectKBest, chi2"
   ]
  },
  {
   "cell_type": "code",
   "execution_count": null,
   "metadata": {
    "colab": {
     "base_uri": "https://localhost:8080/"
    },
    "id": "PRNLWEpsbmDQ",
    "outputId": "fcf94237-a331-47a9-efae-670a4152b82c"
   },
   "outputs": [
    {
     "data": {
      "text/plain": [
       "<21703x112 sparse matrix of type '<class 'numpy.float64'>'\n",
       "\twith 473617 stored elements in Compressed Sparse Row format>"
      ]
     },
     "execution_count": 9,
     "metadata": {
      "tags": []
     },
     "output_type": "execute_result"
    }
   ],
   "source": [
    "# define the imputers and respective strategies\n",
    "ord_imp = SimpleImputer(missing_values=np.nan, strategy='median')\n",
    "num_imp = SimpleImputer(missing_values=np.nan, strategy='median')\n",
    "bin_imp = SimpleImputer(missing_values=np.nan, strategy='most_frequent')\n",
    "cat_imp = SimpleImputer(missing_values=np.nan, strategy='most_frequent')\n",
    "\n",
    "oh_enc = OneHotEncoder(sparse='false', handle_unknown='ignore')\n",
    "selectkbest = SelectKBest(chi2, k=100)\n",
    "\n",
    "cat_transformer = Pipeline(steps=[('imputer', cat_imp), \n",
    "                                  ('onehot', oh_enc),\n",
    "                                  ('kbest', selectkbest)])\n",
    "\n",
    "imp_oh_transformer = ColumnTransformer(transformers=[('num', num_imp, num_features), \n",
    "                                                     ('bin', bin_imp, bin_features),\n",
    "                                                     ('ord', ord_imp, ord_features),\n",
    "                                                     ('cat', cat_transformer, cat_features)])\n",
    "\n",
    "x_train_imp_f = imp_oh_transformer.fit_transform(x_train, y_train)\n",
    "x_train_imp_f"
   ]
  },
  {
   "cell_type": "markdown",
   "metadata": {
    "id": "XJPL4kpExKHY"
   },
   "source": [
    "In the next step, we are trying to normalize the features after imputation and encoding using the `StandardScaler`. As imputation and encoding results in a sparse matrix, we have to use `with_mean=False` because centering a sparse matrix would use too much memory. \n",
    "\n",
    "Previously we tried to use PCA to reduce the dimensions but PCA does not support sparse matrices. Therefore we decided to use TruncatedSVD instead, with `n_components=100`. \n",
    "\n",
    "After which, we plot an explained variance ratio graph to find the initial optimal number of components. According to the graph, with 60 components, we can explain more than 90% of the variance."
   ]
  },
  {
   "cell_type": "code",
   "execution_count": null,
   "metadata": {
    "id": "p9keMWwv1S_5"
   },
   "outputs": [],
   "source": [
    "from sklearn.preprocessing import StandardScaler\n",
    "import matplotlib.pyplot as plt\n",
    "from sklearn.decomposition import TruncatedSVD"
   ]
  },
  {
   "cell_type": "code",
   "execution_count": null,
   "metadata": {
    "colab": {
     "base_uri": "https://localhost:8080/"
    },
    "id": "FgB-YkoQjs5t",
    "outputId": "35a17413-34e7-4cb0-e4c6-310abbb4109e"
   },
   "outputs": [
    {
     "data": {
      "text/plain": [
       "Text(0, 0.5, 'cumulative explained variance')"
      ]
     },
     "execution_count": 11,
     "metadata": {
      "tags": []
     },
     "output_type": "execute_result"
    },
    {
     "data": {
      "image/png": "[encoded data removed]",
      "text/plain": [
       "<Figure size 432x288 with 1 Axes>"
      ]
     },
     "metadata": {
      "needs_background": "light",
      "tags": []
     },
     "output_type": "display_data"
    }
   ],
   "source": [
    "scaled_x_train = StandardScaler(with_mean=False).fit_transform(x_train_imp_f)\n",
    "scaled_x_train\n",
    "\n",
    "t_svd = TruncatedSVD(n_components=100)\n",
    "t_svd.fit(scaled_x_train, y_train)\n",
    "plt.plot(np.cumsum(t_svd.explained_variance_ratio_))\n",
    "plt.xlabel('number of components')\n",
    "plt.ylabel('cumulative explained variance')"
   ]
  },
  {
   "cell_type": "code",
   "execution_count": null,
   "metadata": {
    "colab": {
     "base_uri": "https://localhost:8080/"
    },
    "id": "zy3hOPo8V4Op",
    "outputId": "38db5eaa-9466-4cd3-ac7f-edd765189b74"
   },
   "outputs": [
    {
     "data": {
      "text/plain": [
       "array([[ 4.59779650e+01, -4.24245235e+00, -1.65412453e+00, ...,\n",
       "         1.71524062e-01,  5.32135460e-02, -2.92526756e-01],\n",
       "       [ 4.77693480e+01, -2.04351787e+00, -3.33757962e-01, ...,\n",
       "        -2.70533081e-01,  2.03384074e-01,  4.97719333e-01],\n",
       "       [ 4.79846213e+01, -2.08047121e+00,  7.42704868e-01, ...,\n",
       "         6.73967016e-02, -5.72835418e-03,  1.89120859e-01],\n",
       "       ...,\n",
       "       [ 4.59785205e+01,  3.95222575e+00,  3.04054439e+00, ...,\n",
       "         1.99148814e-02,  5.54231015e-02,  7.53340761e-02],\n",
       "       [ 4.79685143e+01, -3.18000677e+00, -2.33441396e-01, ...,\n",
       "        -2.35147565e-01,  5.11840558e-01,  1.00145504e-02],\n",
       "       [ 4.62849026e+01, -1.22159103e+00, -1.56465341e+00, ...,\n",
       "         6.52989614e-01, -4.07474991e-02,  6.81856586e-01]])"
      ]
     },
     "execution_count": 12,
     "metadata": {
      "tags": []
     },
     "output_type": "execute_result"
    }
   ],
   "source": [
    "x_train_reduced = TruncatedSVD(n_components=60).fit_transform(scaled_x_train, y_train)\n",
    "x_train_reduced"
   ]
  },
  {
   "cell_type": "markdown",
   "metadata": {
    "id": "9hw8BPPn0b5Q"
   },
   "source": [
    "## 3. Model Building"
   ]
  },
  {
   "cell_type": "markdown",
   "metadata": {
    "id": "AkRoG4arzCq6"
   },
   "source": [
    "In the next step, we are building a pipeline that includes all the steps above to preprocess X values. We then used the pipeline to transform x_test for prediction as well. \n",
    "\n",
    "As we used Timestamps instead of date strings for `date_recorded`, we have to convert for x_test as well. "
   ]
  },
  {
   "cell_type": "code",
   "execution_count": null,
   "metadata": {
    "id": "4h3pigky1YLc"
   },
   "outputs": [],
   "source": [
    "from sklearn.neighbors import KNeighborsClassifier"
   ]
  },
  {
   "cell_type": "code",
   "execution_count": null,
   "metadata": {
    "colab": {
     "base_uri": "https://localhost:8080/"
    },
    "id": "bc9PFlGyaiUV",
    "outputId": "2aebe30d-32a6-4729-e041-9260d448c347"
   },
   "outputs": [
    {
     "data": {
      "text/plain": [
       "(14850, 40)"
      ]
     },
     "execution_count": 14,
     "metadata": {
      "tags": []
     },
     "output_type": "execute_result"
    }
   ],
   "source": [
    "x_test = pd.read_csv('x_test.csv')\n",
    "x_test.date_recorded = x_test.date_recorded.apply(lambda x: pd.to_datetime(x, errors='coerce').timestamp()) # convert to Timestamp\n",
    "\n",
    "preprocess_x = Pipeline(steps=[('impute_encode', imp_oh_transformer),\n",
    "                               ('scaler', StandardScaler(with_mean=False)),\n",
    "                               ('dim_red', TruncatedSVD(n_components=60))])\n",
    "\n",
    "x_train_processed = preprocess_x.fit_transform(x_train, y_train)\n",
    "x_test_processed = preprocess_x.transform(x_test)\n",
    "x_test.shape"
   ]
  },
  {
   "cell_type": "markdown",
   "metadata": {
    "id": "_q1EBcsTzmzl"
   },
   "source": [
    "Here we fit a K Nearest Neighbors model with `n_neighbors=7` as our initial value. Then we used the model to predict `y_pred` using the `x_test_processed`."
   ]
  },
  {
   "cell_type": "code",
   "execution_count": null,
   "metadata": {
    "id": "bhH_OUJAa5sN"
   },
   "outputs": [],
   "source": [
    "M = KNeighborsClassifier(n_neighbors=7).fit(x_train_processed, y_train)\n",
    "\n",
    "status_group = M.predict(x_test_processed)\n",
    "result = pd.DataFrame({'id': x_test.id, 'status_group': status_group}).set_index('id')\n",
    "result.to_csv('y_pred.csv')"
   ]
  },
  {
   "cell_type": "markdown",
   "metadata": {
    "id": "gxvUK8t60JOJ"
   },
   "source": [
    "## 4. First Submission results\n",
    "![Screenshot 2020-10-27 at 2.48.44 PM.png](data:image/png;base64,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)"
   ]
  },
  {
   "cell_type": "markdown",
   "metadata": {
    "id": "6o-YId1O1HYg"
   },
   "source": [
    "## 5. First Submission Improvements"
   ]
  },
  {
   "cell_type": "markdown",
   "metadata": {
    "id": "HRZw8ojs1Q1f"
   },
   "source": [
    "In our first submission, we assumed the following initial parameters:\n",
    "\n",
    "| Step Taken        | Parameter    | Initial Value | Possible Alternative Values |\n",
    "|-------------------|--------------|-------|-----------------------|\n",
    "| SelectKBest       | score_func   | chi2  | chi2, f_classif       |\n",
    "| SelectKBest       | k            | 100   | 100, 1000, 10000      |\n",
    "| TruncatedSVD      | n_components | 60    | 50, 60, 80            |\n",
    "| KNearestNeighbors | n_neighbors  | 7     | 7, 21, 49             |\n",
    "\n",
    "Next, we would like to use GridSeachCV to tune our hyperparameters to improve our model accuracy. We started out with the parameters to get a sense of where we should begin. \n",
    "\n",
    "Here we built a pipeline and then performed 5-fold GridSearchCV with approximately 25% of the training data to minimize running time without compromising results."
   ]
  },
  {
   "cell_type": "code",
   "execution_count": null,
   "metadata": {
    "id": "KCi8Z0bRVLHj"
   },
   "outputs": [],
   "source": [
    "from sklearn.feature_selection import f_classif\n",
    "from sklearn.model_selection import GridSearchCV, cross_val_score"
   ]
  },
  {
   "cell_type": "code",
   "execution_count": null,
   "metadata": {
    "colab": {
     "base_uri": "https://localhost:8080/"
    },
    "id": "3iX3wKiP1QDp",
    "outputId": "29cce686-c276-42c3-8252-a17105b1af6a"
   },
   "outputs": [
    {
     "data": {
      "text/plain": [
       "GridSearchCV(cv=5, error_score=nan,\n",
       "             estimator=Pipeline(memory=None,\n",
       "                                steps=[('preprocess',\n",
       "                                        Pipeline(memory=None,\n",
       "                                                 steps=[('impute_encode',\n",
       "                                                         ColumnTransformer(n_jobs=None,\n",
       "                                                                           remainder='drop',\n",
       "                                                                           sparse_threshold=0.3,\n",
       "                                                                           transformer_weights=None,\n",
       "                                                                           transformers=[('num',\n",
       "                                                                                          SimpleImputer(add_indicator=False,\n",
       "                                                                                                        copy=True,\n",
       "                                                                                                        fill_value=None,\n",
       "                                                                                                        missing_values=nan,\n",
       "                                                                                                        strategy='median',\n",
       "                                                                                                        verbose=...\n",
       "                                                             metric='minkowski',\n",
       "                                                             metric_params=None,\n",
       "                                                             n_jobs=None,\n",
       "                                                             n_neighbors=5, p=2,\n",
       "                                                             weights='uniform'))],\n",
       "                                verbose=False),\n",
       "             iid='deprecated', n_jobs=None,\n",
       "             param_grid={'knn__n_neighbors': [7, 21, 49],\n",
       "                         'preprocess__dim_red__n_components': [50, 60, 80],\n",
       "                         'preprocess__impute_encode__cat__kbest__k': [100, 1000,\n",
       "                                                                      10000]},\n",
       "             pre_dispatch='2*n_jobs', refit=True, return_train_score=False,\n",
       "             scoring=None, verbose=0)"
      ]
     },
     "execution_count": 15,
     "metadata": {
      "tags": []
     },
     "output_type": "execute_result"
    }
   ],
   "source": [
    "final = Pipeline(steps=[('preprocess', preprocess_x),\n",
    "                        ('knn', KNeighborsClassifier())])\n",
    "\n",
    "hyperparameters = {\n",
    "    'preprocess__impute_encode__cat__kbest__k': [100, 1000, 10000],\n",
    "    'preprocess__dim_red__n_components': [50, 60, 80],\n",
    "    'knn__n_neighbors': [7, 21, 49],\n",
    "}\n",
    "\n",
    "est1 = GridSearchCV(final, hyperparameters, cv=5)\n",
    "# for key in est1.get_params().keys():\n",
    "#   print(key + '\\n')\n",
    "est1.fit(x_train[:15000], y_train[:15000])"
   ]
  },
  {
   "cell_type": "code",
   "execution_count": null,
   "metadata": {
    "colab": {
     "base_uri": "https://localhost:8080/"
    },
    "id": "2iJmHVlpHcRD",
    "outputId": "c387b8be-fffb-43c5-ff6e-55279291da6c"
   },
   "outputs": [
    {
     "data": {
      "text/plain": [
       "{'knn__n_neighbors': 7,\n",
       " 'preprocess__dim_red__n_components': 60,\n",
       " 'preprocess__impute_encode__cat__kbest__k': 100}"
      ]
     },
     "execution_count": 16,
     "metadata": {
      "tags": []
     },
     "output_type": "execute_result"
    }
   ],
   "source": [
    "est1.best_params_"
   ]
  },
  {
   "cell_type": "markdown",
   "metadata": {
    "id": "yWjtmxtxelMg"
   },
   "source": [
    "In the next few steps, we tried to tune our hyperparameters on a narrower range as we were curious how far we could go with tuning. \n",
    "\n",
    "We also explored using `f_classif` score function in SelectKBest as compared to using chi square. We quickly realized that chi square resulted in more accurate results and so we stuck with it subsequently."
   ]
  },
  {
   "cell_type": "code",
   "execution_count": null,
   "metadata": {
    "colab": {
     "base_uri": "https://localhost:8080/"
    },
    "id": "1H7N_ftfKkoJ",
    "outputId": "f85882d8-a392-488d-bd4e-c42ca2af00e8"
   },
   "outputs": [
    {
     "data": {
      "text/plain": [
       "GridSearchCV(cv=5, error_score=nan,\n",
       "             estimator=Pipeline(memory=None,\n",
       "                                steps=[('preprocess',\n",
       "                                        Pipeline(memory=None,\n",
       "                                                 steps=[('impute_encode',\n",
       "                                                         ColumnTransformer(n_jobs=None,\n",
       "                                                                           remainder='drop',\n",
       "                                                                           sparse_threshold=0.3,\n",
       "                                                                           transformer_weights=None,\n",
       "                                                                           transformers=[('num',\n",
       "                                                                                          SimpleImputer(add_indicator=False,\n",
       "                                                                                                        copy=True,\n",
       "                                                                                                        fill_value=None,\n",
       "                                                                                                        missing_values=nan,\n",
       "                                                                                                        strategy='median',\n",
       "                                                                                                        verbose=...\n",
       "                                                             metric='minkowski',\n",
       "                                                             metric_params=None,\n",
       "                                                             n_jobs=None,\n",
       "                                                             n_neighbors=5, p=2,\n",
       "                                                             weights='uniform'))],\n",
       "                                verbose=False),\n",
       "             iid='deprecated', n_jobs=None,\n",
       "             param_grid={'knn__n_neighbors': [7, 21, 49],\n",
       "                         'preprocess__dim_red__n_components': [50, 60, 80],\n",
       "                         'preprocess__impute_encode__cat__kbest__k': [100, 1000,\n",
       "                                                                      10000]},\n",
       "             pre_dispatch='2*n_jobs', refit=True, return_train_score=False,\n",
       "             scoring=None, verbose=0)"
      ]
     },
     "execution_count": 17,
     "metadata": {
      "tags": []
     },
     "output_type": "execute_result"
    }
   ],
   "source": [
    "cat_transformer2 = Pipeline(steps=[('imputer', cat_imp), \n",
    "                                  ('onehot', oh_enc),\n",
    "                                  ('kbest', SelectKBest(f_classif))])\n",
    "\n",
    "imp_oh_transformer2 = ColumnTransformer(transformers=[('num', num_imp, num_features), \n",
    "                                                     ('bin', bin_imp, bin_features),\n",
    "                                                     ('ord', ord_imp, ord_features),\n",
    "                                                     ('cat', cat_transformer2, cat_features)])\n",
    "\n",
    "preprocess_x2 = Pipeline(steps=[('impute_encode', imp_oh_transformer2),\n",
    "                               ('scaler', StandardScaler(with_mean=False)),\n",
    "                               ('dim_red', TruncatedSVD())])\n",
    "\n",
    "final2 = Pipeline(steps=[('preprocess', preprocess_x2),\n",
    "                        ('knn', KNeighborsClassifier())])\n",
    "\n",
    "\n",
    "hyperparameters = {\n",
    "    'preprocess__impute_encode__cat__kbest__k': [100, 1000, 10000],\n",
    "    'preprocess__dim_red__n_components': [50, 60, 80],\n",
    "    'knn__n_neighbors': [7, 21, 49],\n",
    "}\n",
    "\n",
    "est2 = GridSearchCV(final2, hyperparameters, cv=5)\n",
    "est2.fit(x_train[:10000], y_train[:10000])"
   ]
  },
  {
   "cell_type": "code",
   "execution_count": null,
   "metadata": {
    "colab": {
     "base_uri": "https://localhost:8080/"
    },
    "id": "zf-Ah5HoNQ9m",
    "outputId": "0e4f7193-6b03-4b60-c01b-fdd6df3adf45"
   },
   "outputs": [
    {
     "data": {
      "text/plain": [
       "{'knn__n_neighbors': 7,\n",
       " 'preprocess__dim_red__n_components': 80,\n",
       " 'preprocess__impute_encode__cat__kbest__k': 100}"
      ]
     },
     "execution_count": 18,
     "metadata": {
      "tags": []
     },
     "output_type": "execute_result"
    }
   ],
   "source": [
    "est2.best_params_"
   ]
  },
  {
   "cell_type": "code",
   "execution_count": null,
   "metadata": {
    "colab": {
     "base_uri": "https://localhost:8080/"
    },
    "id": "6yZ9XN_SOJI7",
    "outputId": "3e9b253b-8e23-4a30-eea8-01fb01ce30f1"
   },
   "outputs": [
    {
     "data": {
      "text/plain": [
       "GridSearchCV(cv=5, error_score=nan,\n",
       "             estimator=Pipeline(memory=None,\n",
       "                                steps=[('preprocess',\n",
       "                                        Pipeline(memory=None,\n",
       "                                                 steps=[('impute_encode',\n",
       "                                                         ColumnTransformer(n_jobs=None,\n",
       "                                                                           remainder='drop',\n",
       "                                                                           sparse_threshold=0.3,\n",
       "                                                                           transformer_weights=None,\n",
       "                                                                           transformers=[('num',\n",
       "                                                                                          SimpleImputer(add_indicator=False,\n",
       "                                                                                                        copy=True,\n",
       "                                                                                                        fill_value=None,\n",
       "                                                                                                        missing_values=nan,\n",
       "                                                                                                        strategy='median',\n",
       "                                                                                                        verbose=...\n",
       "                                                             metric='minkowski',\n",
       "                                                             metric_params=None,\n",
       "                                                             n_jobs=None,\n",
       "                                                             n_neighbors=5, p=2,\n",
       "                                                             weights='uniform'))],\n",
       "                                verbose=False),\n",
       "             iid='deprecated', n_jobs=None,\n",
       "             param_grid={'knn__n_neighbors': [3, 5, 7, 9],\n",
       "                         'preprocess__dim_red__n_components': [75, 80, 85],\n",
       "                         'preprocess__impute_encode__cat__kbest__k': [95, 100,\n",
       "                                                                      105]},\n",
       "             pre_dispatch='2*n_jobs', refit=True, return_train_score=False,\n",
       "             scoring=None, verbose=0)"
      ]
     },
     "execution_count": 20,
     "metadata": {
      "tags": []
     },
     "output_type": "execute_result"
    }
   ],
   "source": [
    "hyperparameters = {\n",
    "    'preprocess__impute_encode__cat__kbest__k': [95, 100, 105],\n",
    "    'preprocess__dim_red__n_components': [75, 80, 85],\n",
    "    'knn__n_neighbors': [3, 5, 7, 9],\n",
    "}\n",
    "\n",
    "est3 = GridSearchCV(final, hyperparameters, cv=5)\n",
    "est3.fit(x_train[:10000], y_train[:10000])"
   ]
  },
  {
   "cell_type": "code",
   "execution_count": null,
   "metadata": {
    "colab": {
     "base_uri": "https://localhost:8080/"
    },
    "id": "O2miZU6yQUdQ",
    "outputId": "65531c49-a3f5-4413-dc6d-19aa8d29f3a8"
   },
   "outputs": [
    {
     "data": {
      "text/plain": [
       "{'knn__n_neighbors': 9,\n",
       " 'preprocess__dim_red__n_components': 80,\n",
       " 'preprocess__impute_encode__cat__kbest__k': 95}"
      ]
     },
     "execution_count": 21,
     "metadata": {
      "tags": []
     },
     "output_type": "execute_result"
    }
   ],
   "source": [
    "est3.best_params_"
   ]
  },
  {
   "cell_type": "markdown",
   "metadata": {
    "id": "AUULOkgphQwB"
   },
   "source": [
    "With the results above, we arrived at these final values for our parameters:\n",
    "\n",
    "| Step Taken        | Parameter    | Final Value |\n",
    "|-------------------|--------------|-------|\n",
    "| SelectKBest       | score_func   | chi2  | \n",
    "| SelectKBest       | k            | 95   |\n",
    "| TruncatedSVD      | n_components | 80    |\n",
    "| KNearestNeighbors | n_neighbors  | 9     |\n",
    "\n",
    "We then created a pipeline and fitted the training dataset. "
   ]
  },
  {
   "cell_type": "code",
   "execution_count": null,
   "metadata": {
    "id": "aqCW17r-SNTS"
   },
   "outputs": [],
   "source": [
    "cat_transformer5 = Pipeline(steps=[('imputer', cat_imp), \n",
    "                                  ('onehot', oh_enc),\n",
    "                                  ('kbest', SelectKBest(chi2, k=95))])\n",
    "\n",
    "imp_oh_transformer5 = ColumnTransformer(transformers=[('num', num_imp, num_features), \n",
    "                                                     ('bin', bin_imp, bin_features),\n",
    "                                                     ('ord', ord_imp, ord_features),\n",
    "                                                     ('cat', cat_transformer5, cat_features)])\n",
    "\n",
    "preprocess_x5 = Pipeline(steps=[('impute_encode', imp_oh_transformer5),\n",
    "                               ('scaler', StandardScaler(with_mean=False)),\n",
    "                               ('dim_red', TruncatedSVD(n_components=80))])\n",
    "\n",
    "final5 = Pipeline(steps=[('preprocess', preprocess_x5),\n",
    "                        ('knn', KNeighborsClassifier(n_neighbors=9))])"
   ]
  },
  {
   "cell_type": "code",
   "execution_count": null,
   "metadata": {
    "colab": {
     "base_uri": "https://localhost:8080/"
    },
    "id": "A6XxEnEKSg09",
    "outputId": "25f54572-ebcf-4f5f-f1f9-1f609bb76e67"
   },
   "outputs": [
    {
     "data": {
      "text/plain": [
       "Pipeline(memory=None,\n",
       "         steps=[('preprocess',\n",
       "                 Pipeline(memory=None,\n",
       "                          steps=[('impute_encode',\n",
       "                                  ColumnTransformer(n_jobs=None,\n",
       "                                                    remainder='drop',\n",
       "                                                    sparse_threshold=0.3,\n",
       "                                                    transformer_weights=None,\n",
       "                                                    transformers=[('num',\n",
       "                                                                   SimpleImputer(add_indicator=False,\n",
       "                                                                                 copy=True,\n",
       "                                                                                 fill_value=None,\n",
       "                                                                                 missing_values=nan,\n",
       "                                                                                 strategy='median',\n",
       "                                                                                 verbose=0),\n",
       "                                                                   ['amount_tsh',\n",
       "                                                                    'longitude',\n",
       "                                                                    'latitude',\n",
       "                                                                    'num...\n",
       "                                                    verbose=False)),\n",
       "                                 ('scaler',\n",
       "                                  StandardScaler(copy=True, with_mean=False,\n",
       "                                                 with_std=True)),\n",
       "                                 ('dim_red',\n",
       "                                  TruncatedSVD(algorithm='randomized',\n",
       "                                               n_components=80, n_iter=5,\n",
       "                                               random_state=None, tol=0.0))],\n",
       "                          verbose=False)),\n",
       "                ('knn',\n",
       "                 KNeighborsClassifier(algorithm='auto', leaf_size=30,\n",
       "                                      metric='minkowski', metric_params=None,\n",
       "                                      n_jobs=None, n_neighbors=9, p=2,\n",
       "                                      weights='uniform'))],\n",
       "         verbose=False)"
      ]
     },
     "execution_count": 17,
     "metadata": {
      "tags": []
     },
     "output_type": "execute_result"
    }
   ],
   "source": [
    "final5.fit(x_train, y_train)"
   ]
  },
  {
   "cell_type": "code",
   "execution_count": null,
   "metadata": {
    "id": "L8eRNq8_Ssz5"
   },
   "outputs": [],
   "source": [
    "status_group = final5.predict(x_test)\n",
    "result = pd.DataFrame({'id': x_test.id, 'status_group': status_group}).set_index('id')\n",
    "result.to_csv('y_pred_best.csv')"
   ]
  },
  {
   "cell_type": "markdown",
   "metadata": {
    "id": "4Ngss-65iNXu"
   },
   "source": [
    "Using the model trained, we used it to predict our y values and our score on datadriven improved.\n",
    "\n",
    "![Screenshot 2020-11-07 at 1.11.43 AM.png](data:image/png;base64,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)"
   ]
  },
  {
   "cell_type": "markdown",
   "metadata": {
    "id": "hhcf7D750XBf"
   },
   "source": [
    "# Part 1: Second Submission"
   ]
  },
  {
   "cell_type": "markdown",
   "metadata": {
    "id": "CqImOrM3a2sq"
   },
   "source": [
    "For our Neural Network submission, we will use the PyTorch library.\n",
    "\n",
    "We started by converting our numpy arrays to pytorch tensors. We used the scaled and processed data from our first submission as a starting point. As NNs can only take in numerical values, we used the LabelEncoder to encode out y_train values. "
   ]
  },
  {
   "cell_type": "code",
   "execution_count": null,
   "metadata": {
    "id": "Ohs2XL7HJEvp"
   },
   "outputs": [],
   "source": [
    "import torch\n",
    "from torch.utils.data import DataLoader"
   ]
  },
  {
   "cell_type": "code",
   "execution_count": null,
   "metadata": {
    "colab": {
     "base_uri": "https://localhost:8080/"
    },
    "id": "HzOxfrT10FWB",
    "outputId": "c1538b9e-ce56-4b11-ff5d-4dd50300af2c"
   },
   "outputs": [
    {
     "name": "stdout",
     "output_type": "stream",
     "text": [
      "torch.Size([59400, 60])\n",
      "torch.Size([59400])\n"
     ]
    }
   ],
   "source": [
    "#from_numpy takes a numpy element and returns torch.tensor\n",
    "\n",
    "from sklearn.preprocessing import LabelEncoder\n",
    "le = LabelEncoder()\n",
    "\n",
    "# x_train_processed = preprocess_x5.fit_transform(x_train, y_train)\n",
    "x_train_tensor = torch.from_numpy(x_train_processed).type(torch.FloatTensor)\n",
    "y_train = y_train[['status_group']]\n",
    "# we have to label encodes the y labels into numbers before converting to tensor\n",
    "y_train_enc = le.fit_transform(y_train)\n",
    "y_train_tensor = torch.from_numpy(y_train_enc).type(torch.LongTensor)\n",
    "# type(x_train_processed)\n",
    "print(x_train_tensor.shape)\n",
    "print(y_train_tensor.shape)"
   ]
  },
  {
   "cell_type": "code",
   "execution_count": null,
   "metadata": {
    "id": "-IzBthenqxbR"
   },
   "outputs": [],
   "source": [
    "import torch.nn as nn\n",
    "import torch.nn.functional as F"
   ]
  },
  {
   "cell_type": "markdown",
   "metadata": {
    "id": "IpI9JarBPGn2"
   },
   "source": [
    "Here, we will be creating a class that holds our Linear layers, our method for the forward step as well as the method to call when predicting results.\n",
    "\n",
    "Inside `forward()`, we use `tanh` activation function in the hidden layer because we want to bring non-linearity into the network, so that it is possible know which weights are to be assigned to the input neurons for better predictions. In addtion, `tanh` is differentiable and exists between -1 and 1.\n",
    "\n",
    "Inside `predict()`, we are applying the `softmax` activation because `softmax` activation distributes the probability throughout each output node. In our case, our classification task is multi-class. Hence, using `softmax` is more suitable in our case. After applying `softmax`, we would then pick the one with the maximum weight and since we have 3 classes, we will get the maxmium of the 3 to correctly assign the predicted label."
   ]
  },
  {
   "cell_type": "code",
   "execution_count": null,
   "metadata": {
    "id": "Qvi2NMMlOioO"
   },
   "outputs": [],
   "source": [
    "class MyNN(nn.Module):\n",
    "  def __init__(self):\n",
    "    super(MyNN,self).__init__()\n",
    "    #Our network consists of 4 layers. 1 input, 2 hidden and 1 output layer\n",
    "    #This applies Linear transformation to input data. \n",
    "    self.fc1 = nn.Linear(60, 10)\n",
    "    self.fc2 = nn.Linear(10, 3)\n",
    "      \n",
    "  #This must be implemented\n",
    "  def forward(self,x):\n",
    "    x = F.tanh(self.fc1(x))\n",
    "    x = self.fc2(x)\n",
    "    # x = F.softmax(x)\n",
    "    return x\n",
    "      \n",
    "  # #This function takes an input and predicts the class, (functional, functional needs repair and non functional)        \n",
    "  def predict(self,x):\n",
    "    #Apply softmax to output because we have 3 classes (functional, functional needs repair and non functional). \n",
    "    pred = F.softmax(self.forward(x))\n",
    "    ans = []\n",
    "    #Pick the class with maximum weight\n",
    "    for t in pred:\n",
    "        if t[0]>t[1] and t[0]>t[2]:\n",
    "          ans.append(0)\n",
    "        elif t[1]>t[2]:\n",
    "          ans.append(1)\n",
    "        else:\n",
    "          ans.append(2)\n",
    "    return torch.tensor(ans)"
   ]
  },
  {
   "cell_type": "markdown",
   "metadata": {
    "id": "EjZbCe-dSnb1"
   },
   "source": [
    "Since our task is a multi-class classification task ( 3 different labels), we would use Cross Entropy Loss as our loss function. This loss function helps to caculate the difference between the real values and the predicted values."
   ]
  },
  {
   "cell_type": "code",
   "execution_count": null,
   "metadata": {
    "id": "AxG94NGiSYsM"
   },
   "outputs": [],
   "source": [
    "#Initialize the model        \n",
    "model = MyNN()\n",
    "#Define loss criterion\n",
    "criterion = nn.CrossEntropyLoss()\n",
    "#Define the optimizer\n",
    "optimizer = torch.optim.SGD(model.parameters(), lr=0.01)"
   ]
  },
  {
   "cell_type": "markdown",
   "metadata": {
    "id": "odRI-Rv-VgPR"
   },
   "source": [
    "We then feed our NN with the x_train and y_train data, to allow the model to compute the loss from the truth and the predicted values. After computation of the loss, the model will then update the gradient values by calling `backward()`. We have to call `zero_grad()` before `backward` so as to not let our gradients accumulate from the running passes. Finally, the optimizer will call `step()` to update the weight values based on the gradient before going to the next loop."
   ]
  },
  {
   "cell_type": "code",
   "execution_count": null,
   "metadata": {
    "id": "kRhWh_ZwTjxd"
   },
   "outputs": [],
   "source": [
    "#Number of epochs\n",
    "epochs = 2\n",
    "#List to store losses\n",
    "losses = []\n",
    "for i in range(epochs):\n",
    "    #Precit the output for Given input\n",
    "    y_pred = model.forward(x_train_tensor)\n",
    "    #Compute Cross entropy loss\n",
    "    loss = criterion(y_pred,y_train_tensor)\n",
    "    #Add loss to the list\n",
    "    losses.append(loss.item())\n",
    "    #Clear the previous gradients\n",
    "    optimizer.zero_grad()\n",
    "    #Compute gradients\n",
    "    loss.backward()\n",
    "    #Adjust weights\n",
    "    optimizer.step()"
   ]
  },
  {
   "cell_type": "markdown",
   "metadata": {
    "id": "2Bzu5Bi_XDmu"
   },
   "source": [
    "After we have trained our NN, we can now use `x_test` data to predict values. We will also scale and preprocess `x_test` before converting it to a pytorch tensor. We will then use it to feed it to our NN"
   ]
  },
  {
   "cell_type": "code",
   "execution_count": null,
   "metadata": {
    "colab": {
     "base_uri": "https://localhost:8080/"
    },
    "id": "DlKXlzFeXS6e",
    "outputId": "c89cb66b-937d-46c0-81cd-524c87e58b53"
   },
   "outputs": [
    {
     "data": {
      "text/plain": [
       "tensor([0, 0, 0,  ..., 0, 0, 0])"
      ]
     },
     "execution_count": 45,
     "metadata": {
      "tags": []
     },
     "output_type": "execute_result"
    }
   ],
   "source": [
    "#Predict and return ans\n",
    "# new_x_test_processed = preprocess_x5.transform(x_test)\n",
    "x_test_tensor = torch.from_numpy(x_test_processed).type(torch.FloatTensor)\n",
    "ans = model.predict(x_test_tensor)\n",
    "ans"
   ]
  },
  {
   "cell_type": "markdown",
   "metadata": {
    "id": "JMh2NLsnXqDv"
   },
   "source": [
    "We will then convert our predicted values back to numpy arrays, and then make use of LabelEncoder to switch the encoded values back to its original label values, which in our case are `functional`, `non functional`, `functional needs repair`."
   ]
  },
  {
   "cell_type": "code",
   "execution_count": null,
   "metadata": {
    "id": "Wda3b1FsYXol"
   },
   "outputs": [],
   "source": [
    "# conver tensor back to numpy array\n",
    "arr = ans.numpy()\n",
    "arr\n",
    "\n",
    "arr = le.inverse_transform(arr)\n",
    "result = pd.DataFrame({'id': x_test.id, 'status_group': arr}).set_index('id')\n",
    "result.to_csv('y_pred_nn.csv')"
   ]
  },
  {
   "cell_type": "markdown",
   "metadata": {
    "id": "oC_QghoDdRII"
   },
   "source": [
    "We got a score of 0.7263\n",
    "\n",
    "![Screenshot 2020-10-31 at 3.21.50 PM.png](data:image/png;base64,iVBORw0KGgoAAAANSUhEUgAAAwkAAAArCAYAAAAzF8QsAAABQmlDQ1BJQ0MgUHJvZmlsZQAAKJFjYGASSCwoyGFhYGDIzSspCnJ3UoiIjFJgf8LAxSDPwMOgzCCXmFxc4BgQ4ANUwgCjUcG3awyMIPqyLsgsqw/c88QVpIsam12WnVx8uAJTPQrgSkktTgbSf4A4ObmgqISBgTEByFYuLykAsVuAbJEioKOA7BkgdjqEvQbEToKwD4DVhAQ5A9lXgGyB5IzEFCD7CZCtk4Qkno7EhtoLApwRxoamCgFB/gTcSjIoSa0oAdHO+QWVRZnpGSUKjsAQSlXwzEvW01EwMjAyYGAAhTdE9ecb4HBkFONAiDUIMjBYewAZbxBiIecZGNZ9YWAQvIUQU/zGwCB6hIHhQEZBYlEi3AGM31iK04yNIGzu7QwMrNP+//8czsDArsnA8Pf6//+/t////3cZAwPzLaDebwDMYl/BeEcrBAAAAFZlWElmTU0AKgAAAAgAAYdpAAQAAAABAAAAGgAAAAAAA5KGAAcAAAASAAAARKACAAQAAAABAAADCaADAAQAAAABAAAAKwAAAABBU0NJSQAAAFNjcmVlbnNob3RsAylWAAAB1WlUWHRYTUw6Y29tLmFkb2JlLnhtcAAAAAAAPHg6eG1wbWV0YSB4bWxuczp4PSJhZG9iZTpuczptZXRhLyIgeDp4bXB0az0iWE1QIENvcmUgNS40LjAiPgogICA8cmRmOlJERiB4bWxuczpyZGY9Imh0dHA6Ly93d3cudzMub3JnLzE5OTkvMDIvMjItcmRmLXN5bnRheC1ucyMiPgogICAgICA8cmRmOkRlc2NyaXB0aW9uIHJkZjphYm91dD0iIgogICAgICAgICAgICB4bWxuczpleGlmPSJodHRwOi8vbnMuYWRvYmUuY29tL2V4aWYvMS4wLyI+CiAgICAgICAgIDxleGlmOlBpeGVsWERpbWVuc2lvbj43Nzc8L2V4aWY6UGl4ZWxYRGltZW5zaW9uPgogICAgICAgICA8ZXhpZjpVc2VyQ29tbWVudD5TY3JlZW5zaG90PC9leGlmOlVzZXJDb21tZW50PgogICAgICAgICA8ZXhpZjpQaXhlbFlEaW1lbnNpb24+NDM8L2V4aWY6UGl4ZWxZRGltZW5zaW9uPgogICAgICA8L3JkZjpEZXNjcmlwdGlvbj4KICAgPC9yZGY6UkRGPgo8L3g6eG1wbWV0YT4KMXHDIwAAFbVJREFUeAHtnQecFMW2hw8LS5KgeAkGENMVTKCoGBAjZn3m+EQx+8w5K+acA0ZMqPgwY0DgqQ9UMKMgoChBxAiSN7Chb3211NgzO9u77C73Lsv//H7DdFfq6m+W6jp1zqluEDkxiQiIgAiIgAiIgAiIgAiIgAgsJZAjEiIgAiIgAiIgAiIgAiIgAiIQJyAlIU5DxyIgAiIgAiIgAiIgAiIgAiYlQX8EIiACIiACIiACIiACIiACaQSkJKTh0IkIiIAIiIAIiIAIiIAIiICUBP0NiIAIiIAIiIAIiIAIiIAIpBGQkpCGQyciIAIiIAIiIAIiIAIiIAJSEvQ3IAIiIAIiIAIiIAIiIAIikEZASkIaDp2IgAiIgAiIgAiIgAiIgAhISdDfgAiIgAiIgAiIgAiIgAiIQBoBKQlpOHQiAiIgAiIgAiIgAiIgAiIgJUF/AyIgAiIgAiIgAiIgAiIgAmkEpCSk4dCJCIiACIiACIiACIiACIiAlAT9DYiACIiACIiACIiACIiACKQRkJKQhkMnIiACIiACIiACIiACIiACjYQgO4G//vrL8vPzba211speoBZS582bZwsWLLA111zTGjWq/KfIy8uz3377zVq2bGlt27Yt14OioiKbNWuWtWrVytq0aVMuXwkiIAIiIAIisDwJLF682D7//HOLoqjcZdq1a2cbb7xxuXQliIAI1E0Clc9M62a/l1uvvvnmGzvnnHNs2rRp/hqrr7669e/f3/bff/8Kr/npp5/a4YcfXmE+GVdddZWdeOKJxkT+ySeftEceecTmzJmTqtOvXz+78MILbZVVVkmlcVBcXGwPPfSQvfrqq6k+kf7DDz94xaK0tNTeeecdGzBggE2YMIEsL2ussYZdeeWVtu+++4YkfYuACIiAlZSUWGFhoTVv3rwcDcYb8jLHIQqSnpOTY7m5ueXqsYBBera8coUTEubPn+8XQbhOktDPJUuWZL2HpHrxvKR7pRztM+FdddVVrUGDBvGq5Y5h07hx47Ry1Oc+KlsAqozdsvSjXMeWIWHRokX+d6/sXitr8umnn7YxY8bY+uuvn1b0q6++st9//9322Wcfu/rqq9PydCICIlA3CUhJiP0uU6dOtQMOOMBQDK677jpr0aKFPfvss3bWWWdZ06ZNrU+fPrHSfx926NDBl/k75e8jBktWVcLKPoPjCy+8YHvvvbfttttuXgl45ZVXvOJQUFBgN998c6oyD6jTTjvNRo8ebfvtt5+/BtdioA0P0U8++cTOOOMM69Kli1177bWGcvD111/b4MGDfToWh2222SbVpg5EQARWTgJYR2+55RZ76623PICtt97aLyRssMEG/vy+++6zu+66y08Ue/bsaffff78/njx5sl8oGT9+vC+311572Q033GDNmjXz1tbzzz/fRo0a5fOOO+44u+iii9Imyz5j6T/ffvutnX766XbUUUf575A3Y8YMO+mkk+yXX37xSXfeeadxnUxh8YZx7rPPPvNZm222mV1++eW2+eab+3Mm/nfccYc9/PDDxngexsnMdiq6V8pNmjTJLr30Uvv555/9xP+5556z9dZbL7OJ1Dk8GYPfe+89Xw7Ol112mR/3KbTLLrvYrbfeag0bNkzV4QBLdRK7qvRj4MCBxu9z2223pbXdo0cPe+aZZ4z7fPfdd9PyONlwww1txIgR/vkDL8rAFuWQ/vLbV1dZQKk55JBD7MADD0y77j333GOdOnWyjz76yP+G11xzTVq+TkRABOogAWcSlCwlcNNNN0XrrLNO5KwJKSYLFy6Mtt1228gpD6m0ZTmgnjOvRm61yFf7448/IjexT2vCWReiLbfc0l+b4yDO2uDTnFIRkrJ+OwtC5CwKaXnuweXrugdqWvrKcjJzbnH02riCxNudm1caPTwqL1pYkM4usVINMvOWlEYjJhVGwycW+lZCH+ln+LwzoSAq+fd0pwZ3oqorIgE3eY0effRRPxYxzlx//fXRBRdc4G9l3Lhxfgz69ddfIzfRjs4888zITTxTeUOHDvVjjFttjtwEMBoyZIjPe+yxxyI34Y/cxDBy7pPRjjvuGDmFISueN954w1+D+g8++GBaGWdJje6++26fxni2jhuHaS9TGD9ph/7TTzfxjJxi4os5103fN2ex9fWdxSSzuj9PutfZs2f78dpNmrPWzWzTLdj4e2aM//HHH30dp4hFTmnwfXSKQOSsuVFoL14/iV1l/Qide/zxx1O/YUjjm+cJHOEUPjB1ikDqHH7nnntudNhhh0VOofLVnbtq2vMv3mZVj/kdneW7XPGQDoPzzjsvcopcuTJKEAERqFsEkm26dVCpWZ5deumll/wKC6tTQbAmsCLC6jwuPssiY8eO9fWwBrDqhmRb2cccvfPOO/t8TL4Iq0y4JG2xxRZ25JFH+rSK/tlkk03Krfp0797dF2/SpElF1ep1+qRfS2zQJwWJ9zg/r9TenlBoiwvL+84mVqxG5rCJS+yYgfPt/vfzbODH+b6FOYsiG/3DktTn5a8KbMCo/H9Lf6pxC6qyghNYbbXV7OSTT/ZjEWMOK8aMawir4LhUYqlkxRuLABZOpFu3bt6SycoyK829evWyiRMn+rxhw4bZscce692MWrdu7ceqt99+2+dl/uMmqb7NrbbaKi0Ldxuuf8wxx/h0xjOnbNj777+fVo4Txk/6Sf/p59prr+3jtMijb7htYoVIkqR7ff755/297rHHHuWaYLX++OOPT0vHiuEm2j4OLGTgdoSLEn3EAs0zBCsxctBBB3nXUI6T2CX1g7pVFfoQPtShb+H8+++/926sDzzwgK277rq+SeLj4s+/ql6nKuVo+8Ybb7Rdd93VeDYOHz68KtVURgRE4D9IQO5GS+EziBMjgBtQpoQJ908//WTBNJ9ZJts5Jm8kPPyylQlp3333nW266ab+4UIa8QX0B9M9QpAzHx6KDPJJgsndrTD5Itkedkl160ten66NbdeNGqfdDqpANs/i5a8imHVuk2M3HNDCxv1cbEO/KfT96rZ2I+u2dstUH28fvthmzSu1lk2z9TJVTAciUCsEcGPs3bu3b4sNEbp27Zpqt2PHjuasCj5+Ie4m49a4bOTIkXb22Wf7smyUgAtJEBQBJoDZJLgE0UZcQmxWfDOGzp07++vHy4VjxmrGS3zccbdhko7gWkQMFnENSZJ0r8SkocTgHoTbEG4zuGWhIBFwy4Q/CItKxIQdfPDBfvIb0qlzxBFH+MBdNqZAcC1Ftt9+e9too438cRK7pH74yrXwD65fKGMEEy8vwX0M9yMEt1dngfLPMBbDUEQlIiACdZtA8myzbve9Vns3d+5c316IHYg3zqoQEh5m8byKjvEn/eCDD/wqW7Y24/Uoh1LgTLCpZOIOEALiiIWYMmVKKu+SSy6xU089Nc3flrgHVgV5uPAQR4h/YBWwvssvbmLd/61FdniPpjb4swJbc9Uc23PjJjbo03wbcFQrmzm3xK54fZHNzy+bnDR09rNTejWzrh3K/vzHTC2y4ZMKjXaYuF+3f9lEYNCnBTbs20JbWBD5ifsZOzW37dbL9daA1s0a2J/OEjDW1W3kXI3P3725bb1Oro2assQe/yg/dS3Yt22RYw8d3coau3LfzCrO+nMUl5qNmVZkJ2xfZnHKWkiJIlBLBNhsgQnbm2++6VtkMsuqd5Bg+WRCHg9iZuGDiTKrwQiKRGa9yibp4Rrhm9ir+DVI5zxMsEO58M3EkzEQX3znCrrMu+Uk3Sv341yyfJwDCgCbWBADwWILcWFBmOATPxbiO0I638SF7bDDDvbaa6/5wGfG4XB/9DtIErukfoT6Nf0mZmN5Kgj0jxiYzN8RnlidJCIgAnWfgJSEpb9RGMiyueeEB6aLT6jyL8qDBsH8nSQ88JxfsF+NO+GEE1JFeUgg17jgLnZFcv7DhiWDIDpWuQiuju+ohAmdXZCCsGKVzQ0p5Nen76KSyH5fUGq46/Tdtql1cZP/cTOLbfbCMqVgrJt8F7q5+TPHt7bG7i++qMSZ3d2EnTrIO04ROL13c6cMlNqdI/NsxpwSyy+ObMgXBXbmzs2tR6dG9pxTGAaMynNKQmubs7jURk4utqO3aWq3H9LC7vq/PHtrfKFXEp53SkqPTrn2P06hcDEPdvKgBdbPTfy5XpJ8Nr3ISlx3em+Ybv1IqqM8EagOAdwmGZeeeuopP6GlDVyRcPsJwsQdCWMfxygUBMPyHayZTIgz6zEBZDwNlgPGqi+++IImsgpbNofrhQKMtVgzcB0iiBbB3YcxjyBiXHVYQGE8xFLLBg6hT6GNir6T7pU22RUOtyAEt08UgbhFFuUBCy/jMtd08QO+LJYHeNBfrL70iYm4i+/witTRRx/ty4V/KmJHflX6EdqhP5kS3Jsy0+PnuJaFYPR4em0e45oW//ugbbbwloiACKwYBNyaqgQCwVqQOaCRFx5gVR3cZs6c6X0999xzz8RdMVwQnvfhZUBHqYi3H2ITMKWzfSorZjwgebAjmNnjcvHFF9v06dO9JeH111/3uylh8g5uR/Gy9fX42v1a+El2u5bpf9brrt7QCooiu3nYYu/qwyS/ae7fLj24AW3RsZFttlaZzrx4SWTT55Q9eJu4pAm/FHvLQGnMS2J7Z1E4wlkuOru2N2jb0BYtjWto3riBt1yMn1VkXzlFBSGtMhk5eYn9s31DayVXo8pQKb8GBNixh3EB33DcaILwPhgXeBtO/VjCJDbsDoS1kwULtm9m0h8EX3bGnSBMimmLsYyd3fhUFKMQ6oT2wsII6VhOmcQSQxHaydzOmQUdF3TrLbzszFNVSbpX3KXigtUkjP8hnWfExx9/7JUWXJP4YGU+9NBDjbGX7arZqYm6KErEpLFNdaZUxI5yVekH5bAEwCfuwsVvQJ8z26B8XNjhCJezYLWO5+lYBERABCCQPptaiZkElyBWgDIlpIWHWWZ+5nmYwPOgqEh4qLAChnWAIDW2MI1LuFbwZQ15rIKhMGBqjz8YQj6rcrgY3Xvvvb5N2l7ZZSvnBnTP4S2tu1MEvphRbOf+70IbManMTzbOJr7ln9ssymfhAvSJ++BedOU+6e+wiNcNx/ts2sSm/OGCpp3lYczUJfbfPZtad+fClCQoMJ/PKLI+XZokFVOeCNSIAJNBVrNxoWF7URYn+LASzUo57jEoEcQ0sRgRtrDENYktPtlIgViBUI/O4ILDvviksZLO1su4R/J/CSWDT/v27RP7zWSfYGTaYUwj1oBr7rTTTj4gOLSDyw6xCGFSyyo/lgSEWK2qStK9oohgkcVlChdUJvzs64/g0olVgck/ilH8w3iNNZdNJojzYPINR/rIlp8hGPjll19Ovc+mInZcK6kf5AdBQUG5Qnmjz7hBuZ2j/O9MP5OE5wgbY7DFN/eCYMEJ29D6hBr+8+GHH3q3W5TM8FkWi3wNL6/qIiACNSSQPHupYeMrUnVeAkQAHitEmRJM5VV5+zKTfwZsJurxlbp4m5ThYcJgzEMoW9xAuBZKRHjAhDaoxwMzPqkNeeGbYENWktj/mgdV3G0glFmZvrEm8DlsS7MLXlroAoiL7J/tKvYBWu8fZXlbdsy13bq4lyQ5WPluMl+ZzPzL+TI5ad8qx3p2zvVWBjdfShRiIpBeG+QmllOmCNSEgNvG1C9K4CPPJwjvbdluu+28Cw3WT4R99lkBR4hDYGWalfK4sDsOK/mMj5SnDAsjYae2eNn4MeNW5tiFi88pp5ziN2+gLC47LIhkCkoC7yAgDgLFhGu9+OKLyzS+sYKOu1C2e0VZIa6LMZmJP4pScDVCQXDbp1b4gspwT9wHlhraoJ/sIhUWjNhJiGuwSUUSu6R+xJmgQLEodcUVV/h3+5BHMHL8fTvx8qGPpHH8xBNP+JiL+G+G9Yb2akN430QIXA7t8WwLlvKQpm8REIG6SaCBW7mpfOZTN/te671iAOfFMqz28NBDWJ0hSA9LAy+fQVgh+vLLL/1uIHEXIfJYwXf7Qftt7rLtlBRXEHg4B79d6sYFkzZKBrsp8RAMwYE8JHm4Maiz2scAzLZ2mfLnn3/6MjzowouOMsvUl3NiCM521oHHj23lg4S5r+Fuy9HHPsy3Iae0tv93wcR3uViDuFy21yq2hpvIx+sR2Nz3qfl2y0EtfFDzI6Pz/RapoV6nNg3t/iNaWv833ZtJnQvRRXuUWRbY1vQnFxx9+8Et7dJXF9mk34p9fAJuTVNnl/hg5P/qVmYlGPx5gb3p4hcG9fs7cO/qoYsMwwVuTxIR+E8SYGzDHz4E2la1LyxE4J9f0zcus8rMtYObU7bru332fcwDY29V4xCytZN0r2FiGx9b4eLeOZC2w1G2dkMaY3jYcjSk8Tzh/uL9TmKXrR+hrczvEJAd73NmmYrOsSbRt6q8XbqiNkI6L03DirH77ruHpHLf9BU3WtyzJCIgAnWXgJSE2G+DGRvTMitUvAmThxDmbHYNYuAL5nf2DycfczGKRRBW0tjmDZcfzM3xB0Eog5kfVyECi8PWqiGPb7YhZBUJIUiQFT9Mymyzx1tJBw0a5FfssEBgKkYpQXnBPI3lAGUCn1RWiDBDY3rO9OX1ja9k/+DSs8DtUtTIOdi1bpZj7HBUFaHePKc8NHMxDLgcJUmmkkFZAqFnLyq1mw+UApDETnkiIAL1gwCuYgMGDMjqDhu/Q9yy4pt1xPN0LAIiUDcIyN0o9jvgO8ve1wQLs5sQwko81oWgIJAWVssyd0IKW96xzV02BYG6KAgIbk3ZXJvYVSMoCX379vWTfnYz4qU9CC5R+MyiICBYPFASKBMXTN3hxTXx9JX1mEDleLByVTlQp0MsyDmpXiunRPCOg6vfWGyd/5FjRS5ueZqzchDgLBEBERCBlYEAC2V8JCIgAis+AVkSKvgNsQrwybaPNB5a7L7B7hRBYaigmVpLxsqBUhJ2YcpsGNM2Adb0DWWnIiUls57Oa5cAlgdemIb1oalTwTu0zrGN2jfyMQ21eyW1JgIiIAIiIAIiIALLj4CUhOXHVi2LgAiIgAiIgAiIgAiIwApJoIqe2SvkvanTIiACIiACIiACIiACIiAC1SAgJaEa0FRFBERABERABERABERABOozASkJ9fnX1b2JgAiIgAiIgAiIgAiIQDUISEmoBjRVEQEREAEREAEREAEREIH6TEBKQn3+dXVvIiACIiACIiACIiACIlANAlISqgFNVURABERABERABERABESgPhOQklCff13dmwiIgAiIgAiIgAiIgAhUg4CUhGpAUxUREAEREAEREAEREAERqM8EpCTU519X9yYCIiACIiACIiACIiAC1SAgJaEa0FRFBERABERABERABERABOozASkJ9fnX1b2JgAiIgAiIgAiIgAiIQDUISEmoBjRVEQEREAEREAEREAEREIH6TOBfEjzHWGKwvcIAAAAASUVORK5CYII=)"
   ]
  },
  {
   "cell_type": "markdown",
   "metadata": {
    "id": "DXF79fBcbxvs"
   },
   "source": [
    "We will now be using Ax to automate the tuning of the hyperparameters"
   ]
  },
  {
   "cell_type": "code",
   "execution_count": null,
   "metadata": {
    "colab": {
     "base_uri": "https://localhost:8080/"
    },
    "id": "h9jmzKJlcLMG",
    "outputId": "ed580a47-b65d-48b5-9ea2-6b20e3cfa137"
   },
   "outputs": [
    {
     "name": "stdout",
     "output_type": "stream",
     "text": [
      "Collecting ax-platform\n",
      "\u001b[?25l  Downloading https://files.pythonhosted.org/packages/c3/e5/defa97540bf23447f15d142a644eed9a9d9fd1925cf1e3c4f47a49282ec0/ax_platform-0.1.9-py3-none-any.whl (499kB)\n",
      "\u001b[K     |████████████████████████████████| 501kB 2.7MB/s \n",
      "\u001b[?25hRequirement already satisfied: scipy in /usr/local/lib/python3.6/dist-packages (from ax-platform) (1.4.1)\n",
      "Collecting botorch==0.2.1\n",
      "\u001b[?25l  Downloading https://files.pythonhosted.org/packages/64/e4/d696b12a84d505e9592fb6f8458a968b19efc22e30cc517dd2d2817e27e4/botorch-0.2.1-py3-none-any.whl (221kB)\n",
      "\u001b[K     |████████████████████████████████| 225kB 8.6MB/s \n",
      "\u001b[?25hRequirement already satisfied: scikit-learn in /usr/local/lib/python3.6/dist-packages (from ax-platform) (0.22.2.post1)\n",
      "Requirement already satisfied: plotly in /usr/local/lib/python3.6/dist-packages (from ax-platform) (4.4.1)\n",
      "Requirement already satisfied: pandas in /usr/local/lib/python3.6/dist-packages (from ax-platform) (1.1.4)\n",
      "Requirement already satisfied: jinja2 in /usr/local/lib/python3.6/dist-packages (from ax-platform) (2.11.2)\n",
      "Requirement already satisfied: numpy>=1.13.3 in /usr/local/lib/python3.6/dist-packages (from scipy->ax-platform) (1.18.5)\n",
      "Collecting gpytorch>=1.0.0\n",
      "\u001b[?25l  Downloading https://files.pythonhosted.org/packages/c4/9d/84ee6a49ce095ae2f218cbb3e23c4c732518482d13620ad35038c8038e79/gpytorch-1.2.1.tar.gz (288kB)\n",
      "\u001b[K     |████████████████████████████████| 296kB 11.7MB/s \n",
      "\u001b[?25hRequirement already satisfied: torch>=1.3.1 in /usr/local/lib/python3.6/dist-packages (from botorch==0.2.1->ax-platform) (1.7.0+cu101)\n",
      "Requirement already satisfied: joblib>=0.11 in /usr/local/lib/python3.6/dist-packages (from scikit-learn->ax-platform) (0.17.0)\n",
      "Requirement already satisfied: retrying>=1.3.3 in /usr/local/lib/python3.6/dist-packages (from plotly->ax-platform) (1.3.3)\n",
      "Requirement already satisfied: six in /usr/local/lib/python3.6/dist-packages (from plotly->ax-platform) (1.15.0)\n",
      "Requirement already satisfied: pytz>=2017.2 in /usr/local/lib/python3.6/dist-packages (from pandas->ax-platform) (2018.9)\n",
      "Requirement already satisfied: python-dateutil>=2.7.3 in /usr/local/lib/python3.6/dist-packages (from pandas->ax-platform) (2.8.1)\n",
      "Requirement already satisfied: MarkupSafe>=0.23 in /usr/local/lib/python3.6/dist-packages (from jinja2->ax-platform) (1.1.1)\n",
      "Requirement already satisfied: future in /usr/local/lib/python3.6/dist-packages (from torch>=1.3.1->botorch==0.2.1->ax-platform) (0.16.0)\n",
      "Requirement already satisfied: dataclasses in /usr/local/lib/python3.6/dist-packages (from torch>=1.3.1->botorch==0.2.1->ax-platform) (0.7)\n",
      "Requirement already satisfied: typing-extensions in /usr/local/lib/python3.6/dist-packages (from torch>=1.3.1->botorch==0.2.1->ax-platform) (3.7.4.3)\n",
      "Building wheels for collected packages: gpytorch\n",
      "  Building wheel for gpytorch (setup.py) ... \u001b[?25l\u001b[?25hdone\n",
      "  Created wheel for gpytorch: filename=gpytorch-1.2.1-py2.py3-none-any.whl size=463973 sha256=a45eabc237926ec620b4bfaf0f664551a44054d9d0ab314bcae7a9bef9c52a1b\n",
      "  Stored in directory: /root/.cache/pip/wheels/2e/d5/dc/0a984c2acc9b35f9860f543c10732442c2cd5719d923236017\n",
      "Successfully built gpytorch\n",
      "Installing collected packages: gpytorch, botorch, ax-platform\n",
      "Successfully installed ax-platform-0.1.9 botorch-0.2.1 gpytorch-1.2.1\n"
     ]
    }
   ],
   "source": [
    "!pip install ax-platform\n",
    "from ax import optimize\n",
    "from torch.utils.data import TensorDataset\n",
    "from torch.utils.data import DataLoader\n",
    "from torch.utils.data import random_split"
   ]
  },
  {
   "cell_type": "markdown",
   "metadata": {
    "id": "P78EEJ9DaIbQ"
   },
   "source": [
    "Here, we have decided to use TensorDataset as both `x_train` and `y_train` can be combined into a single dataset, which makes it easier to iterate over. We then split the entire dataset into the training set and the testing (validation) set.\n",
    "\n",
    "We make use of Dataloader here as it makes it easier to iterate the data through batches."
   ]
  },
  {
   "cell_type": "code",
   "execution_count": null,
   "metadata": {
    "id": "35Io5TGboDO6"
   },
   "outputs": [],
   "source": [
    "# print(x_train_tensor.size(0))\n",
    "# print(y_train_tensor.size(0))\n",
    "dataset = TensorDataset(x_train_tensor, y_train_tensor)\n",
    "\n",
    "trainset, testset = random_split(dataset, [40000, 19400]) # split into training and testing set\n",
    "\n",
    "trainloader = DataLoader(trainset, batch_size=100, shuffle=True, num_workers=2)\n",
    "testloader = DataLoader(testset, batch_size=100, shuffle=True, num_workers=2)"
   ]
  },
  {
   "cell_type": "markdown",
   "metadata": {
    "id": "_vZ3IVzAbTEO"
   },
   "source": [
    "Since we are using Ax to help us automate the process of hyperparameter tuning and it only takes in an evaluation function to determine the best hyperparameters, we will need to come up with the function to optimize.\n",
    "\n",
    "\n",
    "In our function, we take in a set of parameter values, train and return the accuracy rates of the selected parameters used in each round."
   ]
  },
  {
   "cell_type": "code",
   "execution_count": null,
   "metadata": {
    "id": "KQVUnAO8hUCB"
   },
   "outputs": [],
   "source": [
    "## helper train/fit function\n",
    "def train(model, parameterization, trainloader):\n",
    "  optimizer = torch.optim.SGD(model.parameters(), lr=parameterization[\"lr\"], momentum=parameterization[\"momentum\"])\n",
    "  criterion = nn.CrossEntropyLoss()\n",
    "  \n",
    "  #Number of epochs\n",
    "  epochs = 10\n",
    "  #List to store losses\n",
    "  losses = []\n",
    "  for i in range(epochs):\n",
    "    for i, data in enumerate(trainloader, 0):\n",
    "      inputs, labels = data # extracting x_train and y_train from batch\n",
    "\n",
    "      optimizer.zero_grad() # reset the gradient for optimizer\n",
    "\n",
    "      #Predict the output for Given input\n",
    "      y_pred = model.forward(inputs)\n",
    "      #Compute Cross entropy loss\n",
    "      loss = criterion(y_pred,labels)\n",
    "      #Add loss to the list\n",
    "      losses.append(loss.item())\n",
    "      #Compute gradients\n",
    "      loss.backward()\n",
    "      #Adjust weights\n",
    "      optimizer.step()\n",
    "\n",
    "      # end for\n",
    "    # end for\n",
    "\n",
    "  return model\n",
    "\n",
    "            \n",
    "## helper function to evaluate the accuracy for the tested model\n",
    "def evaluate(model, testloader):\n",
    "  correct = 0\n",
    "  total = 0\n",
    "  with torch.no_grad():\n",
    "    for data in testloader:\n",
    "        images, labels = data\n",
    "        outputs = model(images)\n",
    "        _, predicted = torch.max(outputs.data, 1)\n",
    "        total += labels.size(0)\n",
    "        correct += (predicted == labels).sum().item()\n",
    "\n",
    "  print('Accuracy of the network on the 10000 test images: %d %%' % (\n",
    "      100 * correct / total))\n",
    "  return 100 * correct / total\n",
    "  \n",
    "  # correct = 0\n",
    "  # total = 0\n",
    "  # with torch.no_grad():\n",
    "  #     for data in testloader:\n",
    "  #         input, labels = data\n",
    "  #         predicted = model.predict(input)\n",
    "  #         total += labels.size(0) # get total length of tensor\n",
    "          \n",
    "  #         correct = torch.sum(torch.eq(predicted, labels)).item()\n",
    "  #         # # getting number of correct predictions\n",
    "  #         # for i, label in enumerate(labels): \n",
    "  #         #   if label.data[0] == predicted[i].data[0]: correct += 1\n",
    "\n",
    "  # print('Accuracy of the network on the 19400 test data: %d %%' % (\n",
    "  #     100 * correct / total))\n",
    "  # return 100 * correct / total\n",
    "\n",
    "## helper function train-evaluate to pass as the function to be optimized\n",
    "def train_evaluate(parameterization):\n",
    "    model = MyNN()\n",
    "    model = train(model, parameterization, trainloader)\n",
    "    return evaluate(model, testloader)\n",
    "    "
   ]
  },
  {
   "cell_type": "markdown",
   "metadata": {
    "id": "OPgG37C5cLO1"
   },
   "source": [
    "Here is where we set the bounds on the learning rate and momentum and set the parameter space for the learning rate to be on a log scale. We consider the learning rate to be on log scale as we do not want high values of learning rates. High values of learning rate can cause gradient descent to increase, which in turn does not help in reducing the training error.\n",
    "\n",
    "We then run the Ax's `optimize` loop for 10 trials."
   ]
  },
  {
   "cell_type": "code",
   "execution_count": null,
   "metadata": {
    "colab": {
     "base_uri": "https://localhost:8080/"
    },
    "id": "bRJpEgSIvIFE",
    "outputId": "6c0cfdac-63e6-4eeb-ac3a-edcc23368cb1"
   },
   "outputs": [
    {
     "name": "stderr",
     "output_type": "stream",
     "text": [
      "[INFO 10-31 09:19:51] ax.modelbridge.dispatch_utils: Using Bayesian Optimization generation strategy: GenerationStrategy(name='Sobol+GPEI', steps=[Sobol for 5 arms, GPEI for subsequent arms], generated 0 arm(s) so far). Iterations after 5 will take longer to generate due to model-fitting.\n",
      "[INFO 10-31 09:19:51] ax.service.managed_loop: Started full optimization with 10 steps.\n",
      "[INFO 10-31 09:19:51] ax.service.managed_loop: Running optimization trial 1...\n",
      "[INFO 10-31 09:20:03] ax.service.managed_loop: Running optimization trial 2...\n"
     ]
    },
    {
     "name": "stdout",
     "output_type": "stream",
     "text": [
      "Accuracy of the network on the 10000 test images: 72 %\n"
     ]
    },
    {
     "name": "stderr",
     "output_type": "stream",
     "text": [
      "[INFO 10-31 09:20:15] ax.service.managed_loop: Running optimization trial 3...\n"
     ]
    },
    {
     "name": "stdout",
     "output_type": "stream",
     "text": [
      "Accuracy of the network on the 10000 test images: 54 %\n"
     ]
    },
    {
     "name": "stderr",
     "output_type": "stream",
     "text": [
      "[INFO 10-31 09:20:27] ax.service.managed_loop: Running optimization trial 4...\n"
     ]
    },
    {
     "name": "stdout",
     "output_type": "stream",
     "text": [
      "Accuracy of the network on the 10000 test images: 37 %\n"
     ]
    },
    {
     "name": "stderr",
     "output_type": "stream",
     "text": [
      "[INFO 10-31 09:20:39] ax.service.managed_loop: Running optimization trial 5...\n"
     ]
    },
    {
     "name": "stdout",
     "output_type": "stream",
     "text": [
      "Accuracy of the network on the 10000 test images: 54 %\n"
     ]
    },
    {
     "name": "stderr",
     "output_type": "stream",
     "text": [
      "[INFO 10-31 09:20:51] ax.service.managed_loop: Running optimization trial 6...\n"
     ]
    },
    {
     "name": "stdout",
     "output_type": "stream",
     "text": [
      "Accuracy of the network on the 10000 test images: 71 %\n"
     ]
    },
    {
     "name": "stderr",
     "output_type": "stream",
     "text": [
      "[INFO 10-31 09:21:03] ax.service.managed_loop: Running optimization trial 7...\n"
     ]
    },
    {
     "name": "stdout",
     "output_type": "stream",
     "text": [
      "Accuracy of the network on the 10000 test images: 71 %\n"
     ]
    },
    {
     "name": "stderr",
     "output_type": "stream",
     "text": [
      "[INFO 10-31 09:21:15] ax.service.managed_loop: Running optimization trial 8...\n"
     ]
    },
    {
     "name": "stdout",
     "output_type": "stream",
     "text": [
      "Accuracy of the network on the 10000 test images: 72 %\n"
     ]
    },
    {
     "name": "stderr",
     "output_type": "stream",
     "text": [
      "[INFO 10-31 09:21:27] ax.service.managed_loop: Running optimization trial 9...\n"
     ]
    },
    {
     "name": "stdout",
     "output_type": "stream",
     "text": [
      "Accuracy of the network on the 10000 test images: 61 %\n"
     ]
    },
    {
     "name": "stderr",
     "output_type": "stream",
     "text": [
      "[INFO 10-31 09:21:41] ax.service.managed_loop: Running optimization trial 10...\n"
     ]
    },
    {
     "name": "stdout",
     "output_type": "stream",
     "text": [
      "Accuracy of the network on the 10000 test images: 72 %\n",
      "Accuracy of the network on the 10000 test images: 54 %\n"
     ]
    }
   ],
   "source": [
    "best_parameters, values, experiment, model = optimize(\n",
    "    parameters=[\n",
    "        {\"name\": \"lr\", \"type\": \"range\", \"bounds\": [1e-6, 0.4], \"log_scale\": True},\n",
    "        {\"name\": \"momentum\", \"type\": \"range\", \"bounds\": [0.0, 1.0]},\n",
    "    ],\n",
    "    evaluation_function=train_evaluate,\n",
    "    objective_name='accuracy',\n",
    "    total_trials=10\n",
    ")"
   ]
  },
  {
   "cell_type": "markdown",
   "metadata": {
    "id": "ULUoRFlshvhw"
   },
   "source": [
    "Thes are the best parameters that we have gotten:\n",
    "\n",
    "`learning rate`: 0.027720634003997564,\n",
    "`momentum`: 0.21422918643325364"
   ]
  },
  {
   "cell_type": "code",
   "execution_count": null,
   "metadata": {
    "colab": {
     "base_uri": "https://localhost:8080/"
    },
    "id": "A7TDVljixK0E",
    "outputId": "1a6d7215-e746-4441-953f-62f45ce9f241"
   },
   "outputs": [
    {
     "data": {
      "text/plain": [
       "{'lr': 0.027720634003997564, 'momentum': 0.21422918643325364}"
      ]
     },
     "execution_count": 87,
     "metadata": {
      "tags": []
     },
     "output_type": "execute_result"
    }
   ],
   "source": [
    "# these are the best parameters that we have gotten from the automated hyperparameter tuning\n",
    "best_parameters"
   ]
  },
  {
   "cell_type": "markdown",
   "metadata": {
    "id": "chRWpo56rSNh"
   },
   "source": [
    "We refactored our NN class here without the `predict()` this time. We placed the `softmax` as the last step in `forward()` before calling `convert_pred()` to get the maxmium weight to assign the predicted label."
   ]
  },
  {
   "cell_type": "code",
   "execution_count": null,
   "metadata": {
    "id": "-QQ6F7BarPpZ"
   },
   "outputs": [],
   "source": [
    "class MyNN(nn.Module):\n",
    "  def __init__(self):\n",
    "    super(MyNN,self).__init__()\n",
    "    #Our network consists of 4 layers. 1 input, 2 hidden and 1 output layer\n",
    "    #This applies Linear transformation to input data. \n",
    "    self.fc1 = nn.Linear(60, 10)\n",
    "    self.fc2 = nn.Linear(10, 3)\n",
    "      \n",
    "  #This must be implemented\n",
    "  def forward(self,x):\n",
    "    x = F.tanh(self.fc1(x))\n",
    "    x = self.fc2(x)\n",
    "    x = F.softmax(x)\n",
    "    return x"
   ]
  },
  {
   "cell_type": "code",
   "execution_count": null,
   "metadata": {
    "id": "2izszqsR3kZx"
   },
   "outputs": [],
   "source": [
    "def convert_pred(pred):\n",
    "  ans = []\n",
    "  #Pick the class with maximum weight\n",
    "  for t in pred:\n",
    "      if t[0]>t[1] and t[0]>t[2]:\n",
    "        ans.append(0)\n",
    "      elif t[1]>t[2]:\n",
    "        ans.append(1)\n",
    "      else:\n",
    "        ans.append(2)\n",
    "  return ans"
   ]
  },
  {
   "cell_type": "markdown",
   "metadata": {
    "id": "jruEWcSDcqVX"
   },
   "source": [
    "We then make use of the best parameters that we have gotten from the automated hyperparamter tuning to train our NN.\n",
    "\n",
    "Similarly, We will then convert our predicted values back to numpy arrays."
   ]
  },
  {
   "cell_type": "code",
   "execution_count": null,
   "metadata": {
    "colab": {
     "base_uri": "https://localhost:8080/"
    },
    "id": "ngIm6xb_3A6l",
    "outputId": "81fe36c8-07a6-4d94-9cca-ddbf8aff6239"
   },
   "outputs": [
    {
     "data": {
      "text/plain": [
       "array([2, 0, 2, ..., 0, 0, 2])"
      ]
     },
     "execution_count": 87,
     "metadata": {
      "tags": []
     },
     "output_type": "execute_result"
    }
   ],
   "source": [
    "#Initialize the model        \n",
    "model = MyNN()\n",
    "#Define loss criterion\n",
    "criterion = nn.CrossEntropyLoss()\n",
    "#Define the optimizer\n",
    "optimizer = torch.optim.SGD(model.parameters(), lr=0.027720634003997564, momentum=0.21422918643325364)\n",
    "\n",
    "#Number of epochs\n",
    "epochs = 1000\n",
    "#List to store losses\n",
    "losses = []\n",
    "for i in range(epochs):\n",
    "    #Precit the output for Given input\n",
    "    y_pred = model.forward(x_train_tensor)\n",
    "    #Compute Cross entropy loss\n",
    "    loss = criterion(y_pred,y_train_tensor)\n",
    "    #Add loss to the list\n",
    "    losses.append(loss.item())\n",
    "    #Clear the previous gradients\n",
    "    optimizer.zero_grad()\n",
    "    #Compute gradients\n",
    "    loss.backward()\n",
    "    #Adjust weights\n",
    "    optimizer.step()\n",
    "\n",
    "#Predict and return ans\n",
    "x_test_tensor = torch.from_numpy(x_test_processed).type(torch.FloatTensor)\n",
    "ans = np.asarray(convert_pred(model(x_test_tensor)))\n",
    "ans"
   ]
  },
  {
   "cell_type": "markdown",
   "metadata": {
    "id": "Gv0mXz_eqils"
   },
   "source": [
    "We then make use of LabelEncoder to switch the encoded values back to its original label values, which in our case are `functional`, `non functional`, `functional needs repair`."
   ]
  },
  {
   "cell_type": "code",
   "execution_count": null,
   "metadata": {
    "id": "MPoH3eB8gCL2"
   },
   "outputs": [],
   "source": [
    "status_group_nnpred = le.inverse_transform(ans)\n",
    "result = pd.DataFrame({'id': x_test.id, 'status_group': status_group_nnpred}).set_index('id')\n",
    "result.to_csv('y_pred.csv')"
   ]
  },
  {
   "cell_type": "markdown",
   "metadata": {
    "id": "6yua8_Lu-X5q"
   },
   "source": [
    "We obtained a score of 0.7244 from the usage of Neural Network and automated hyperparameter tuning \n",
    "![Screenshot 2020-11-06 170559.jpg](data:image/jpeg;base64,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)"
   ]
  }
 ],
 "metadata": {
  "colab": {
   "collapsed_sections": [
    "6Esdf3kR0oQb",
    "X2AeL43oE031",
    "4pnHPbpB3V_O",
    "9hw8BPPn0b5Q"
   ],
   "name": "IS4242 Project.ipynb",
   "provenance": [],
   "toc_visible": true
  },
  "kernelspec": {
   "display_name": "Python 3",
   "language": "python",
   "name": "python3"
  },
  "language_info": {
   "codemirror_mode": {
    "name": "ipython",
    "version": 3
   },
   "file_extension": ".py",
   "mimetype": "text/x-python",
   "name": "python",
   "nbconvert_exporter": "python",
   "pygments_lexer": "ipython3",
   "version": "3.8.3"
  }
 },
 "nbformat": 4,
 "nbformat_minor": 1
}
